{
 "cells": [
  {
   "cell_type": "code",
   "execution_count": null,
   "metadata": {},
   "outputs": [],
   "source": [
    "Collection Related Data Types:list(),tuple(),set(),dict{}"
   ]
  },
  {
   "cell_type": "code",
   "execution_count": null,
   "metadata": {},
   "outputs": [],
   "source": [
    "# If we want to represent a group of individual objects as a single entiy where insertion order is preserved and suplicatet order is allowed we must go with list data types()"
   ]
  },
  {
   "cell_type": "code",
   "execution_count": null,
   "metadata": {},
   "outputs": [],
   "source": [
    "LIST DATA TYPES:\n",
    "1.Insertion order is preserved\n",
    "2.Duplicate objects are allowed.\n",
    "3.Heterogeneous objects are allowed.\n",
    "4.Dynamically Typed(Increses & Decreases)\n",
    "5.It is Mutable.\n",
    "6.Indexing & Slicing is applicable.\n",
    "7.Positive & Negative Index is allowed."
   ]
  },
  {
   "cell_type": "code",
   "execution_count": 4,
   "metadata": {},
   "outputs": [
    {
     "name": "stdout",
     "output_type": "stream",
     "text": [
      "Enter any list:10,20,30\n",
      "<class 'tuple'>\n",
      "(10, 20, 30)\n"
     ]
    }
   ],
   "source": [
    "\n",
    "# Type casting of a list.\n",
    "\n",
    "l=eval(input('Enter any list:'))\n",
    "print(type(l))\n",
    "print(l)"
   ]
  },
  {
   "cell_type": "code",
   "execution_count": null,
   "metadata": {},
   "outputs": [],
   "source": []
  },
  {
   "cell_type": "code",
   "execution_count": 2,
   "metadata": {},
   "outputs": [
    {
     "name": "stdout",
     "output_type": "stream",
     "text": [
      "<class 'list'>\n"
     ]
    }
   ],
   "source": [
    "l=[10,20,30,40]\n",
    "print(type(l))"
   ]
  },
  {
   "cell_type": "code",
   "execution_count": 21,
   "metadata": {},
   "outputs": [
    {
     "name": "stdout",
     "output_type": "stream",
     "text": [
      "[0, 1, 2, 3, 4, 5, 6, 7, 8, 9]\n"
     ]
    }
   ],
   "source": [
    "l=list(range(10))\n",
    "print(l)"
   ]
  },
  {
   "cell_type": "code",
   "execution_count": 1,
   "metadata": {},
   "outputs": [
    {
     "name": "stdout",
     "output_type": "stream",
     "text": [
      "<class 'list'>\n",
      "[1, 3, 5, 7, 9]\n"
     ]
    }
   ],
   "source": [
    "l=list[range(1,11,2)}\n",
    "print(type(l))\n",
    "print(l)"
   ]
  },
  {
   "cell_type": "code",
   "execution_count": null,
   "metadata": {},
   "outputs": [],
   "source": [
    "The split() in a string is always a list data-type"
   ]
  },
  {
   "cell_type": "code",
   "execution_count": 23,
   "metadata": {},
   "outputs": [
    {
     "name": "stdout",
     "output_type": "stream",
     "text": [
      "['learning', 'python', 'is', 'very', 'easy']\n",
      "<class 'list'>\n"
     ]
    }
   ],
   "source": [
    "s='learning python is very easy'\n",
    "l=s.split()\n",
    "print(l)\n",
    "print(type(l))"
   ]
  },
  {
   "cell_type": "code",
   "execution_count": null,
   "metadata": {},
   "outputs": [],
   "source": [
    "Accessing The elements in a list:Indexing"
   ]
  },
  {
   "cell_type": "code",
   "execution_count": 2,
   "metadata": {},
   "outputs": [
    {
     "name": "stdout",
     "output_type": "stream",
     "text": [
      "10\n",
      "40\n"
     ]
    },
    {
     "ename": "IndexError",
     "evalue": "list index out of range",
     "output_type": "error",
     "traceback": [
      "\u001b[1;31m---------------------------------------------------------------------------\u001b[0m",
      "\u001b[1;31mIndexError\u001b[0m                                Traceback (most recent call last)",
      "\u001b[1;32m<ipython-input-2-576dfdd80cce>\u001b[0m in \u001b[0;36m<module>\u001b[1;34m\u001b[0m\n\u001b[0;32m      2\u001b[0m \u001b[0mprint\u001b[0m\u001b[1;33m(\u001b[0m\u001b[0ml\u001b[0m\u001b[1;33m[\u001b[0m\u001b[1;36m0\u001b[0m\u001b[1;33m]\u001b[0m\u001b[1;33m)\u001b[0m\u001b[1;33m\u001b[0m\u001b[1;33m\u001b[0m\u001b[0m\n\u001b[0;32m      3\u001b[0m \u001b[0mprint\u001b[0m\u001b[1;33m(\u001b[0m\u001b[0ml\u001b[0m\u001b[1;33m[\u001b[0m\u001b[1;33m-\u001b[0m\u001b[1;36m2\u001b[0m\u001b[1;33m]\u001b[0m\u001b[1;33m)\u001b[0m\u001b[1;33m\u001b[0m\u001b[1;33m\u001b[0m\u001b[0m\n\u001b[1;32m----> 4\u001b[1;33m \u001b[0mprint\u001b[0m\u001b[1;33m(\u001b[0m\u001b[0ml\u001b[0m\u001b[1;33m[\u001b[0m\u001b[1;36m100\u001b[0m\u001b[1;33m]\u001b[0m\u001b[1;33m)\u001b[0m\u001b[1;33m\u001b[0m\u001b[1;33m\u001b[0m\u001b[0m\n\u001b[0m",
      "\u001b[1;31mIndexError\u001b[0m: list index out of range"
     ]
    }
   ],
   "source": [
    "l=[10,20,30,40,50]\n",
    "print(l[0])\n",
    "print(l[-2])\n",
    "print(l[100])  #Index is allowed from begin to end-1 only"
   ]
  },
  {
   "cell_type": "code",
   "execution_count": null,
   "metadata": {},
   "outputs": [],
   "source": [
    "By Slice Operator:"
   ]
  },
  {
   "cell_type": "code",
   "execution_count": null,
   "metadata": {},
   "outputs": [],
   "source": [
    "1.l[begin:end:step]\n",
    "\n",
    "in forward direction from begin to end-1\n",
    "in reverse direction from begin to end+1\n",
    "\n",
    "2.Slice operator never retuns any <index Error>\n",
    "\n",
    "3.list,tuple,string ===>Indexing & Slicing is applicable\n",
    "  set.dict          ===>Indexing & slicing isn't applicable.\n",
    "\n"
   ]
  },
  {
   "cell_type": "code",
   "execution_count": 3,
   "metadata": {},
   "outputs": [
    {
     "name": "stdout",
     "output_type": "stream",
     "text": [
      "['e', 'g', 'i', 'k', 'm', 'o', 'q', 's', 'u', 'w', 'y']\n"
     ]
    }
   ],
   "source": [
    "l=list('abcdefghijklmnopqrstuvwxyz')\n",
    "print(l[4::2])"
   ]
  },
  {
   "cell_type": "code",
   "execution_count": null,
   "metadata": {},
   "outputs": [],
   "source": [
    "LIST Vs MUTABILITY"
   ]
  },
  {
   "cell_type": "code",
   "execution_count": 4,
   "metadata": {},
   "outputs": [
    {
     "name": "stdout",
     "output_type": "stream",
     "text": [
      "[10, 20, 30, 40]\n",
      "[7777, 20, 30, 40]\n"
     ]
    }
   ],
   "source": [
    "l=[10,20,30,40]\n",
    "print(l)\n",
    "l[0]=7777\n",
    "print(l)"
   ]
  },
  {
   "cell_type": "code",
   "execution_count": null,
   "metadata": {},
   "outputs": [],
   "source": [
    "Traversing of elements in a string:"
   ]
  },
  {
   "cell_type": "code",
   "execution_count": null,
   "metadata": {},
   "outputs": [],
   "source": [
    "#Q Display all the elements in a given string with the help of Foor Loop:"
   ]
  },
  {
   "cell_type": "code",
   "execution_count": 6,
   "metadata": {},
   "outputs": [
    {
     "name": "stdout",
     "output_type": "stream",
     "text": [
      "10\n",
      "20\n",
      "30\n",
      "40\n",
      "50\n",
      "60\n",
      "70\n",
      "80\n",
      "90\n",
      "100\n"
     ]
    }
   ],
   "source": [
    "l=[10,20,30,40,50,60,70,80,90,100]\n",
    "i=0\n",
    "while i < len(l):\n",
    "    print(l[i])\n",
    "    i=i+1"
   ]
  },
  {
   "cell_type": "code",
   "execution_count": null,
   "metadata": {},
   "outputs": [],
   "source": [
    "By The help of For Loop:"
   ]
  },
  {
   "cell_type": "code",
   "execution_count": 7,
   "metadata": {},
   "outputs": [
    {
     "name": "stdout",
     "output_type": "stream",
     "text": [
      "10\n",
      "20\n",
      "30\n",
      "40\n",
      "50\n",
      "60\n",
      "70\n",
      "80\n",
      "90\n",
      "100\n"
     ]
    }
   ],
   "source": [
    "l=[10,20,30,40,50,60,70,80,90,100]\n",
    "for x in l:    #For each element in list (l)\n",
    "    print(x)   # Print the values of x"
   ]
  },
  {
   "cell_type": "code",
   "execution_count": null,
   "metadata": {},
   "outputs": [],
   "source": [
    "#Q WAP to dispaly the even numbers in a given string. "
   ]
  },
  {
   "cell_type": "code",
   "execution_count": 11,
   "metadata": {},
   "outputs": [
    {
     "name": "stdout",
     "output_type": "stream",
     "text": [
      "0\n",
      "2\n",
      "4\n",
      "6\n",
      "8\n",
      "10\n"
     ]
    }
   ],
   "source": [
    "l=[0,1,2,3,4,5,6,7,8,9,10]\n",
    "for x in l:\n",
    "    if x%2 == 0:\n",
    "        print(x)\n",
    "        \n",
    "            "
   ]
  },
  {
   "cell_type": "code",
   "execution_count": null,
   "metadata": {},
   "outputs": [],
   "source": [
    "#Q WAP to dispaly the odd numbers in a given string. "
   ]
  },
  {
   "cell_type": "code",
   "execution_count": 14,
   "metadata": {},
   "outputs": [
    {
     "name": "stdout",
     "output_type": "stream",
     "text": [
      "1\n",
      "3\n",
      "5\n",
      "7\n",
      "9\n"
     ]
    }
   ],
   "source": [
    "l=[0,1,2,3,4,5,6,7,8,9,10]\n",
    "for x in l:\n",
    "    if x%2 != 0:\n",
    "        print(x)"
   ]
  },
  {
   "cell_type": "code",
   "execution_count": null,
   "metadata": {},
   "outputs": [],
   "source": [
    "# Print the objects in a string in accordance with their indexs."
   ]
  },
  {
   "cell_type": "code",
   "execution_count": 16,
   "metadata": {},
   "outputs": [
    {
     "name": "stdout",
     "output_type": "stream",
     "text": [
      "The elemants present at +ve index:0 and _ve Index:-4 is 10\n",
      "The elemants present at +ve index:1 and _ve Index:-3 is 20\n",
      "The elemants present at +ve index:2 and _ve Index:-2 is 30\n",
      "The elemants present at +ve index:3 and _ve Index:-1 is 40\n"
     ]
    }
   ],
   "source": [
    "l=[10,20,30,40]\n",
    "i=0                 #-ve index=+veindex-lenghth() in this case:+ve index=3 & length =4 so 3-4==-1\n",
    "while i < len(l):\n",
    "    print('The elemants present at +ve index:{} and _ve Index:{} is {}'.format(i,i-len(l),l[i])) \n",
    "    i=i+1"
   ]
  },
  {
   "cell_type": "code",
   "execution_count": null,
   "metadata": {},
   "outputs": [],
   "source": [
    "Important Functions and methods of List:\n"
   ]
  },
  {
   "cell_type": "code",
   "execution_count": null,
   "metadata": {},
   "outputs": [],
   "source": [
    "#Q What is the diffrence in between function & a string?\n",
    "\n",
    "#A:Funtions are procedure oriented while methods are object oriented.\n",
    "#Funtiones are defined outside of a class while method is defined inside of a class."
   ]
  },
  {
   "cell_type": "code",
   "execution_count": 4,
   "metadata": {},
   "outputs": [
    {
     "name": "stdout",
     "output_type": "stream",
     "text": [
      "f1 function\n",
      "m1 method\n"
     ]
    }
   ],
   "source": [
    "def f1():\n",
    "    print('f1 function')\n",
    "class Test:\n",
    "    def m1(self):\n",
    "        print('m1 method')\n",
    "f1()\n",
    "t=Test()\n",
    "t.m1()\n"
   ]
  },
  {
   "cell_type": "code",
   "execution_count": 7,
   "metadata": {},
   "outputs": [
    {
     "name": "stdout",
     "output_type": "stream",
     "text": [
      "5\n",
      "<class 'str'>\n",
      "INDIA\n"
     ]
    }
   ],
   "source": [
    "s='india'\n",
    "print(len(s))   #Len() is an inbuild funtion\n",
    "print(type(s))  # india is an onject created under string class\n",
    "print(s.upper()) # This is a method"
   ]
  },
  {
   "cell_type": "code",
   "execution_count": null,
   "metadata": {},
   "outputs": [],
   "source": [
    "1>len()---Method ---This returns the no of elements in a list."
   ]
  },
  {
   "cell_type": "code",
   "execution_count": null,
   "metadata": {},
   "outputs": [],
   "source": []
  },
  {
   "cell_type": "code",
   "execution_count": null,
   "metadata": {},
   "outputs": [],
   "source": [
    "2>count()--Method---This returns no of occurences of a specified element."
   ]
  },
  {
   "cell_type": "code",
   "execution_count": 8,
   "metadata": {},
   "outputs": [
    {
     "name": "stdout",
     "output_type": "stream",
     "text": [
      "3\n",
      "0\n"
     ]
    }
   ],
   "source": [
    "l=[10,20,10,20,10,30,40]\n",
    "print(l.count(10))   # Reruns no of occurences of 10\n",
    "print(l.count(400))  # Reruns no of occurences of 400 which is not present."
   ]
  },
  {
   "cell_type": "code",
   "execution_count": null,
   "metadata": {},
   "outputs": [],
   "source": [
    "3>index()--Returns index of 1st occurence only.\n",
    "         --Returns Value error if the object isn't present in that list   \n"
   ]
  },
  {
   "cell_type": "code",
   "execution_count": 10,
   "metadata": {},
   "outputs": [
    {
     "name": "stdout",
     "output_type": "stream",
     "text": [
      "0\n"
     ]
    },
    {
     "ename": "ValueError",
     "evalue": "400 is not in list",
     "output_type": "error",
     "traceback": [
      "\u001b[1;31m---------------------------------------------------------------------------\u001b[0m",
      "\u001b[1;31mValueError\u001b[0m                                Traceback (most recent call last)",
      "\u001b[1;32m<ipython-input-10-1c10161398e6>\u001b[0m in \u001b[0;36m<module>\u001b[1;34m\u001b[0m\n\u001b[0;32m      1\u001b[0m \u001b[0ml\u001b[0m\u001b[1;33m=\u001b[0m\u001b[1;33m[\u001b[0m\u001b[1;36m10\u001b[0m\u001b[1;33m,\u001b[0m\u001b[1;36m20\u001b[0m\u001b[1;33m,\u001b[0m\u001b[1;36m10\u001b[0m\u001b[1;33m,\u001b[0m\u001b[1;36m20\u001b[0m\u001b[1;33m,\u001b[0m\u001b[1;36m10\u001b[0m\u001b[1;33m,\u001b[0m\u001b[1;36m30\u001b[0m\u001b[1;33m,\u001b[0m\u001b[1;36m40\u001b[0m\u001b[1;33m]\u001b[0m\u001b[1;33m\u001b[0m\u001b[1;33m\u001b[0m\u001b[0m\n\u001b[0;32m      2\u001b[0m \u001b[0mprint\u001b[0m\u001b[1;33m(\u001b[0m\u001b[0ml\u001b[0m\u001b[1;33m.\u001b[0m\u001b[0mindex\u001b[0m\u001b[1;33m(\u001b[0m\u001b[1;36m10\u001b[0m\u001b[1;33m)\u001b[0m\u001b[1;33m)\u001b[0m    \u001b[1;31m# 10 is present @ 0 index of the above list.\u001b[0m\u001b[1;33m\u001b[0m\u001b[1;33m\u001b[0m\u001b[0m\n\u001b[1;32m----> 3\u001b[1;33m \u001b[0mprint\u001b[0m\u001b[1;33m(\u001b[0m\u001b[0ml\u001b[0m\u001b[1;33m.\u001b[0m\u001b[0mindex\u001b[0m\u001b[1;33m(\u001b[0m\u001b[1;36m400\u001b[0m\u001b[1;33m)\u001b[0m\u001b[1;33m)\u001b[0m   \u001b[1;31m#400 is not in the list\u001b[0m\u001b[1;33m\u001b[0m\u001b[1;33m\u001b[0m\u001b[0m\n\u001b[0m",
      "\u001b[1;31mValueError\u001b[0m: 400 is not in list"
     ]
    }
   ],
   "source": [
    "l=[10,20,10,20,10,30,40]\n",
    "print(l.index(10))    # 10 is present @ 0 index of the above list.\n",
    "print(l.index(400))   #400 is not in the list"
   ]
  },
  {
   "cell_type": "code",
   "execution_count": 14,
   "metadata": {},
   "outputs": [
    {
     "name": "stdout",
     "output_type": "stream",
     "text": [
      "Enter any element to find index2\n",
      "2 element first occurence index is:1\n"
     ]
    }
   ],
   "source": [
    "l=[1,2,3,1,1,1,4]\n",
    "x=int(input('Enter any element to find index'))\n",
    "i=l.index(x)\n",
    "print('{} element first occurence index is:{}'.format(x,i))"
   ]
  },
  {
   "cell_type": "code",
   "execution_count": null,
   "metadata": {},
   "outputs": [],
   "source": [
    "How To avoid the value Error:\n"
   ]
  },
  {
   "cell_type": "code",
   "execution_count": 18,
   "metadata": {},
   "outputs": [
    {
     "name": "stdout",
     "output_type": "stream",
     "text": [
      "Enter any element to find index:2345\n",
      "specified element not available\n"
     ]
    }
   ],
   "source": [
    "l=[1,2,3,1,1,1,4]\n",
    "x=int(input('Enter any element to find index:'))\n",
    "if x in l:\n",
    "    i=l.index(x)\n",
    "    print('{} element first occurence index is:{}'.format(x,i))\n",
    "else:\n",
    "    print('specified element not available')"
   ]
  },
  {
   "cell_type": "code",
   "execution_count": null,
   "metadata": {},
   "outputs": [],
   "source": [
    "Manipulating elements in the list:\n",
    "\n",
    "a.append()\n",
    "b.insert()\n",
    "c.extend()"
   ]
  },
  {
   "cell_type": "code",
   "execution_count": null,
   "metadata": {},
   "outputs": [],
   "source": [
    "#WAP to list of number that are divisible by 10."
   ]
  },
  {
   "cell_type": "code",
   "execution_count": 22,
   "metadata": {},
   "outputs": [
    {
     "name": "stdout",
     "output_type": "stream",
     "text": [
      "[0, 10, 20, 30, 40, 50, 60, 70, 80, 90, 100]\n"
     ]
    }
   ],
   "source": [
    "l=[]\n",
    "for i in range(101):  # Means 0 to 100\n",
    "    if i%10 == 0:\n",
    "        l.append(i)\n",
    "print(l)"
   ]
  },
  {
   "cell_type": "code",
   "execution_count": null,
   "metadata": {},
   "outputs": [],
   "source": [
    "2.Insert(): This method is used to insert object in the specified index."
   ]
  },
  {
   "cell_type": "code",
   "execution_count": 23,
   "metadata": {},
   "outputs": [
    {
     "name": "stdout",
     "output_type": "stream",
     "text": [
      "[10, 70, 20, 30, 40, 50]\n"
     ]
    }
   ],
   "source": [
    "l=[10,20,30,40,50]\n",
    "l.insert(1,70)    # 70 is inserted at 1st index of the given list.\n",
    "print(l)"
   ]
  },
  {
   "cell_type": "code",
   "execution_count": 25,
   "metadata": {},
   "outputs": [
    {
     "name": "stdout",
     "output_type": "stream",
     "text": [
      "[70, 10, 20, 30, 40, 50, 70]\n"
     ]
    }
   ],
   "source": [
    "l=[10,20,30,40,50]\n",
    "l.insert(-10,70)    #if index is smaller then,will be inserted at the begining.\n",
    "l.insert(10,70)     #if index is smaller then,will be inserted at the end.\n",
    "print(l)"
   ]
  },
  {
   "cell_type": "code",
   "execution_count": null,
   "metadata": {},
   "outputs": [],
   "source": [
    "# Q.What is difference in between append() and Insert()\n",
    "\n",
    "#Ans:append():Element will be added in the last position.\n",
    "     insert(index,element)--Element will be added in the specified position."
   ]
  },
  {
   "cell_type": "code",
   "execution_count": null,
   "metadata": {},
   "outputs": [],
   "source": [
    "3.extend(): This method is used to add any other list of elements in the list."
   ]
  },
  {
   "cell_type": "code",
   "execution_count": 26,
   "metadata": {},
   "outputs": [
    {
     "name": "stdout",
     "output_type": "stream",
     "text": [
      "['chicken', 'mutton', 'fish', 'KF', 'RC', 'FO']\n"
     ]
    }
   ],
   "source": [
    "order1=['chicken','mutton','fish']\n",
    "order2=['KF','RC','FO']\n",
    "for x in order2:\n",
    "    order1.append(x)   # This is called as nexted list\n",
    "print(order1)\n"
   ]
  },
  {
   "cell_type": "code",
   "execution_count": 27,
   "metadata": {},
   "outputs": [
    {
     "name": "stdout",
     "output_type": "stream",
     "text": [
      "['chicken', 'mutton', 'fish', 'KF', 'RC', 'FO']\n"
     ]
    }
   ],
   "source": [
    "order1=['chicken','mutton','fish']\n",
    "order2=['KF','RC','FO']\n",
    "order1.extend(order2)\n",
    "print(order1)"
   ]
  },
  {
   "cell_type": "code",
   "execution_count": null,
   "metadata": {},
   "outputs": [],
   "source": [
    "4.remove():This method is used to remove an item from the list."
   ]
  },
  {
   "cell_type": "code",
   "execution_count": 1,
   "metadata": {},
   "outputs": [
    {
     "name": "stdout",
     "output_type": "stream",
     "text": [
      "[20, 30, 40]\n"
     ]
    }
   ],
   "source": [
    "l=[10,20,30,40]\n",
    "l.remove(10)\n",
    "print(l)"
   ]
  },
  {
   "cell_type": "code",
   "execution_count": 2,
   "metadata": {},
   "outputs": [
    {
     "ename": "ValueError",
     "evalue": "list.remove(x): x not in list",
     "output_type": "error",
     "traceback": [
      "\u001b[1;31m---------------------------------------------------------------------------\u001b[0m",
      "\u001b[1;31mValueError\u001b[0m                                Traceback (most recent call last)",
      "\u001b[1;32m<ipython-input-2-d4ccdcfb456b>\u001b[0m in \u001b[0;36m<module>\u001b[1;34m\u001b[0m\n\u001b[0;32m      1\u001b[0m \u001b[0ml\u001b[0m\u001b[1;33m=\u001b[0m\u001b[1;33m[\u001b[0m\u001b[1;36m10\u001b[0m\u001b[1;33m,\u001b[0m\u001b[1;36m20\u001b[0m\u001b[1;33m,\u001b[0m\u001b[1;36m30\u001b[0m\u001b[1;33m,\u001b[0m\u001b[1;36m40\u001b[0m\u001b[1;33m]\u001b[0m\u001b[1;33m\u001b[0m\u001b[1;33m\u001b[0m\u001b[0m\n\u001b[1;32m----> 2\u001b[1;33m \u001b[0ml\u001b[0m\u001b[1;33m.\u001b[0m\u001b[0mremove\u001b[0m\u001b[1;33m(\u001b[0m\u001b[1;36m50\u001b[0m\u001b[1;33m)\u001b[0m\u001b[1;33m\u001b[0m\u001b[1;33m\u001b[0m\u001b[0m\n\u001b[0m\u001b[0;32m      3\u001b[0m \u001b[0mprint\u001b[0m\u001b[1;33m(\u001b[0m\u001b[0ml\u001b[0m\u001b[1;33m)\u001b[0m\u001b[1;33m\u001b[0m\u001b[1;33m\u001b[0m\u001b[0m\n",
      "\u001b[1;31mValueError\u001b[0m: list.remove(x): x not in list"
     ]
    }
   ],
   "source": [
    "l=[10,20,30,40]\n",
    "l.remove(50)\n",
    "print(l)"
   ]
  },
  {
   "cell_type": "code",
   "execution_count": null,
   "metadata": {},
   "outputs": [],
   "source": [
    "Q:How to Overcone this error?\n",
    "A:Membership operator is used."
   ]
  },
  {
   "cell_type": "code",
   "execution_count": 8,
   "metadata": {},
   "outputs": [
    {
     "name": "stdout",
     "output_type": "stream",
     "text": [
      "Enter the element to remove10\n",
      "[10, 10, 10, 20, 30, 40]\n"
     ]
    }
   ],
   "source": [
    "l=[10,10,10,10,20,30,40]\n",
    "x=int(input('Enter the element to remove'))\n",
    "if x in l:\n",
    "    l.remove(x)\n",
    "else:\n",
    "    print('specified element is not available')\n",
    "print(l)\n"
   ]
  },
  {
   "cell_type": "code",
   "execution_count": null,
   "metadata": {},
   "outputs": [],
   "source": [
    "Q:How to remove the duplicate values in a list?"
   ]
  },
  {
   "cell_type": "code",
   "execution_count": 11,
   "metadata": {},
   "outputs": [
    {
     "name": "stdout",
     "output_type": "stream",
     "text": [
      "Enter the element to remove10\n",
      "[20, 30, 40]\n"
     ]
    }
   ],
   "source": [
    "l=[10,10,10,10,20,30,40]\n",
    "x=int(input('Enter the element to remove'))\n",
    "while True:\n",
    "    if x in l:\n",
    "        l.remove(x)\n",
    "    else:\n",
    "        break\n",
    "print(l)\n"
   ]
  },
  {
   "cell_type": "code",
   "execution_count": 2,
   "metadata": {},
   "outputs": [
    {
     "name": "stdout",
     "output_type": "stream",
     "text": [
      "Enter the element to remove10\n",
      "[20, 30, 40]\n"
     ]
    }
   ],
   "source": [
    "l=[10,10,10,10,20,30,40]\n",
    "x=int(input('Enter the element to remove'))\n",
    "while x in l:\n",
    "    l.remove(x)\n",
    "print(l)\n"
   ]
  },
  {
   "cell_type": "code",
   "execution_count": null,
   "metadata": {},
   "outputs": [],
   "source": [
    "Q:How do we do index based removal?\n",
    "    \n",
    "Ans:pop():This method is used if we wish to remove index wise.\n",
    "By default pop() will delete the last element in the list."
   ]
  },
  {
   "cell_type": "code",
   "execution_count": 3,
   "metadata": {},
   "outputs": [
    {
     "name": "stdout",
     "output_type": "stream",
     "text": [
      "40\n",
      "30\n",
      "[10, 10, 10, 10, 20]\n"
     ]
    }
   ],
   "source": [
    "l=[10,10,10,10,20,30,40]\n",
    "print(l.pop())     #40 is removed here\n",
    "print(l.pop())     #30 is removed here\n",
    "print(l)"
   ]
  },
  {
   "cell_type": "code",
   "execution_count": 7,
   "metadata": {},
   "outputs": [
    {
     "name": "stdout",
     "output_type": "stream",
     "text": [
      "40\n",
      "30\n",
      "20\n",
      "10\n",
      "10\n",
      "[10, 10]\n"
     ]
    }
   ],
   "source": [
    "l=[10,10,10,10,20,30,40]\n",
    "print(l.pop())     # 40 is removed from left\n",
    "print(l.pop())     # 30 os removed from left\n",
    "print(l.pop())     # 20 is removed from left\n",
    "print(l.pop())     # 10 is removed from left\n",
    "print(l.pop())     # 10 is removed frpm left\n",
    "print(l)"
   ]
  },
  {
   "cell_type": "code",
   "execution_count": 8,
   "metadata": {},
   "outputs": [
    {
     "name": "stdout",
     "output_type": "stream",
     "text": [
      "40\n",
      "30\n",
      "20\n",
      "10\n",
      "10\n",
      "10\n",
      "10\n",
      "[]\n"
     ]
    }
   ],
   "source": [
    "l=[10,10,10,10,20,30,40]\n",
    "print(l.pop())     # 40 is removed from left\n",
    "print(l.pop())     # 30 os removed from left\n",
    "print(l.pop())     # 20 is removed from left\n",
    "print(l.pop())     # 10 is removed from left\n",
    "print(l.pop())     # 10 is removed frpm left\n",
    "print(l.pop())     # 10 is removed frpm left\n",
    "print(l.pop())     # 10 is removed frpm left            \n",
    "print(l)           # After removing all the elememts from the list an empty list [] is returned."
   ]
  },
  {
   "cell_type": "code",
   "execution_count": 13,
   "metadata": {},
   "outputs": [
    {
     "name": "stdout",
     "output_type": "stream",
     "text": [
      "40\n",
      "30\n",
      "20\n",
      "10\n"
     ]
    },
    {
     "ename": "IndexError",
     "evalue": "pop from empty list",
     "output_type": "error",
     "traceback": [
      "\u001b[1;31m---------------------------------------------------------------------------\u001b[0m",
      "\u001b[1;31mIndexError\u001b[0m                                Traceback (most recent call last)",
      "\u001b[1;32m<ipython-input-13-50d4e154bf17>\u001b[0m in \u001b[0;36m<module>\u001b[1;34m\u001b[0m\n\u001b[0;32m      4\u001b[0m \u001b[0mprint\u001b[0m\u001b[1;33m(\u001b[0m\u001b[0ml\u001b[0m\u001b[1;33m.\u001b[0m\u001b[0mpop\u001b[0m\u001b[1;33m(\u001b[0m\u001b[1;33m)\u001b[0m\u001b[1;33m)\u001b[0m\u001b[1;33m\u001b[0m\u001b[1;33m\u001b[0m\u001b[0m\n\u001b[0;32m      5\u001b[0m \u001b[0mprint\u001b[0m\u001b[1;33m(\u001b[0m\u001b[0ml\u001b[0m\u001b[1;33m.\u001b[0m\u001b[0mpop\u001b[0m\u001b[1;33m(\u001b[0m\u001b[1;33m)\u001b[0m\u001b[1;33m)\u001b[0m\u001b[1;33m\u001b[0m\u001b[1;33m\u001b[0m\u001b[0m\n\u001b[1;32m----> 6\u001b[1;33m \u001b[0mprint\u001b[0m\u001b[1;33m(\u001b[0m\u001b[0ml\u001b[0m\u001b[1;33m.\u001b[0m\u001b[0mpop\u001b[0m\u001b[1;33m(\u001b[0m\u001b[1;33m)\u001b[0m\u001b[1;33m)\u001b[0m\u001b[1;33m\u001b[0m\u001b[1;33m\u001b[0m\u001b[0m\n\u001b[0m\u001b[0;32m      7\u001b[0m \u001b[0mprint\u001b[0m\u001b[1;33m(\u001b[0m\u001b[0ml\u001b[0m\u001b[1;33m)\u001b[0m\u001b[1;33m\u001b[0m\u001b[1;33m\u001b[0m\u001b[0m\n\u001b[0;32m      8\u001b[0m \u001b[1;33m\u001b[0m\u001b[0m\n",
      "\u001b[1;31mIndexError\u001b[0m: pop from empty list"
     ]
    }
   ],
   "source": [
    "l=[10,20,30,40]\n",
    "print(l.pop())    \n",
    "print(l.pop())     \n",
    "print(l.pop())     \n",
    "print(l.pop())\n",
    "print(l.pop())\n",
    "print(l)       # Index Error \n",
    "       "
   ]
  },
  {
   "cell_type": "code",
   "execution_count": null,
   "metadata": {},
   "outputs": [],
   "source": [
    "Q:How to overcome the above index error?"
   ]
  },
  {
   "cell_type": "code",
   "execution_count": 20,
   "metadata": {},
   "outputs": [
    {
     "name": "stdout",
     "output_type": "stream",
     "text": [
      "40\n",
      "30\n",
      "20\n",
      "10\n",
      "[]\n"
     ]
    }
   ],
   "source": [
    "l=[10,20,30,40]\n",
    "print(l.pop())    \n",
    "print(l.pop())     \n",
    "print(l.pop())     \n",
    "print(l.pop())\n",
    "if len(l) != 0:\n",
    "    print(l.pop()) \n",
    "print(l)"
   ]
  },
  {
   "cell_type": "code",
   "execution_count": null,
   "metadata": {},
   "outputs": [],
   "source": [
    "l=[10,20,30,40]\n",
    "print(l.pop())    \n",
    "print(l.pop())     \n",
    "print(l.pop())     \n",
    "print(l.pop())\n",
    "if len(l) != 0:\n",
    "    print(l.pop()) \n",
    "print(l)"
   ]
  },
  {
   "cell_type": "code",
   "execution_count": null,
   "metadata": {},
   "outputs": [],
   "source": [
    "pop(index)--->The perticular index is deleted"
   ]
  },
  {
   "cell_type": "code",
   "execution_count": 23,
   "metadata": {},
   "outputs": [
    {
     "name": "stdout",
     "output_type": "stream",
     "text": [
      "40\n",
      "[10, 20, 30]\n"
     ]
    }
   ],
   "source": [
    "l=[10,20,30,40]\n",
    "print(l.pop(3))\n",
    "print(l)"
   ]
  },
  {
   "cell_type": "code",
   "execution_count": 24,
   "metadata": {},
   "outputs": [
    {
     "name": "stdout",
     "output_type": "stream",
     "text": [
      "[20, 40]\n"
     ]
    }
   ],
   "source": [
    "l=[10,20,30,40]\n",
    "i=0\n",
    "while i < len(l):\n",
    "    l.pop(i)\n",
    "    i=i+1\n",
    "print(l)\n",
    "    "
   ]
  },
  {
   "cell_type": "code",
   "execution_count": 79,
   "metadata": {},
   "outputs": [
    {
     "name": "stdout",
     "output_type": "stream",
     "text": [
      "10\n",
      "30\n",
      "[20, 40]\n"
     ]
    }
   ],
   "source": [
    "l=[10,20,30,40]\n",
    "i=0\n",
    "while i < len(l):\n",
    "    print(l.pop(i))\n",
    "    i=i+1\n",
    "print(l)\n"
   ]
  },
  {
   "cell_type": "code",
   "execution_count": null,
   "metadata": {},
   "outputs": [],
   "source": []
  },
  {
   "cell_type": "code",
   "execution_count": 35,
   "metadata": {},
   "outputs": [
    {
     "name": "stdout",
     "output_type": "stream",
     "text": [
      "curent index value: 0\n",
      "current n value: 4\n",
      "The removed element: 10\n",
      "\n",
      "curent index value: 0\n",
      "current n value: 4\n",
      "The removed element: 20\n",
      "\n",
      "curent index value: 0\n",
      "current n value: 4\n",
      "The removed element: 30\n",
      "\n",
      "curent index value: 0\n",
      "current n value: 4\n",
      "The removed element: 40\n",
      "\n",
      "[]\n"
     ]
    }
   ],
   "source": [
    "l=[10,20,30,40]\n",
    "i=0\n",
    "n=len(l)\n",
    "while i < n and len(l) != 0:\n",
    "    print('curent index value:',i)\n",
    "    print('current n value:',n)\n",
    "    print('The removed element:',l.pop(i))\n",
    "    print()\n",
    "print(l)"
   ]
  },
  {
   "cell_type": "code",
   "execution_count": null,
   "metadata": {},
   "outputs": [],
   "source": [
    "Q:How to remove the elements in backward direction;"
   ]
  },
  {
   "cell_type": "code",
   "execution_count": 31,
   "metadata": {},
   "outputs": [
    {
     "name": "stdout",
     "output_type": "stream",
     "text": [
      "The removed element is : 40\n",
      "The removed element is : 30\n",
      "The removed element is : 20\n",
      "The removed element is : 10\n",
      "[]\n"
     ]
    }
   ],
   "source": [
    "l=[10,20,30,40]\n",
    "while len(l) != 0:\n",
    "    print('The removed element is :',l.pop())\n",
    "print(l)"
   ]
  },
  {
   "cell_type": "code",
   "execution_count": null,
   "metadata": {},
   "outputs": [],
   "source": [
    "\n"
   ]
  },
  {
   "cell_type": "code",
   "execution_count": null,
   "metadata": {},
   "outputs": [],
   "source": [
    "Q:What is the diffrence in between pop() & remove()\n",
    "\n",
    "A:remove()--Is element based removal,when pop() is index based removal,last element will removed first if index isn't specified.\n",
    "We get value error in remove() when we get index() error on pop()."
   ]
  },
  {
   "cell_type": "code",
   "execution_count": null,
   "metadata": {},
   "outputs": [],
   "source": [
    "For Addition of elements we use:1.append() 2.insert() and Extend()\n",
    "    Removal of elements we use: 1.remove() 2.pop()  & clear()--->To delete all the elements"
   ]
  },
  {
   "cell_type": "code",
   "execution_count": null,
   "metadata": {},
   "outputs": [],
   "source": [
    "Order Of Elements in the List:\n",
    "1.Reverse()\n",
    "2.sort()"
   ]
  },
  {
   "cell_type": "code",
   "execution_count": 36,
   "metadata": {},
   "outputs": [
    {
     "name": "stdout",
     "output_type": "stream",
     "text": [
      "[10, 20, 30, 40]\n",
      "[40, 30, 20, 10]\n"
     ]
    }
   ],
   "source": [
    "l=[10,20,30,40]\n",
    "print(l)\n",
    "l.reverse()\n",
    "print(l)"
   ]
  },
  {
   "cell_type": "code",
   "execution_count": 37,
   "metadata": {},
   "outputs": [
    {
     "name": "stdout",
     "output_type": "stream",
     "text": [
      "[0, 5, 10, 15, 20]\n"
     ]
    }
   ],
   "source": [
    "l=[10,5,20,15,0]\n",
    "l.sort()\n",
    "print(l)         # The numbers are sorted in the ascending order"
   ]
  },
  {
   "cell_type": "code",
   "execution_count": 39,
   "metadata": {},
   "outputs": [
    {
     "name": "stdout",
     "output_type": "stream",
     "text": [
      "['Bunny', 'Chinny', 'Pinny', 'Sunny', 'Vinny']\n"
     ]
    }
   ],
   "source": [
    "l=['Sunny','Bunny','Vinny','Pinny','Chinny']\n",
    "l.sort()\n",
    "print(l)"
   ]
  },
  {
   "cell_type": "code",
   "execution_count": 40,
   "metadata": {},
   "outputs": [
    {
     "name": "stdout",
     "output_type": "stream",
     "text": [
      "['Vinny', 'Sunny', 'Pinny', 'Chinny', 'Bunny']\n"
     ]
    }
   ],
   "source": [
    "l=['Sunny','Bunny','Vinny','Pinny','Chinny']\n",
    "l.sort()\n",
    "l.reverse()\n",
    "print(l)"
   ]
  },
  {
   "cell_type": "code",
   "execution_count": 41,
   "metadata": {},
   "outputs": [
    {
     "name": "stdout",
     "output_type": "stream",
     "text": [
      "['Vinny', 'Sunny', 'Pinny', 'Chinny', 'Bunny']\n"
     ]
    }
   ],
   "source": [
    "l=['Sunny','Bunny','Vinny','Pinny','Chinny']\n",
    "l.sort(reverse=True)\n",
    "print(l)"
   ]
  },
  {
   "cell_type": "code",
   "execution_count": 42,
   "metadata": {},
   "outputs": [
    {
     "name": "stdout",
     "output_type": "stream",
     "text": [
      "[20, 15, 10, 5, 0]\n"
     ]
    }
   ],
   "source": [
    "l=[10,5,20,15,0]\n",
    "l.sort(reverse=True)\n",
    "print(l)"
   ]
  },
  {
   "cell_type": "code",
   "execution_count": null,
   "metadata": {},
   "outputs": [],
   "source": [
    "Q:What is the diffrence in between reverse() and reversed ()?\n",
    "reverse()--->This is a list specific method and it won't return anything. Applicable for list only.\n",
    "reversed()--->This is python's inbuild function and retuns reversed object ,Applicable for any sequences.\n"
   ]
  },
  {
   "cell_type": "code",
   "execution_count": null,
   "metadata": {},
   "outputs": [],
   "source": [
    "Aliasioning--->Creating a duplicate reference.\n",
    "Clonning-->Creating a duplicate list object"
   ]
  },
  {
   "cell_type": "code",
   "execution_count": null,
   "metadata": {},
   "outputs": [],
   "source": [
    "Aliasioning--->Creating a duplicate reference.\n",
    "Clonning-->Creating a duplicate list object"
   ]
  },
  {
   "cell_type": "code",
   "execution_count": 44,
   "metadata": {},
   "outputs": [
    {
     "name": "stdout",
     "output_type": "stream",
     "text": [
      "1995304172488\n",
      "1995304172488\n"
     ]
    }
   ],
   "source": [
    "l1=[10,20,30,40]\n",
    "l2=l1\n",
    "print(id(l1))   # The id of l1 & l2 are same becasue they both are referring to a same object.\n",
    "print(id(l2))"
   ]
  },
  {
   "cell_type": "code",
   "execution_count": 47,
   "metadata": {},
   "outputs": [
    {
     "name": "stdout",
     "output_type": "stream",
     "text": [
      "[7777, 20, 30, 40]\n",
      "[7777, 20, 30, 40]\n",
      "[7777, 8888, 30, 40]\n",
      "[7777, 8888, 30, 40]\n"
     ]
    }
   ],
   "source": [
    "l1=[10,20,30,40]\n",
    "l2=l1\n",
    "l1[0]=7777\n",
    "print(l1)\n",
    "print(l2)\n",
    "l2[1]=8888\n",
    "print(l1)\n",
    "print(l2)"
   ]
  },
  {
   "cell_type": "code",
   "execution_count": 48,
   "metadata": {},
   "outputs": [
    {
     "name": "stdout",
     "output_type": "stream",
     "text": [
      "1995304135304\n",
      "1995304135880\n"
     ]
    }
   ],
   "source": [
    "l=[10,20,30,40]\n",
    "l2=l1[:]\n",
    "print(id(l1))\n",
    "print(id(l2))\n"
   ]
  },
  {
   "cell_type": "code",
   "execution_count": 50,
   "metadata": {},
   "outputs": [
    {
     "name": "stdout",
     "output_type": "stream",
     "text": [
      "[7777, 9999, 30, 40]\n",
      "[7777, 8888, 30, 40]\n"
     ]
    }
   ],
   "source": [
    "l=[10,20,30,40]\n",
    "l2=l1[:]\n",
    "l1[1]=9999\n",
    "print(l1)\n",
    "print(l2)"
   ]
  },
  {
   "cell_type": "code",
   "execution_count": null,
   "metadata": {},
   "outputs": [],
   "source": [
    "clonning:"
   ]
  },
  {
   "cell_type": "code",
   "execution_count": 51,
   "metadata": {},
   "outputs": [
    {
     "name": "stdout",
     "output_type": "stream",
     "text": [
      "[7777, 7777, 30, 40]\n",
      "[7777, 9999, 30, 40]\n"
     ]
    }
   ],
   "source": [
    "l=[10,20,30,40]\n",
    "l2=l1.copy()\n",
    "l1[1]=7777\n",
    "print(l1)\n",
    "print(l2)"
   ]
  },
  {
   "cell_type": "code",
   "execution_count": 54,
   "metadata": {},
   "outputs": [
    {
     "name": "stdout",
     "output_type": "stream",
     "text": [
      "[10, 20, 30, 40]\n",
      "[10, 7777, 8888, 40]\n"
     ]
    }
   ],
   "source": [
    "l1=[10,20,30,40]\n",
    "l2=l1.copy()\n",
    "l2[1]=7777\n",
    "l2[2]=8888\n",
    "print(l1)\n",
    "print(l2)"
   ]
  },
  {
   "cell_type": "code",
   "execution_count": null,
   "metadata": {},
   "outputs": [],
   "source": [
    "Mathematical Opeartors:"
   ]
  },
  {
   "cell_type": "code",
   "execution_count": 55,
   "metadata": {},
   "outputs": [
    {
     "name": "stdout",
     "output_type": "stream",
     "text": [
      "[10, 20, 30, 40, 50, 60]\n"
     ]
    }
   ],
   "source": [
    "a=[10,20,30]\n",
    "b=[40,50,60]\n",
    "c=a+b\n",
    "print(c)"
   ]
  },
  {
   "cell_type": "code",
   "execution_count": 56,
   "metadata": {},
   "outputs": [
    {
     "name": "stdout",
     "output_type": "stream",
     "text": [
      "[10, 20, 30, 50]\n"
     ]
    }
   ],
   "source": [
    "a=[10,20,30]\n",
    "b=[40,50,60]\n",
    "c=a+[50]\n",
    "print(c)"
   ]
  },
  {
   "cell_type": "code",
   "execution_count": 57,
   "metadata": {},
   "outputs": [
    {
     "name": "stdout",
     "output_type": "stream",
     "text": [
      "[10, 20, 30, 'a', 'b', 'c']\n"
     ]
    }
   ],
   "source": [
    "a=[10,20,30]\n",
    "a.extend('abc')\n",
    "print(a)"
   ]
  },
  {
   "cell_type": "code",
   "execution_count": null,
   "metadata": {},
   "outputs": [],
   "source": [
    "Q:What is the difference in between + and extend()?\n",
    "list+list == only list\n",
    "l1.extend()==Needn't be a list\n",
    "Ans:+--->A new object is created and returns that object.\n",
    "    Extend()---->New object isn't created and elements are added to the existing objects."
   ]
  },
  {
   "cell_type": "code",
   "execution_count": 58,
   "metadata": {},
   "outputs": [
    {
     "name": "stdout",
     "output_type": "stream",
     "text": [
      "[10, 20, 30, 'b', 'd', 'a', 'c']\n"
     ]
    }
   ],
   "source": [
    "a=[10,20,30]\n",
    "a.extend({'a','b','c','d'})\n",
    "print(a)"
   ]
  },
  {
   "cell_type": "code",
   "execution_count": 59,
   "metadata": {},
   "outputs": [
    {
     "ename": "TypeError",
     "evalue": "can only concatenate list (not \"set\") to list",
     "output_type": "error",
     "traceback": [
      "\u001b[1;31m---------------------------------------------------------------------------\u001b[0m",
      "\u001b[1;31mTypeError\u001b[0m                                 Traceback (most recent call last)",
      "\u001b[1;32m<ipython-input-59-46903a2c9957>\u001b[0m in \u001b[0;36m<module>\u001b[1;34m\u001b[0m\n\u001b[0;32m      1\u001b[0m \u001b[0ma\u001b[0m\u001b[1;33m=\u001b[0m\u001b[1;33m[\u001b[0m\u001b[1;36m10\u001b[0m\u001b[1;33m,\u001b[0m\u001b[1;36m20\u001b[0m\u001b[1;33m,\u001b[0m\u001b[1;36m30\u001b[0m\u001b[1;33m]\u001b[0m\u001b[1;33m\u001b[0m\u001b[1;33m\u001b[0m\u001b[0m\n\u001b[0;32m      2\u001b[0m \u001b[0ma\u001b[0m\u001b[1;33m.\u001b[0m\u001b[0mextend\u001b[0m\u001b[1;33m(\u001b[0m\u001b[1;33m{\u001b[0m\u001b[1;34m'a'\u001b[0m\u001b[1;33m,\u001b[0m\u001b[1;34m'b'\u001b[0m\u001b[1;33m,\u001b[0m\u001b[1;34m'c'\u001b[0m\u001b[1;33m,\u001b[0m\u001b[1;34m'd'\u001b[0m\u001b[1;33m}\u001b[0m\u001b[1;33m)\u001b[0m\u001b[1;33m\u001b[0m\u001b[1;33m\u001b[0m\u001b[0m\n\u001b[1;32m----> 3\u001b[1;33m \u001b[0mb\u001b[0m\u001b[1;33m=\u001b[0m\u001b[0ma\u001b[0m\u001b[1;33m+\u001b[0m\u001b[1;33m{\u001b[0m\u001b[1;34m'a'\u001b[0m\u001b[1;33m,\u001b[0m\u001b[1;34m'b'\u001b[0m\u001b[1;33m,\u001b[0m\u001b[1;34m'c'\u001b[0m\u001b[1;33m}\u001b[0m\u001b[1;33m\u001b[0m\u001b[1;33m\u001b[0m\u001b[0m\n\u001b[0m\u001b[0;32m      4\u001b[0m \u001b[0mprint\u001b[0m\u001b[1;33m(\u001b[0m\u001b[0ma\u001b[0m\u001b[1;33m)\u001b[0m\u001b[1;33m\u001b[0m\u001b[1;33m\u001b[0m\u001b[0m\n",
      "\u001b[1;31mTypeError\u001b[0m: can only concatenate list (not \"set\") to list"
     ]
    }
   ],
   "source": [
    "a=[10,20,30]\n",
    "a.extend({'a','b','c','d'})\n",
    "b=a+{'a','b','c'}\n",
    "print(a)"
   ]
  },
  {
   "cell_type": "code",
   "execution_count": null,
   "metadata": {},
   "outputs": [],
   "source": [
    "1>* Operator:"
   ]
  },
  {
   "cell_type": "code",
   "execution_count": 61,
   "metadata": {},
   "outputs": [
    {
     "name": "stdout",
     "output_type": "stream",
     "text": [
      "[10, 20, 30, 10, 20, 30, 10, 20, 30, 10, 20, 30, 10, 20, 30]\n"
     ]
    }
   ],
   "source": [
    "x=[10,20,30]\n",
    "y=x*5\n",
    "print(y)"
   ]
  },
  {
   "cell_type": "code",
   "execution_count": null,
   "metadata": {},
   "outputs": [],
   "source": [
    "2>== Eqaulity Operator--"
   ]
  },
  {
   "cell_type": "code",
   "execution_count": null,
   "metadata": {},
   "outputs": [],
   "source": []
  },
  {
   "cell_type": "code",
   "execution_count": 62,
   "metadata": {},
   "outputs": [
    {
     "name": "stdout",
     "output_type": "stream",
     "text": [
      "True\n",
      "False\n",
      "False\n"
     ]
    }
   ],
   "source": [
    "x=['Dog','Cat','Rat']\n",
    "y=['Dog','Cat','Rat']\n",
    "z=['DOG','CAT','RAT']\n",
    "print(x == y)\n",
    "print(x == z)\n",
    "print(x == z)"
   ]
  },
  {
   "cell_type": "code",
   "execution_count": 63,
   "metadata": {},
   "outputs": [
    {
     "name": "stdout",
     "output_type": "stream",
     "text": [
      "True\n",
      "False\n",
      "True\n"
     ]
    }
   ],
   "source": [
    "x=['Dog','Cat','Rat']\n",
    "y=['Dog','Cat','Rat']\n",
    "z=['DOG','CAT','RAT']\n",
    "print(x == y)\n",
    "print(x == z)\n",
    "print(x != z)"
   ]
  },
  {
   "cell_type": "code",
   "execution_count": null,
   "metadata": {},
   "outputs": [],
   "source": [
    "3>Comparision Operator:<,<=,>,>="
   ]
  },
  {
   "cell_type": "code",
   "execution_count": null,
   "metadata": {},
   "outputs": [],
   "source": []
  },
  {
   "cell_type": "code",
   "execution_count": 64,
   "metadata": {},
   "outputs": [
    {
     "name": "stdout",
     "output_type": "stream",
     "text": [
      "True\n",
      "True\n",
      "False\n",
      "False\n"
     ]
    }
   ],
   "source": [
    "x=[100,10,5]\n",
    "y=[10,20,30,40,50,60]\n",
    "print(x>y)\n",
    "print(x>=y)\n",
    "print(x<y)\n",
    "print(x<=y)"
   ]
  },
  {
   "cell_type": "code",
   "execution_count": 65,
   "metadata": {},
   "outputs": [
    {
     "name": "stdout",
     "output_type": "stream",
     "text": [
      "False\n",
      "False\n",
      "True\n",
      "True\n"
     ]
    }
   ],
   "source": [
    "x=[10,10,5]\n",
    "y=[10,20,30,40,50,60]\n",
    "print(x>y)\n",
    "print(x>=y)\n",
    "print(x<y)\n",
    "print(x<=y)"
   ]
  },
  {
   "cell_type": "code",
   "execution_count": 66,
   "metadata": {},
   "outputs": [
    {
     "name": "stdout",
     "output_type": "stream",
     "text": [
      "False\n",
      "False\n",
      "True\n",
      "True\n"
     ]
    }
   ],
   "source": [
    "x=['Dog','Cat','Rat']\n",
    "y=['Rat','Cat','Dog']\n",
    "print(x>y)\n",
    "print(x>=y)\n",
    "print(x<y)\n",
    "print(x<=y)"
   ]
  },
  {
   "cell_type": "code",
   "execution_count": null,
   "metadata": {},
   "outputs": [],
   "source": [
    "4>Membership Operators"
   ]
  },
  {
   "cell_type": "code",
   "execution_count": 67,
   "metadata": {},
   "outputs": [
    {
     "name": "stdout",
     "output_type": "stream",
     "text": [
      "True\n",
      "False\n",
      "True\n"
     ]
    }
   ],
   "source": [
    "x=['Dog','Cat','Rat']\n",
    "print('Dog' in x)\n",
    "print('Zebra' in x)\n",
    "print('Zebra' not in x)"
   ]
  },
  {
   "cell_type": "code",
   "execution_count": null,
   "metadata": {},
   "outputs": [],
   "source": [
    "Nexted List Concept:"
   ]
  },
  {
   "cell_type": "code",
   "execution_count": 68,
   "metadata": {},
   "outputs": [
    {
     "name": "stdout",
     "output_type": "stream",
     "text": [
      "[10, 20, [30, 40]]\n",
      "10\n",
      "20\n",
      "[30, 40]\n"
     ]
    }
   ],
   "source": [
    "l=[10,20,[30,40]]\n",
    "print(l)\n",
    "print(l[0])\n",
    "print(l[1])\n",
    "print(l[2])               #[30,40] is considered as a single element."
   ]
  },
  {
   "cell_type": "code",
   "execution_count": 70,
   "metadata": {},
   "outputs": [
    {
     "name": "stdout",
     "output_type": "stream",
     "text": [
      "[10, 20, [30, 40]]\n",
      "10\n",
      "20\n",
      "30\n",
      "40\n"
     ]
    }
   ],
   "source": [
    "l=[10,20,[30,40]]\n",
    "print(l)\n",
    "print(l[0])\n",
    "print(l[1])\n",
    "print(l[2][0])\n",
    "print(l[2][1]) "
   ]
  },
  {
   "cell_type": "code",
   "execution_count": 80,
   "metadata": {},
   "outputs": [
    {
     "name": "stdout",
     "output_type": "stream",
     "text": [
      "[[100, 200, 300], [400, 500, 600], [700, 800, 900]]\n",
      "Elements row wise\n",
      "[100, 200, 300]\n",
      "[400, 500, 600]\n",
      "[700, 800, 900]\n",
      "Elements in Matrix Style:\n",
      "100 200 300 \n",
      "400 500 600 \n",
      "700 800 900 \n",
      "Elements in Matrix style:\n",
      "100 200 300 \n",
      "400 500 600 \n",
      "700 800 900 \n"
     ]
    }
   ],
   "source": [
    "l=[[100,200,300],[400,500,600],[700,800,900]]\n",
    "print(l)\n",
    "print('Elements row wise')\n",
    "for x in l:\n",
    "    print(x)\n",
    "print('Elements in Matrix Style:')\n",
    "for row in l:\n",
    "    for elements in row:\n",
    "        print(elements,end=' ')\n",
    "    print()\n",
    "print('Elements in Matrix style:')\n",
    "for i in range(len(l)):            #0,1,2\n",
    "    for j in range(len(l[i])):     #0,1,2\n",
    "        print(l[i][j],end=' ')\n",
    "    print()"
   ]
  },
  {
   "cell_type": "code",
   "execution_count": null,
   "metadata": {},
   "outputs": [],
   "source": [
    "List Comprehension:\n",
    "\n",
    "l=[ expression for item in sequence]\n"
   ]
  },
  {
   "cell_type": "code",
   "execution_count": 81,
   "metadata": {},
   "outputs": [
    {
     "name": "stdout",
     "output_type": "stream",
     "text": [
      "[0, 1, 2, 3, 4, 5, 6, 7, 8, 9]\n"
     ]
    }
   ],
   "source": [
    "l=[ x for x in range(10)]\n",
    "print(l)"
   ]
  },
  {
   "cell_type": "code",
   "execution_count": 82,
   "metadata": {},
   "outputs": [
    {
     "name": "stdout",
     "output_type": "stream",
     "text": [
      "[0, 1, 4, 9, 16, 25, 36, 49, 64, 81]\n"
     ]
    }
   ],
   "source": [
    "l=[ x*x for x in range(10)]\n",
    "print(l)"
   ]
  },
  {
   "cell_type": "code",
   "execution_count": 83,
   "metadata": {},
   "outputs": [
    {
     "name": "stdout",
     "output_type": "stream",
     "text": [
      "[0, 2, 4, 6, 8, 10, 12, 14, 16, 18]\n"
     ]
    }
   ],
   "source": [
    "l=[ 2*x for x in range(10)]\n",
    "print(l)"
   ]
  },
  {
   "cell_type": "code",
   "execution_count": 85,
   "metadata": {},
   "outputs": [
    {
     "name": "stdout",
     "output_type": "stream",
     "text": [
      "[1, 8, 27, 64, 125, 216, 343, 512, 729, 1000, 1331, 1728, 2197, 2744, 3375, 4096, 4913, 5832, 6859, 8000, 9261, 10648, 12167, 13824, 15625, 17576, 19683, 21952, 24389, 27000, 29791, 32768, 35937, 39304, 42875, 46656, 50653, 54872, 59319, 64000, 68921, 74088, 79507, 85184, 91125, 97336, 103823, 110592, 117649, 125000, 132651, 140608, 148877, 157464, 166375, 175616, 185193, 195112, 205379, 216000, 226981, 238328, 250047, 262144, 274625, 287496, 300763, 314432, 328509, 343000, 357911, 373248, 389017, 405224, 421875, 438976, 456533, 474552, 493039, 512000, 531441, 551368, 571787, 592704, 614125, 636056, 658503, 681472, 704969, 729000, 753571, 778688, 804357, 830584, 857375, 884736, 912673, 941192, 970299, 1000000]\n"
     ]
    }
   ],
   "source": [
    "l=[ x*x*x for x in range(1,101)]\n",
    "print(l)"
   ]
  },
  {
   "cell_type": "code",
   "execution_count": null,
   "metadata": {},
   "outputs": [],
   "source": [
    "Q:WAP to find first 100 numbers which is even"
   ]
  },
  {
   "cell_type": "code",
   "execution_count": 92,
   "metadata": {},
   "outputs": [
    {
     "name": "stdout",
     "output_type": "stream",
     "text": [
      "[8, 64, 216, 512, 1000, 1728, 2744, 4096, 5832, 8000, 10648, 13824, 17576, 21952, 27000, 32768, 39304, 46656, 54872, 64000, 74088, 85184, 97336, 110592, 125000, 140608, 157464, 175616, 195112, 216000, 238328, 262144, 287496, 314432, 343000, 373248, 405224, 438976, 474552, 512000, 551368, 592704, 636056, 681472, 729000, 778688, 830584, 884736, 941192, 1000000]\n"
     ]
    }
   ],
   "source": [
    "l=[ x*x*x for x in range(1,101) if x*x*x % 2==0]\n",
    "print(l)"
   ]
  },
  {
   "cell_type": "code",
   "execution_count": 3,
   "metadata": {},
   "outputs": [
    {
     "name": "stdout",
     "output_type": "stream",
     "text": [
      "[8, 64, 216, 512, 1000, 1728, 2744, 4096, 5832, 8000, 10648, 13824, 17576, 21952, 27000, 32768, 39304, 46656, 54872, 64000, 74088, 85184, 97336, 110592, 125000, 140608, 157464, 175616, 195112, 216000, 238328, 262144, 287496, 314432, 343000, 373248, 405224, 438976, 474552, 512000, 551368, 592704, 636056, 681472, 729000, 778688, 830584, 884736, 941192, 1000000]\n"
     ]
    }
   ],
   "source": [
    "l1=[ x*x*x for x in range(1,101) if x % 2==0]\n",
    "print(l1)"
   ]
  },
  {
   "cell_type": "code",
   "execution_count": 4,
   "metadata": {},
   "outputs": [
    {
     "name": "stdout",
     "output_type": "stream",
     "text": [
      "[8, 64, 216, 512, 1000, 1728, 2744, 4096, 5832, 8000, 10648, 13824, 17576, 21952, 27000, 32768, 39304, 46656, 54872, 64000, 74088, 85184, 97336, 110592, 125000, 140608, 157464, 175616, 195112, 216000, 238328, 262144, 287496, 314432, 343000, 373248, 405224, 438976, 474552, 512000, 551368, 592704, 636056, 681472, 729000, 778688, 830584, 884736, 941192, 1000000]\n"
     ]
    }
   ],
   "source": [
    "l2=[ x*x*x for x in range(1,101) if x % 2==0]\n",
    "print(l2)"
   ]
  },
  {
   "cell_type": "code",
   "execution_count": null,
   "metadata": {},
   "outputs": [],
   "source": [
    "Q1:Create a list with Squares of first 10 natural numbers from 1 to 10"
   ]
  },
  {
   "cell_type": "code",
   "execution_count": null,
   "metadata": {},
   "outputs": [],
   "source": [
    "Traditional Method:"
   ]
  },
  {
   "cell_type": "code",
   "execution_count": 6,
   "metadata": {},
   "outputs": [
    {
     "name": "stdout",
     "output_type": "stream",
     "text": [
      "[1, 4, 9, 16, 25, 36, 49, 64, 81, 100]\n"
     ]
    }
   ],
   "source": [
    "l=[]\n",
    "for x in range(1,11):\n",
    "    l.append(x*x)\n",
    "print(l)\n"
   ]
  },
  {
   "cell_type": "code",
   "execution_count": null,
   "metadata": {},
   "outputs": [],
   "source": [
    "Comprehension Method:"
   ]
  },
  {
   "cell_type": "code",
   "execution_count": 8,
   "metadata": {},
   "outputs": [
    {
     "name": "stdout",
     "output_type": "stream",
     "text": [
      "[1, 4, 9, 16, 25, 36, 49, 64, 81, 100]\n"
     ]
    }
   ],
   "source": [
    "l1=[x*x for x in range (1,11)]\n",
    "print(l)"
   ]
  },
  {
   "cell_type": "code",
   "execution_count": null,
   "metadata": {},
   "outputs": [],
   "source": [
    "Q2:Create a list with first 20 even natural numbers"
   ]
  },
  {
   "cell_type": "code",
   "execution_count": null,
   "metadata": {},
   "outputs": [],
   "source": [
    "Traditional Method:"
   ]
  },
  {
   "cell_type": "code",
   "execution_count": 15,
   "metadata": {},
   "outputs": [
    {
     "name": "stdout",
     "output_type": "stream",
     "text": [
      "[2, 4, 6, 8, 10, 12, 14, 16, 18, 20]\n"
     ]
    }
   ],
   "source": [
    "l=[]\n",
    "for x in range(1,21):\n",
    "    if x%2 == 0:\n",
    "        l.append(x)\n",
    "print(l)\n"
   ]
  },
  {
   "cell_type": "code",
   "execution_count": null,
   "metadata": {},
   "outputs": [],
   "source": [
    "Comprehension Method:"
   ]
  },
  {
   "cell_type": "code",
   "execution_count": 12,
   "metadata": {},
   "outputs": [
    {
     "name": "stdout",
     "output_type": "stream",
     "text": [
      "[2, 4, 6, 8, 10, 12, 14, 16, 18, 20]\n"
     ]
    }
   ],
   "source": [
    "l1=[ x for x in range (1,21) if x%2 == 0]\n",
    "print(l1)"
   ]
  },
  {
   "cell_type": "code",
   "execution_count": null,
   "metadata": {},
   "outputs": [],
   "source": [
    "Q3:Create a list with squares of first 20 even natural numbers"
   ]
  },
  {
   "cell_type": "code",
   "execution_count": 18,
   "metadata": {},
   "outputs": [
    {
     "name": "stdout",
     "output_type": "stream",
     "text": [
      "[4, 16, 36, 64, 100, 144, 196, 256, 324, 400]\n"
     ]
    }
   ],
   "source": [
    "l=[]\n",
    "for x in range(1,21):\n",
    "    if x%2 ==0:\n",
    "        l.append(x*x)\n",
    "print(l)\n"
   ]
  },
  {
   "cell_type": "code",
   "execution_count": null,
   "metadata": {},
   "outputs": [],
   "source": [
    "By Compregension Method:"
   ]
  },
  {
   "cell_type": "code",
   "execution_count": 16,
   "metadata": {},
   "outputs": [
    {
     "name": "stdout",
     "output_type": "stream",
     "text": [
      "[4, 16, 36, 64, 100, 144, 196, 256, 324, 400]\n"
     ]
    }
   ],
   "source": [
    "l1=[ x**2 for x in range (1,21) if x%2 == 0]\n",
    "print(l1)"
   ]
  },
  {
   "cell_type": "code",
   "execution_count": null,
   "metadata": {},
   "outputs": [],
   "source": [
    "Q4:WAP to print the first digits of each  string :"
   ]
  },
  {
   "cell_type": "code",
   "execution_count": 20,
   "metadata": {},
   "outputs": [
    {
     "name": "stdout",
     "output_type": "stream",
     "text": [
      "['R', 'R', 'V', 'S']\n"
     ]
    }
   ],
   "source": [
    "words=['Rohit','Rahul','Virat','Shreyas']\n",
    "l=[word[0] for word in words]\n",
    "print(l)                                   #RRVS"
   ]
  },
  {
   "cell_type": "code",
   "execution_count": null,
   "metadata": {},
   "outputs": [],
   "source": [
    "Q5:WAP to find the numbers which are present in List1 but not in List2"
   ]
  },
  {
   "cell_type": "code",
   "execution_count": null,
   "metadata": {},
   "outputs": [],
   "source": [
    "Traditional Method:"
   ]
  },
  {
   "cell_type": "code",
   "execution_count": 28,
   "metadata": {},
   "outputs": [
    {
     "name": "stdout",
     "output_type": "stream",
     "text": [
      "[10, 20]\n"
     ]
    }
   ],
   "source": [
    "num1=[10,20,30,40]\n",
    "num2=[30,40,50,60]\n",
    "#Create a list with numbers which are present in num1 but not in num2\n",
    "num3=[]\n",
    "for n in num1:\n",
    "    if n not in num2:\n",
    "        num3.append(n)\n",
    "print(num3)"
   ]
  },
  {
   "cell_type": "code",
   "execution_count": null,
   "metadata": {},
   "outputs": [],
   "source": [
    "Comprehension Method:"
   ]
  },
  {
   "cell_type": "code",
   "execution_count": 29,
   "metadata": {},
   "outputs": [
    {
     "name": "stdout",
     "output_type": "stream",
     "text": [
      "[10, 20]\n"
     ]
    }
   ],
   "source": [
    "num4=[n for n in num1 if n not in num2]\n",
    "print(num4)"
   ]
  },
  {
   "cell_type": "code",
   "execution_count": null,
   "metadata": {},
   "outputs": [],
   "source": [
    "Q6:WAP to find the numbers which are commmon in List1 but not in List2."
   ]
  },
  {
   "cell_type": "code",
   "execution_count": null,
   "metadata": {},
   "outputs": [],
   "source": [
    "Traditional Method:"
   ]
  },
  {
   "cell_type": "code",
   "execution_count": 31,
   "metadata": {},
   "outputs": [
    {
     "name": "stdout",
     "output_type": "stream",
     "text": [
      "[30, 40]\n"
     ]
    }
   ],
   "source": [
    "num1=[10,20,30,40]\n",
    "num2=[30,40,50,60]\n",
    "#Create a list with common numbers present in both the lists.\n",
    "num5=[]\n",
    "for n in num1:\n",
    "    if n in num2:\n",
    "        num5.append(n)\n",
    "print(num5)\n"
   ]
  },
  {
   "cell_type": "code",
   "execution_count": null,
   "metadata": {},
   "outputs": [],
   "source": [
    "Comprehension Method:"
   ]
  },
  {
   "cell_type": "code",
   "execution_count": 32,
   "metadata": {},
   "outputs": [
    {
     "name": "stdout",
     "output_type": "stream",
     "text": [
      "[30, 40]\n"
     ]
    }
   ],
   "source": [
    "x=[n for n in num1 if n in num2]\n",
    "print(x)"
   ]
  },
  {
   "cell_type": "code",
   "execution_count": null,
   "metadata": {},
   "outputs": [],
   "source": [
    "Q7:WAP to find the number of letters in the given string."
   ]
  },
  {
   "cell_type": "code",
   "execution_count": null,
   "metadata": {},
   "outputs": [],
   "source": [
    "Traditional Method:"
   ]
  },
  {
   "cell_type": "code",
   "execution_count": 39,
   "metadata": {},
   "outputs": [
    {
     "name": "stdout",
     "output_type": "stream",
     "text": [
      "[['THE', 3], ['QUICK', 5], ['BROWN', 5], ['FOX', 3], ['JUMPS', 5], ['OVER', 4], ['A', 1], ['LAZY', 4], ['DOG', 3]]\n"
     ]
    }
   ],
   "source": [
    "s='THE QUICK BROWN FOX JUMPS OVER A LAZY DOG'\n",
    "words=s.split()\n",
    "l=[]\n",
    "for word in words:\n",
    "    l.append([word,len(word)])\n",
    "print(l)"
   ]
  },
  {
   "cell_type": "code",
   "execution_count": null,
   "metadata": {},
   "outputs": [],
   "source": [
    "Comprehension Method:"
   ]
  },
  {
   "cell_type": "code",
   "execution_count": 40,
   "metadata": {},
   "outputs": [
    {
     "name": "stdout",
     "output_type": "stream",
     "text": [
      "[['THE', 3], ['QUICK', 5], ['BROWN', 5], ['FOX', 3], ['JUMPS', 5], ['OVER', 4], ['A', 1], ['LAZY', 4], ['DOG', 3]]\n"
     ]
    }
   ],
   "source": [
    "l1=[ [word,len(word)] for word in words]\n",
    "print(l1)"
   ]
  },
  {
   "cell_type": "code",
   "execution_count": null,
   "metadata": {},
   "outputs": [],
   "source": [
    "Q7:WAP to interchage the case of letters in the list."
   ]
  },
  {
   "cell_type": "code",
   "execution_count": null,
   "metadata": {},
   "outputs": [],
   "source": []
  },
  {
   "cell_type": "code",
   "execution_count": 42,
   "metadata": {},
   "outputs": [
    {
     "name": "stdout",
     "output_type": "stream",
     "text": [
      "[['the', 3], ['quick', 5], ['brown', 5], ['fox', 3], ['jumps', 5], ['over', 4], ['a', 1], ['lazy', 4], ['dog', 3]]\n"
     ]
    }
   ],
   "source": [
    "s='THE QUICK BROWN FOX JUMPS OVER A LAZY DOG'\n",
    "l1=[ [word.lower(),len(word)] for word in words]\n",
    "print(l1)"
   ]
  },
  {
   "cell_type": "code",
   "execution_count": 43,
   "metadata": {},
   "outputs": [
    {
     "name": "stdout",
     "output_type": "stream",
     "text": [
      "[['the'], ['quick'], ['brown'], ['fox'], ['jumps'], ['over'], ['a'], ['lazy'], ['dog']]\n"
     ]
    }
   ],
   "source": [
    "s='THE QUICK BROWN FOX JUMPS OVER A LAZY DOG'\n",
    "l1=[ [word.lower()] for word in words]\n",
    "print(l1)"
   ]
  },
  {
   "cell_type": "code",
   "execution_count": null,
   "metadata": {},
   "outputs": [],
   "source": [
    "Q8:WAP to change the Title to upper case of letters in the list."
   ]
  },
  {
   "cell_type": "code",
   "execution_count": 44,
   "metadata": {},
   "outputs": [
    {
     "name": "stdout",
     "output_type": "stream",
     "text": [
      "[['The', 3], ['Quick', 5], ['Brown', 5], ['Fox', 3], ['Jumps', 5], ['Over', 4], ['A', 1], ['Lazy', 4], ['Dog', 3]]\n"
     ]
    }
   ],
   "source": [
    "s='THE QUICK BROWN FOX JUMPS OVER A LAZY DOG'\n",
    "l1=[ [word.title(),len(word)] for word in words]\n",
    "print(l1)"
   ]
  },
  {
   "cell_type": "code",
   "execution_count": null,
   "metadata": {},
   "outputs": [],
   "source": [
    "Q9:WAP to find the vowel in any string."
   ]
  },
  {
   "cell_type": "code",
   "execution_count": null,
   "metadata": {},
   "outputs": [],
   "source": [
    "Traditional Method:"
   ]
  },
  {
   "cell_type": "code",
   "execution_count": 46,
   "metadata": {},
   "outputs": [
    {
     "name": "stdout",
     "output_type": "stream",
     "text": [
      "Enter any word to search for vowels :Happy Independence Day\n",
      "['a', 'e']\n"
     ]
    }
   ],
   "source": [
    "word=input('Enter any word to search for vowels :')\n",
    "vowels=['a','e','i','o','u']\n",
    "found=[]\n",
    "\n",
    "for v in vowels:\n",
    "    if v in word:\n",
    "        found.append(v)\n",
    "print(found)\n",
    "        \n"
   ]
  },
  {
   "cell_type": "code",
   "execution_count": null,
   "metadata": {},
   "outputs": [],
   "source": [
    "Comprehension Method:\n",
    "    "
   ]
  },
  {
   "cell_type": "code",
   "execution_count": 47,
   "metadata": {},
   "outputs": [
    {
     "name": "stdout",
     "output_type": "stream",
     "text": [
      "['a', 'e']\n"
     ]
    }
   ],
   "source": [
    "l=[v for v in vowels if v in word]\n",
    "print(l)\n"
   ]
  },
  {
   "cell_type": "code",
   "execution_count": null,
   "metadata": {},
   "outputs": [],
   "source": [
    "--------------------------THE CONCEPT OF TUPLE DATA TYPE:------------------------------------------------"
   ]
  },
  {
   "cell_type": "code",
   "execution_count": null,
   "metadata": {},
   "outputs": [],
   "source": [
    "1.The tuple is exactly same as list\n",
    "2.Tuple is immutable.\n",
    "3.Duplicates are allowed.\n",
    "4.Indexing & Slicing are allowed.\n",
    "5.Heterogenous objects are allowed\n",
    "6()--Parathensis is optional"
   ]
  },
  {
   "cell_type": "code",
   "execution_count": 48,
   "metadata": {},
   "outputs": [
    {
     "name": "stdout",
     "output_type": "stream",
     "text": [
      "<class 'tuple'>\n"
     ]
    }
   ],
   "source": [
    "t=10,20,30,40\n",
    "print(type(t))"
   ]
  },
  {
   "cell_type": "code",
   "execution_count": 49,
   "metadata": {},
   "outputs": [
    {
     "name": "stdout",
     "output_type": "stream",
     "text": [
      "10\n",
      "40\n",
      "(10, 20, 'India', 40)\n",
      "(20, 'India', 40)\n"
     ]
    }
   ],
   "source": [
    "t=(10,20,'India',40)    # Heterogeneous objects are allowed.\n",
    "print(t[0])             #Indexing is allowed.\n",
    "print(t[-1])\n",
    "print(t)\n",
    "print(t[1:4])           # Slicing is allowed.\n"
   ]
  },
  {
   "cell_type": "code",
   "execution_count": 51,
   "metadata": {},
   "outputs": [
    {
     "name": "stdout",
     "output_type": "stream",
     "text": [
      "<class 'tuple'>\n",
      "<class 'int'>\n",
      "<class 'int'>\n",
      "<class 'tuple'>\n",
      "<class 'tuple'>\n",
      "<class 'tuple'>\n",
      "<class 'tuple'>\n",
      "<class 'tuple'>\n"
     ]
    }
   ],
   "source": [
    "t=()                    #Empty Tuple\n",
    "print(type(t))\n",
    "t=(10)                  #Interger Type\n",
    "print(type(t))\n",
    "t=10                    #Integer Type\n",
    "print(type(t))\n",
    "t=(10,)\n",
    "print(type(t))\n",
    "t=(10,20,30)            #Multi Valued Tuple \n",
    "print(type(t))\n",
    "t=10,20,30\n",
    "print(type(t))\n",
    "t=(10,20,30,)\n",
    "print(type(t))\n",
    "t=10,20,30,\n",
    "print(type(t))"
   ]
  },
  {
   "cell_type": "code",
   "execution_count": null,
   "metadata": {},
   "outputs": [],
   "source": [
    "Use Cases Of Tuple Data Type:\n",
    "    Banking,Vending Machined,ATM\n",
    "    \n",
    "Advantages:Accesing the elements is very easy and Fast.\n",
    "           Memory management is also good."
   ]
  },
  {
   "cell_type": "code",
   "execution_count": 54,
   "metadata": {},
   "outputs": [
    {
     "name": "stdout",
     "output_type": "stream",
     "text": [
      "136\n",
      "136\n"
     ]
    }
   ],
   "source": [
    "import sys\n",
    "l=[10,20,30,40,50,60,70,80,90]\n",
    "t=[10,200,300,40,50,60,70,80,90]\n",
    "print(sys.getsizeof(l))\n",
    "print(sys.getsizeof(t))"
   ]
  },
  {
   "cell_type": "code",
   "execution_count": null,
   "metadata": {},
   "outputs": [],
   "source": [
    "Conversion of list type to tuple type.\n",
    "tuple() --- Is used."
   ]
  },
  {
   "cell_type": "code",
   "execution_count": 56,
   "metadata": {},
   "outputs": [
    {
     "name": "stdout",
     "output_type": "stream",
     "text": [
      "(10, 20, 30)\n",
      "<class 'tuple'>\n"
     ]
    }
   ],
   "source": [
    "l=[10,20,30]\n",
    "t=tuple(l)\n",
    "print(t)\n",
    "print(type(t))"
   ]
  },
  {
   "cell_type": "code",
   "execution_count": 57,
   "metadata": {},
   "outputs": [
    {
     "name": "stdout",
     "output_type": "stream",
     "text": [
      "(0, 1, 2, 3, 4, 5, 6, 7, 8, 9)\n",
      "<class 'tuple'>\n"
     ]
    }
   ],
   "source": [
    "l=[10,20,30]\n",
    "t=tuple(l)\n",
    "r=range(10)\n",
    "t=tuple(r)\n",
    "print(t)\n",
    "print(type(t))"
   ]
  },
  {
   "cell_type": "code",
   "execution_count": null,
   "metadata": {},
   "outputs": [],
   "source": [
    "Indexing & Slicing in Tuple:"
   ]
  },
  {
   "cell_type": "code",
   "execution_count": 58,
   "metadata": {},
   "outputs": [
    {
     "name": "stdout",
     "output_type": "stream",
     "text": [
      "10\n",
      "90\n",
      "(30, 40, 50, 60)\n"
     ]
    }
   ],
   "source": [
    "t=(10,20,30,40,50,60,70,80,90,100)\n",
    "print(t[0])\n",
    "print(t[-2])\n",
    "print(t[2:6])"
   ]
  },
  {
   "cell_type": "code",
   "execution_count": null,
   "metadata": {},
   "outputs": [],
   "source": [
    "Mathematical Operations in Tuple:"
   ]
  },
  {
   "cell_type": "code",
   "execution_count": 60,
   "metadata": {},
   "outputs": [
    {
     "name": "stdout",
     "output_type": "stream",
     "text": [
      "(10, 20, 30, 40, 50, 60, 70, 80)\n",
      "(10, 20, 30, 40, 10, 20, 30, 40, 10, 20, 30, 40)\n"
     ]
    }
   ],
   "source": [
    "t1=10,20,30,40\n",
    "t2=50,60,70,80\n",
    "t3=t1+t2\n",
    "t4=t1*3\n",
    "print(t3)\n",
    "print(t4)"
   ]
  },
  {
   "cell_type": "code",
   "execution_count": null,
   "metadata": {},
   "outputs": [],
   "source": [
    "Important Functions & Methods in Tuple:\n",
    "    \n",
    "1.count()\n",
    "2.index()\n",
    "3.sort()      # tuple' object has no attribute 'sort\n",
    "4.sorted()    #sorted() is a python specific function.\n",
    "5.reverse()\n",
    "6.min()\n",
    "7.max()"
   ]
  },
  {
   "cell_type": "code",
   "execution_count": 61,
   "metadata": {},
   "outputs": [
    {
     "name": "stdout",
     "output_type": "stream",
     "text": [
      "4\n"
     ]
    }
   ],
   "source": [
    "t1=10,20,30,10,10,10\n",
    "print(t1.count(10))"
   ]
  },
  {
   "cell_type": "code",
   "execution_count": 62,
   "metadata": {},
   "outputs": [
    {
     "name": "stdout",
     "output_type": "stream",
     "text": [
      "0\n"
     ]
    }
   ],
   "source": [
    "t1=10,20,30,10,10,10\n",
    "print(t1.index(10))"
   ]
  },
  {
   "cell_type": "code",
   "execution_count": 64,
   "metadata": {},
   "outputs": [
    {
     "ename": "AttributeError",
     "evalue": "'tuple' object has no attribute 'sort'",
     "output_type": "error",
     "traceback": [
      "\u001b[1;31m---------------------------------------------------------------------------\u001b[0m",
      "\u001b[1;31mAttributeError\u001b[0m                            Traceback (most recent call last)",
      "\u001b[1;32m<ipython-input-64-1444f3375023>\u001b[0m in \u001b[0;36m<module>\u001b[1;34m\u001b[0m\n\u001b[0;32m      1\u001b[0m \u001b[0mt\u001b[0m\u001b[1;33m=\u001b[0m\u001b[1;33m(\u001b[0m\u001b[1;36m0\u001b[0m\u001b[1;33m,\u001b[0m\u001b[1;36m20\u001b[0m\u001b[1;33m,\u001b[0m\u001b[1;36m5\u001b[0m\u001b[1;33m,\u001b[0m\u001b[1;36m15\u001b[0m\u001b[1;33m,\u001b[0m\u001b[1;36m10\u001b[0m\u001b[1;33m)\u001b[0m\u001b[1;33m\u001b[0m\u001b[1;33m\u001b[0m\u001b[0m\n\u001b[1;32m----> 2\u001b[1;33m \u001b[0mt\u001b[0m\u001b[1;33m.\u001b[0m\u001b[0msort\u001b[0m\u001b[1;33m(\u001b[0m\u001b[1;33m)\u001b[0m\u001b[1;33m\u001b[0m\u001b[1;33m\u001b[0m\u001b[0m\n\u001b[0m\u001b[0;32m      3\u001b[0m \u001b[0mprint\u001b[0m\u001b[1;33m(\u001b[0m\u001b[0mt\u001b[0m\u001b[1;33m)\u001b[0m\u001b[1;33m\u001b[0m\u001b[1;33m\u001b[0m\u001b[0m\n",
      "\u001b[1;31mAttributeError\u001b[0m: 'tuple' object has no attribute 'sort'"
     ]
    }
   ],
   "source": [
    "t=(0,20,5,15,10)\n",
    "t.sort()\n",
    "print(t)          # sort() is allowed only for list\n"
   ]
  },
  {
   "cell_type": "code",
   "execution_count": 68,
   "metadata": {},
   "outputs": [
    {
     "name": "stdout",
     "output_type": "stream",
     "text": [
      "(0, 5, 10, 15, 20)\n"
     ]
    }
   ],
   "source": [
    "t=(0,20,5,15,10)\n",
    "l1=tuple(sorted(t))     #sorted() is a python specific function.\n",
    "print(l1)"
   ]
  },
  {
   "cell_type": "code",
   "execution_count": 70,
   "metadata": {},
   "outputs": [
    {
     "name": "stdout",
     "output_type": "stream",
     "text": [
      "(20, 15, 10, 5, 0)\n"
     ]
    }
   ],
   "source": [
    "t=(0,20,5,15,10)\n",
    "l1=tuple(sorted(t,reverse=True))     \n",
    "print(l1)"
   ]
  },
  {
   "cell_type": "code",
   "execution_count": 71,
   "metadata": {},
   "outputs": [
    {
     "name": "stdout",
     "output_type": "stream",
     "text": [
      "(0, 5, 10, 15, 20)\n"
     ]
    }
   ],
   "source": [
    "t=(0,20,5,15,10)\n",
    "l1=tuple(sorted(t,reverse=False))     \n",
    "print(l1)"
   ]
  },
  {
   "cell_type": "code",
   "execution_count": null,
   "metadata": {},
   "outputs": [],
   "source": [
    "Q:What is the diffrence in between sort() & sorted()\n",
    "\n",
    "Ans:Sort()--This is a list specific method.\n",
    "it wont create a new list rather sort() happens in the existing list only.\n",
    "\n",
    "sorted()--This is a general purpose python's inbuild function which is applicable to any sequence.\n",
    "Here always  new list object is created ."
   ]
  },
  {
   "cell_type": "code",
   "execution_count": 72,
   "metadata": {},
   "outputs": [
    {
     "name": "stdout",
     "output_type": "stream",
     "text": [
      "Before sorting: [0, 20, 5, 15, 10]\n",
      "Before sorting address: 1631220670920\n",
      "After sorting: [0, 5, 10, 15, 20]\n",
      "After sorting address: 1631220670920\n"
     ]
    }
   ],
   "source": [
    "l=[0,20,5,15,10]\n",
    "print('Before sorting:',l)\n",
    "print('Before sorting address:',id(l))\n",
    "l.sort()\n",
    "print('After sorting:',l)\n",
    "print('After sorting address:',id(l))   #A new object is not created,therefore Ids are indifferent."
   ]
  },
  {
   "cell_type": "code",
   "execution_count": 76,
   "metadata": {},
   "outputs": [
    {
     "name": "stdout",
     "output_type": "stream",
     "text": [
      "Before sorting: [0, 20, 5, 15, 10]\n",
      "Before sorting address: 1631220563720\n",
      "After sorting: [0, 5, 10, 15, 20]\n",
      "After sorting address: 1631220599560\n"
     ]
    }
   ],
   "source": [
    "l1=[0,20,5,15,10]\n",
    "print('Before sorting:',l1)\n",
    "print('Before sorting address:',id(l))\n",
    "l1=sorted(l)\n",
    "print('After sorting:',l1)\n",
    "print('After sorting address:',id(l1))   #A new object is created as Id are diffrent"
   ]
  },
  {
   "cell_type": "code",
   "execution_count": null,
   "metadata": {},
   "outputs": [],
   "source": [
    "append()----------#This is not alloawed in tuple becasue tuple is Immutable\n",
    "extend()----------#This is not alloawed in tuple becasue tuple is Immutable\n",
    "insert()----------#This is not alloawed in tuple becasue tuple is Immutable\n",
    "remove()----------#This is not alloawed in tuple becasue tuple is Immutable\n",
    "pop()----------   #This is not alloawed in tuple becasue tuple is Immutable\n",
    "sort()----------  #This is not alloawed in tuple becasue tuple is Immutable\n",
    "reverse()---------#This is not alloawed in tuple becasue tuple is Immutable\n",
    "clear()---------- #This is not alloawed in tuple becasue tuple is Immutable"
   ]
  },
  {
   "cell_type": "code",
   "execution_count": null,
   "metadata": {},
   "outputs": [],
   "source": [
    "Equality Operator in Tuple:"
   ]
  },
  {
   "cell_type": "code",
   "execution_count": 78,
   "metadata": {},
   "outputs": [
    {
     "name": "stdout",
     "output_type": "stream",
     "text": [
      "True\n",
      "False\n",
      "True\n"
     ]
    }
   ],
   "source": [
    "t1=(10,20,30,40)\n",
    "t2=(10,20,30,40)\n",
    "t3=(20,30,40,10)\n",
    "print(t1 == t2)\n",
    "print(t1 == t3)\n",
    "print(t1 != t3)"
   ]
  },
  {
   "cell_type": "code",
   "execution_count": 79,
   "metadata": {},
   "outputs": [
    {
     "name": "stdout",
     "output_type": "stream",
     "text": [
      "False\n",
      "True\n"
     ]
    }
   ],
   "source": [
    "t1=(10,20,30,40)\n",
    "t2=(10,20,30,40)\n",
    "t3=(20,30,40,10)\n",
    "print(t1 < t2)\n",
    "print(t1 < t3)\n"
   ]
  },
  {
   "cell_type": "code",
   "execution_count": null,
   "metadata": {},
   "outputs": [],
   "source": [
    "Packing & Unpacking Concepts in TUPLE:"
   ]
  },
  {
   "cell_type": "code",
   "execution_count": null,
   "metadata": {},
   "outputs": [],
   "source": [
    "t=a,b,c,d===>Packing of 4 Values inside a single tuple.\n",
    "a,b,c,d=t===>Unpacking of values from t and assigning them to a,b,c,d."
   ]
  },
  {
   "cell_type": "code",
   "execution_count": null,
   "metadata": {},
   "outputs": [],
   "source": []
  },
  {
   "cell_type": "code",
   "execution_count": 80,
   "metadata": {},
   "outputs": [
    {
     "name": "stdout",
     "output_type": "stream",
     "text": [
      "(10, 20, 30, 40)\n"
     ]
    }
   ],
   "source": [
    "a=10\n",
    "b=20\n",
    "c=30\n",
    "d=40\n",
    "t=a,b,c,d\n",
    "print(t)         #This concept is called as packing in Tuple"
   ]
  },
  {
   "cell_type": "code",
   "execution_count": 81,
   "metadata": {},
   "outputs": [
    {
     "name": "stdout",
     "output_type": "stream",
     "text": [
      "10 20 30 40\n"
     ]
    }
   ],
   "source": [
    "t=(10,20,30,40)\n",
    "a,b,c,d=t\n",
    "print(a,b,c,d) #This is called unpacking in Tuple."
   ]
  },
  {
   "cell_type": "code",
   "execution_count": 82,
   "metadata": {},
   "outputs": [
    {
     "name": "stdout",
     "output_type": "stream",
     "text": [
      "10\n",
      "20\n",
      "30\n",
      "[40, 50, 60, 70, 80, 90, 100]\n"
     ]
    }
   ],
   "source": [
    "t=(10,20,30,40,50,60,70,80,90,100)\n",
    "a,b,c,*d=t\n",
    "print(a)\n",
    "print(b)\n",
    "print(c)\n",
    "print(d)"
   ]
  },
  {
   "cell_type": "code",
   "execution_count": null,
   "metadata": {},
   "outputs": [],
   "source": [
    "*x & **X\n",
    "*args====>Variable Number of Arguments\n",
    "**kwargs===>Variable number of Keyword Arguments."
   ]
  },
  {
   "cell_type": "code",
   "execution_count": null,
   "metadata": {},
   "outputs": [],
   "source": [
    "Comprehension Concept in list & Tuple."
   ]
  },
  {
   "cell_type": "code",
   "execution_count": 84,
   "metadata": {},
   "outputs": [
    {
     "name": "stdout",
     "output_type": "stream",
     "text": [
      "<class 'list'>\n",
      "[1, 4, 9, 16, 25]\n"
     ]
    }
   ],
   "source": [
    "l=[ x*x for x in range(1,6)]\n",
    "print(type(l))\n",
    "print(l)"
   ]
  },
  {
   "cell_type": "code",
   "execution_count": 86,
   "metadata": {},
   "outputs": [
    {
     "name": "stdout",
     "output_type": "stream",
     "text": [
      "<class 'generator'>\n",
      "<generator object <genexpr> at 0x0000017BCC524548>\n"
     ]
    }
   ],
   "source": [
    "t=( x*x for x in range(1,6))\n",
    "print(type(t))               #<generator object <genexpr> is created therefore comprehension cobept isn't applicable in list.\n",
    "print(t)         "
   ]
  },
  {
   "cell_type": "code",
   "execution_count": null,
   "metadata": {},
   "outputs": [],
   "source": [
    "Q:WAP to input the values from the keyboard and print its sum & avearage."
   ]
  },
  {
   "cell_type": "code",
   "execution_count": 100,
   "metadata": {},
   "outputs": [
    {
     "name": "stdout",
     "output_type": "stream",
     "text": [
      "Enter Tuple of Numbers:10,20\n",
      "The sum: 30\n",
      "The Average: 15.0\n"
     ]
    }
   ],
   "source": [
    "t=eval(input('Enter Tuple of Numbers:'))\n",
    "sum=0\n",
    "l=len(t)\n",
    "for n in t:\n",
    "    sum=sum+n\n",
    "    avg=sum/l\n",
    "print('The sum:',sum)\n",
    "print('The Average:',avg)"
   ]
  },
  {
   "cell_type": "code",
   "execution_count": null,
   "metadata": {},
   "outputs": [],
   "source": [
    "Another Method:"
   ]
  },
  {
   "cell_type": "code",
   "execution_count": 3,
   "metadata": {},
   "outputs": [
    {
     "name": "stdout",
     "output_type": "stream",
     "text": [
      "Enter Tuple of Numbers:10,20\n",
      "The sum: 30\n",
      "The Average: 15.0\n"
     ]
    }
   ],
   "source": [
    "t=eval(input('Enter Tuple of Numbers:'))\n",
    "print('The sum:',sum(t))\n",
    "print('The Average:',sum(t)/len(t))     #sum & Len() are in build functions of "
   ]
  },
  {
   "cell_type": "code",
   "execution_count": null,
   "metadata": {},
   "outputs": [],
   "source": [
    "Non Hasable and Hashable concept:"
   ]
  },
  {
   "cell_type": "code",
   "execution_count": 1,
   "metadata": {},
   "outputs": [
    {
     "name": "stdout",
     "output_type": "stream",
     "text": [
      "{(10, 20, 30): 'India'}\n"
     ]
    }
   ],
   "source": [
    "d={(10,20,30):'India'}  #Hashable we can use tuple as Key & Value in a dictionary.\n",
    "print(d)\n"
   ]
  },
  {
   "cell_type": "code",
   "execution_count": 6,
   "metadata": {},
   "outputs": [
    {
     "name": "stdout",
     "output_type": "stream",
     "text": [
      "{('India', 'Pakistan', 'Srilanka'): 10}\n"
     ]
    }
   ],
   "source": [
    "d={('India','Pakistan','Srilanka'):10}  #Hashable we can use tuple as Key & Value in a dictionary.\n",
    "print(d)\n"
   ]
  },
  {
   "cell_type": "code",
   "execution_count": 2,
   "metadata": {},
   "outputs": [
    {
     "ename": "TypeError",
     "evalue": "unhashable type: 'list'",
     "output_type": "error",
     "traceback": [
      "\u001b[1;31m---------------------------------------------------------------------------\u001b[0m",
      "\u001b[1;31mTypeError\u001b[0m                                 Traceback (most recent call last)",
      "\u001b[1;32m<ipython-input-2-330755b2cd33>\u001b[0m in \u001b[0;36m<module>\u001b[1;34m\u001b[0m\n\u001b[1;32m----> 1\u001b[1;33m \u001b[0md\u001b[0m\u001b[1;33m=\u001b[0m\u001b[1;33m{\u001b[0m\u001b[1;33m[\u001b[0m\u001b[1;36m10\u001b[0m\u001b[1;33m,\u001b[0m\u001b[1;36m20\u001b[0m\u001b[1;33m,\u001b[0m\u001b[1;36m30\u001b[0m\u001b[1;33m]\u001b[0m\u001b[1;33m:\u001b[0m\u001b[1;34m'India'\u001b[0m\u001b[1;33m}\u001b[0m\u001b[1;33m\u001b[0m\u001b[1;33m\u001b[0m\u001b[0m\n\u001b[0m\u001b[0;32m      2\u001b[0m \u001b[0mprint\u001b[0m\u001b[1;33m(\u001b[0m\u001b[0md\u001b[0m\u001b[1;33m)\u001b[0m\u001b[1;33m\u001b[0m\u001b[1;33m\u001b[0m\u001b[0m\n",
      "\u001b[1;31mTypeError\u001b[0m: unhashable type: 'list'"
     ]
    }
   ],
   "source": [
    "d={[10,20,30]:'India'} # unhashable type:'list'  we cann't use tuple as Key & Value in a dictionary.\n",
    "print(d)"
   ]
  },
  {
   "cell_type": "code",
   "execution_count": null,
   "metadata": {},
   "outputs": [],
   "source": [
    "Q:What Are the Major difference in between List & Tuple?\n",
    "    \n",
    "Ans:\n",
    "1.List is Mutable and Tuple is immutable.\n",
    "\n",
    "2.List group of comma separeted values [] and tuple is group of comma separated values ()\n",
    "\n",
    "3.[] is mandatory for List whereas () is not mandatory for tuple.\n",
    "\n",
    "4.Memory util and performance is not optimal for list[ ];tuple()  is memory util & performace optimal.\n",
    "\n",
    "5.comprehension concept is applicable for list[] and not applicable in tuple().\n",
    "\n",
    "6.packing is allowed in list[] and packing & unpacking both are allowed in tuple()\n",
    "\n",
    "7.list[] is non-hashable type:means we cant use list as key in the dictionary.tuple() is hashable:Means we can use the tuple as key in dictionary \n",
    "    "
   ]
  },
  {
   "cell_type": "code",
   "execution_count": null,
   "metadata": {},
   "outputs": [],
   "source": [
    "SET Data Types:\n",
    "    \n",
    "1.Order is not important.\n",
    "2.Duplcate Objects aren't allowed.\n",
    "3.Indexing & Slicing Concepts aren't applicable.\n",
    "4.Heterogenous Objects are allowed.\n",
    "5.Mutable\n",
    "6.Growable In Nature.\n",
    "7.Defined by {}\n",
    "8.Specific Mathematical Operations like 'Union','Intersection','Difference' is applicable.\n",
    "\n",
    "\n",
    "Use_Cases: SMS Messaging,"
   ]
  },
  {
   "cell_type": "code",
   "execution_count": null,
   "metadata": {},
   "outputs": [],
   "source": [
    "How to Create an empty Set Object?\n",
    "s={}    #This is a dictionary\n",
    "set()   #This is python's Inbuild function to create a set object\n",
    "s=set() #This is used to create a set object\n"
   ]
  },
  {
   "cell_type": "code",
   "execution_count": null,
   "metadata": {},
   "outputs": [],
   "source": []
  },
  {
   "cell_type": "code",
   "execution_count": 1,
   "metadata": {},
   "outputs": [
    {
     "name": "stdout",
     "output_type": "stream",
     "text": [
      "{40, 10, 50, 20, 30}\n"
     ]
    }
   ],
   "source": [
    "l=[20,10,30,10,50,10,10,40] #List\n",
    "s=set(l)\n",
    "print(s)                    #Order isn't Important and Duplicates are removed."
   ]
  },
  {
   "cell_type": "code",
   "execution_count": 2,
   "metadata": {},
   "outputs": [
    {
     "name": "stdout",
     "output_type": "stream",
     "text": [
      "{40, 10, 50, 20, 30}\n"
     ]
    }
   ],
   "source": [
    "l=(20,10,30,10,50,10,10,40)  #Tuple\n",
    "s=set(l)\n",
    "print(s)                     #Order isn't Important and Duplicates are removed."
   ]
  },
  {
   "cell_type": "code",
   "execution_count": 3,
   "metadata": {},
   "outputs": [
    {
     "name": "stdout",
     "output_type": "stream",
     "text": [
      "{200, 10}\n"
     ]
    }
   ],
   "source": [
    "d={10:'Durga',200:'Ravi'}\n",
    "s=set(d)                 \n",
    "print(s)"
   ]
  },
  {
   "cell_type": "code",
   "execution_count": 6,
   "metadata": {},
   "outputs": [
    {
     "name": "stdout",
     "output_type": "stream",
     "text": [
      "Enter Any Set Of Elements:10,20,10,10,10,20,20,30,10\n",
      "(10, 20, 10, 10, 10, 20, 20, 30, 10)\n",
      "set()\n",
      "<class 'set'>\n"
     ]
    }
   ],
   "source": [
    "s=eval(input('Enter Any Set Of Elements:'))\n",
    "print(s)\n",
    "s=set()\n",
    "print(s)\n",
    "print(type(s))\n"
   ]
  },
  {
   "cell_type": "code",
   "execution_count": null,
   "metadata": {},
   "outputs": [],
   "source": [
    "Important Methods and Functions in Set:"
   ]
  },
  {
   "cell_type": "code",
   "execution_count": 7,
   "metadata": {},
   "outputs": [
    {
     "name": "stdout",
     "output_type": "stream",
     "text": [
      "{'Durga', 70, 40, 10, 20}\n"
     ]
    }
   ],
   "source": [
    "# To add elements in a set:\n",
    "\n",
    "s=set()\n",
    "s.add(10)\n",
    "s.add(70)\n",
    "s.add(20)\n",
    "s.add('Durga')\n",
    "s.add(40)\n",
    "print(s)\n"
   ]
  },
  {
   "cell_type": "code",
   "execution_count": null,
   "metadata": {},
   "outputs": [],
   "source": [
    "#Q TO add a sequence in a set:  s.update()-----Only a sequece must be added,"
   ]
  },
  {
   "cell_type": "code",
   "execution_count": 9,
   "metadata": {},
   "outputs": [
    {
     "name": "stdout",
     "output_type": "stream",
     "text": [
      "{1, 2, 3, 4, 5, 6, 7, 8, 9, 10, 'D', 'u', 'r', 'g', 'a'}\n"
     ]
    }
   ],
   "source": [
    "s=set()\n",
    "s.update(range(1,6),range(6,11),'Durga')\n",
    "print(s)"
   ]
  },
  {
   "cell_type": "code",
   "execution_count": 11,
   "metadata": {},
   "outputs": [
    {
     "ename": "TypeError",
     "evalue": "add() takes exactly one argument (3 given)",
     "output_type": "error",
     "traceback": [
      "\u001b[1;31m---------------------------------------------------------------------------\u001b[0m",
      "\u001b[1;31mTypeError\u001b[0m                                 Traceback (most recent call last)",
      "\u001b[1;32m<ipython-input-11-8148fa75c407>\u001b[0m in \u001b[0;36m<module>\u001b[1;34m\u001b[0m\n\u001b[0;32m      1\u001b[0m \u001b[0ms\u001b[0m\u001b[1;33m.\u001b[0m\u001b[0madd\u001b[0m\u001b[1;33m(\u001b[0m\u001b[1;36m10\u001b[0m\u001b[1;33m)\u001b[0m\u001b[1;33m\u001b[0m\u001b[1;33m\u001b[0m\u001b[0m\n\u001b[1;32m----> 2\u001b[1;33m \u001b[0ms\u001b[0m\u001b[1;33m.\u001b[0m\u001b[0madd\u001b[0m\u001b[1;33m(\u001b[0m\u001b[1;36m10\u001b[0m\u001b[1;33m,\u001b[0m\u001b[1;36m20\u001b[0m\u001b[1;33m,\u001b[0m\u001b[1;36m30\u001b[0m\u001b[1;33m)\u001b[0m\u001b[1;33m\u001b[0m\u001b[1;33m\u001b[0m\u001b[0m\n\u001b[0m\u001b[0;32m      3\u001b[0m \u001b[0ms\u001b[0m\u001b[1;33m.\u001b[0m\u001b[0mupdate\u001b[0m\u001b[1;33m(\u001b[0m\u001b[1;36m10\u001b[0m\u001b[1;33m)\u001b[0m\u001b[1;33m\u001b[0m\u001b[1;33m\u001b[0m\u001b[0m\n\u001b[0;32m      4\u001b[0m \u001b[0ms\u001b[0m\u001b[1;33m.\u001b[0m\u001b[0mupodate\u001b[0m\u001b[1;33m(\u001b[0m\u001b[0mrange\u001b[0m\u001b[1;33m(\u001b[0m\u001b[1;36m1\u001b[0m\u001b[1;33m,\u001b[0m\u001b[1;36m11\u001b[0m\u001b[1;33m)\u001b[0m\u001b[1;33m,\u001b[0m\u001b[0mrange\u001b[0m\u001b[1;33m(\u001b[0m\u001b[1;36m11\u001b[0m\u001b[1;33m,\u001b[0m\u001b[1;36m20\u001b[0m\u001b[1;33m)\u001b[0m\u001b[1;33m)\u001b[0m\u001b[1;33m\u001b[0m\u001b[1;33m\u001b[0m\u001b[0m\n\u001b[0;32m      5\u001b[0m \u001b[0mprint\u001b[0m\u001b[1;33m(\u001b[0m\u001b[0ms\u001b[0m\u001b[1;33m)\u001b[0m\u001b[1;33m\u001b[0m\u001b[1;33m\u001b[0m\u001b[0m\n",
      "\u001b[1;31mTypeError\u001b[0m: add() takes exactly one argument (3 given)"
     ]
    }
   ],
   "source": [
    "s.add(10)\n",
    "s.add(10,20,30)----->Invailid\n",
    "s.update(10)----->Invalid,Becasue its not a sequence.\n",
    "s.upodate(range(1,11),range(11,20))\n",
    "print(s)"
   ]
  },
  {
   "cell_type": "code",
   "execution_count": 12,
   "metadata": {},
   "outputs": [
    {
     "ename": "TypeError",
     "evalue": "unhashable type: 'list'",
     "output_type": "error",
     "traceback": [
      "\u001b[1;31m---------------------------------------------------------------------------\u001b[0m",
      "\u001b[1;31mTypeError\u001b[0m                                 Traceback (most recent call last)",
      "\u001b[1;32m<ipython-input-12-292451940d48>\u001b[0m in \u001b[0;36m<module>\u001b[1;34m\u001b[0m\n\u001b[0;32m      1\u001b[0m \u001b[0ms\u001b[0m\u001b[1;33m=\u001b[0m\u001b[0mset\u001b[0m\u001b[1;33m(\u001b[0m\u001b[1;33m)\u001b[0m\u001b[1;33m\u001b[0m\u001b[1;33m\u001b[0m\u001b[0m\n\u001b[1;32m----> 2\u001b[1;33m \u001b[0ms\u001b[0m\u001b[1;33m.\u001b[0m\u001b[0madd\u001b[0m\u001b[1;33m(\u001b[0m\u001b[1;33m[\u001b[0m\u001b[1;36m10\u001b[0m\u001b[1;33m,\u001b[0m\u001b[1;36m20\u001b[0m\u001b[1;33m,\u001b[0m\u001b[1;36m30\u001b[0m\u001b[1;33m]\u001b[0m\u001b[1;33m)\u001b[0m\u001b[1;33m\u001b[0m\u001b[1;33m\u001b[0m\u001b[0m\n\u001b[0m\u001b[0;32m      3\u001b[0m \u001b[0mprint\u001b[0m\u001b[1;33m(\u001b[0m\u001b[0ms\u001b[0m\u001b[1;33m)\u001b[0m\u001b[1;33m\u001b[0m\u001b[1;33m\u001b[0m\u001b[0m\n",
      "\u001b[1;31mTypeError\u001b[0m: unhashable type: 'list'"
     ]
    }
   ],
   "source": [
    "s=set()\n",
    "s.add([10,20,30])      # List type is Unhashabel\n",
    "print(s)"
   ]
  },
  {
   "cell_type": "code",
   "execution_count": 14,
   "metadata": {},
   "outputs": [
    {
     "name": "stdout",
     "output_type": "stream",
     "text": [
      "{(10, 20, 30)}\n"
     ]
    }
   ],
   "source": [
    "s=set()\n",
    "s.add((10,20,30))      # Tuple type is hashable\n",
    "print(s)"
   ]
  },
  {
   "cell_type": "code",
   "execution_count": null,
   "metadata": {},
   "outputs": [],
   "source": [
    "#Q What is the difference in between add() & Update()?\n",
    "\n",
    "add()--->To add a single Item Only\n",
    "update()-->To add a sequence of items."
   ]
  },
  {
   "cell_type": "code",
   "execution_count": 16,
   "metadata": {},
   "outputs": [
    {
     "name": "stdout",
     "output_type": "stream",
     "text": [
      "{40, 10, 20, 30}\n",
      "<class 'set'>\n"
     ]
    }
   ],
   "source": [
    "s=set()\n",
    "# s.add([10,20,30]) # We are adding list objects into the set;Not Possible\n",
    "# s.update([10,20,30]) #we are adding elememts present in a list to the set\n",
    "s.update([10,20],[30,40])\n",
    "print(s)\n",
    "print(type(s))"
   ]
  },
  {
   "cell_type": "code",
   "execution_count": null,
   "metadata": {},
   "outputs": [],
   "source": [
    "# Q How to remove elements from the list?"
   ]
  },
  {
   "cell_type": "code",
   "execution_count": null,
   "metadata": {},
   "outputs": [],
   "source": [
    "1.s.pop()-->This repmoves and returns random elements from the list\n",
    "2.s.remove()-->This removes specified elements\n",
    "3.s.discard(x)-->This is same as remove but here we wont get key error.\n",
    "4.s.clear()---This removes all the elements from the list"
   ]
  },
  {
   "cell_type": "code",
   "execution_count": 18,
   "metadata": {},
   "outputs": [
    {
     "name": "stdout",
     "output_type": "stream",
     "text": [
      "0\n",
      "5\n",
      "40\n",
      "10\n",
      "50\n",
      "20\n",
      "25\n"
     ]
    },
    {
     "ename": "KeyError",
     "evalue": "'pop from an empty set'",
     "output_type": "error",
     "traceback": [
      "\u001b[1;31m---------------------------------------------------------------------------\u001b[0m",
      "\u001b[1;31mKeyError\u001b[0m                                  Traceback (most recent call last)",
      "\u001b[1;32m<ipython-input-18-5807ab3e9589>\u001b[0m in \u001b[0;36m<module>\u001b[1;34m\u001b[0m\n\u001b[0;32m      7\u001b[0m \u001b[0mprint\u001b[0m\u001b[1;33m(\u001b[0m\u001b[0ms\u001b[0m\u001b[1;33m.\u001b[0m\u001b[0mpop\u001b[0m\u001b[1;33m(\u001b[0m\u001b[1;33m)\u001b[0m\u001b[1;33m)\u001b[0m\u001b[1;33m\u001b[0m\u001b[1;33m\u001b[0m\u001b[0m\n\u001b[0;32m      8\u001b[0m \u001b[0mprint\u001b[0m\u001b[1;33m(\u001b[0m\u001b[0ms\u001b[0m\u001b[1;33m.\u001b[0m\u001b[0mpop\u001b[0m\u001b[1;33m(\u001b[0m\u001b[1;33m)\u001b[0m\u001b[1;33m)\u001b[0m\u001b[1;33m\u001b[0m\u001b[1;33m\u001b[0m\u001b[0m\n\u001b[1;32m----> 9\u001b[1;33m \u001b[0mprint\u001b[0m\u001b[1;33m(\u001b[0m\u001b[0ms\u001b[0m\u001b[1;33m.\u001b[0m\u001b[0mpop\u001b[0m\u001b[1;33m(\u001b[0m\u001b[1;33m)\u001b[0m\u001b[1;33m)\u001b[0m\u001b[1;33m\u001b[0m\u001b[1;33m\u001b[0m\u001b[0m\n\u001b[0m",
      "\u001b[1;31mKeyError\u001b[0m: 'pop from an empty set'"
     ]
    }
   ],
   "source": [
    "s={10,50,40,20,25,0,5}\n",
    "print(s.pop())\n",
    "print(s.pop())\n",
    "print(s.pop())\n",
    "print(s.pop())\n",
    "print(s.pop())\n",
    "print(s.pop())\n",
    "print(s.pop())\n",
    "print(s.pop()) # After deleting random elements from the set it returns \"KeyError: 'pop from an empty set'\""
   ]
  },
  {
   "cell_type": "code",
   "execution_count": null,
   "metadata": {},
   "outputs": [],
   "source": [
    "#Q:How to avoid the key error?\n"
   ]
  },
  {
   "cell_type": "code",
   "execution_count": 20,
   "metadata": {},
   "outputs": [
    {
     "name": "stdout",
     "output_type": "stream",
     "text": [
      "0\n",
      "5\n",
      "40\n",
      "10\n",
      "50\n",
      "20\n",
      "25\n"
     ]
    }
   ],
   "source": [
    "s={10,50,40,20,25,0,5}\n",
    "print(s.pop())\n",
    "print(s.pop())\n",
    "print(s.pop())\n",
    "print(s.pop())\n",
    "print(s.pop())\n",
    "print(s.pop())\n",
    "print(s.pop())\n",
    "if len(s) != 0:\n",
    "    print(s.pop())\n"
   ]
  },
  {
   "cell_type": "code",
   "execution_count": null,
   "metadata": {},
   "outputs": [],
   "source": [
    "Q:WAP to send SMS to Unique numbers:"
   ]
  },
  {
   "cell_type": "code",
   "execution_count": 21,
   "metadata": {},
   "outputs": [
    {
     "name": "stdout",
     "output_type": "stream",
     "text": [
      "Sending SMS to mobile number: 70\n",
      "Sending SMS to mobile number: 40\n",
      "Sending SMS to mobile number: 10\n",
      "Sending SMS to mobile number: 80\n",
      "Sending SMS to mobile number: 50\n",
      "Sending SMS to mobile number: 20\n",
      "Sending SMS to mobile number: 90\n",
      "Sending SMS to mobile number: 30\n"
     ]
    }
   ],
   "source": [
    "s={10,20,30,90,10,30,50,70,90,80,10,40,30}\n",
    "while len(s) != 0:\n",
    "    n=s.pop()\n",
    "    print('Sending SMS to mobile number:',n)\n"
   ]
  },
  {
   "cell_type": "code",
   "execution_count": null,
   "metadata": {},
   "outputs": [],
   "source": [
    "2.s.remove()-->This removes specified elements"
   ]
  },
  {
   "cell_type": "code",
   "execution_count": 23,
   "metadata": {},
   "outputs": [
    {
     "name": "stdout",
     "output_type": "stream",
     "text": [
      "{40, 10, 30}\n"
     ]
    }
   ],
   "source": [
    "s={10,20,30,40}\n",
    "s.remove(20)\n",
    "print(s)"
   ]
  },
  {
   "cell_type": "code",
   "execution_count": 24,
   "metadata": {},
   "outputs": [
    {
     "ename": "KeyError",
     "evalue": "50",
     "output_type": "error",
     "traceback": [
      "\u001b[1;31m---------------------------------------------------------------------------\u001b[0m",
      "\u001b[1;31mKeyError\u001b[0m                                  Traceback (most recent call last)",
      "\u001b[1;32m<ipython-input-24-4a66558fe16c>\u001b[0m in \u001b[0;36m<module>\u001b[1;34m\u001b[0m\n\u001b[0;32m      1\u001b[0m \u001b[0ms\u001b[0m\u001b[1;33m=\u001b[0m\u001b[1;33m{\u001b[0m\u001b[1;36m10\u001b[0m\u001b[1;33m,\u001b[0m\u001b[1;36m20\u001b[0m\u001b[1;33m,\u001b[0m\u001b[1;36m30\u001b[0m\u001b[1;33m,\u001b[0m\u001b[1;36m40\u001b[0m\u001b[1;33m}\u001b[0m\u001b[1;33m\u001b[0m\u001b[1;33m\u001b[0m\u001b[0m\n\u001b[1;32m----> 2\u001b[1;33m \u001b[0ms\u001b[0m\u001b[1;33m.\u001b[0m\u001b[0mremove\u001b[0m\u001b[1;33m(\u001b[0m\u001b[1;36m50\u001b[0m\u001b[1;33m)\u001b[0m\u001b[1;33m\u001b[0m\u001b[1;33m\u001b[0m\u001b[0m\n\u001b[0m\u001b[0;32m      3\u001b[0m \u001b[0mprint\u001b[0m\u001b[1;33m(\u001b[0m\u001b[0ms\u001b[0m\u001b[1;33m)\u001b[0m\u001b[1;33m\u001b[0m\u001b[1;33m\u001b[0m\u001b[0m\n",
      "\u001b[1;31mKeyError\u001b[0m: 50"
     ]
    }
   ],
   "source": [
    "s={10,20,30,40}\n",
    "s.remove(50)     # Will Get a Key Error while removing the element which isn't present in the list.\n",
    "print(s)"
   ]
  },
  {
   "cell_type": "code",
   "execution_count": 25,
   "metadata": {},
   "outputs": [
    {
     "name": "stdout",
     "output_type": "stream",
     "text": [
      "{40, 10, 20, 30}\n"
     ]
    }
   ],
   "source": [
    "#To Avoid Key Error:\n",
    "\n",
    "s={10,20,30,40}\n",
    "if 50 in s:         #Membership operator is Used.\n",
    "    s.remove(50)\n",
    "print(s)\n"
   ]
  },
  {
   "cell_type": "code",
   "execution_count": null,
   "metadata": {},
   "outputs": [],
   "source": [
    "3.s.discard(x)-->This is same as remove but here we wont get key error."
   ]
  },
  {
   "cell_type": "code",
   "execution_count": 26,
   "metadata": {},
   "outputs": [
    {
     "name": "stdout",
     "output_type": "stream",
     "text": [
      "{40, 20, 30}\n"
     ]
    }
   ],
   "source": [
    "s={10,20,30,40}\n",
    "s.discard(10)\n",
    "s.discard(50)\n",
    "s.discard(70)\n",
    "s.discard(90)\n",
    "print(s)       # This wont give any Key Error ;It only removes the values present in the set."
   ]
  },
  {
   "cell_type": "code",
   "execution_count": null,
   "metadata": {},
   "outputs": [],
   "source": [
    "4.s.clear()---This removes all the elements from the list"
   ]
  },
  {
   "cell_type": "code",
   "execution_count": 27,
   "metadata": {},
   "outputs": [
    {
     "name": "stdout",
     "output_type": "stream",
     "text": [
      "set()\n"
     ]
    }
   ],
   "source": [
    "s={10,20,30,40}\n",
    "s.clear()\n",
    "print(s)"
   ]
  },
  {
   "cell_type": "code",
   "execution_count": null,
   "metadata": {},
   "outputs": [],
   "source": [
    "Aliasioning & CLoning:"
   ]
  },
  {
   "cell_type": "code",
   "execution_count": 28,
   "metadata": {},
   "outputs": [
    {
     "name": "stdout",
     "output_type": "stream",
     "text": [
      "1763570093640\n",
      "1763570093640\n"
     ]
    }
   ],
   "source": [
    "s={10,20,30}\n",
    "s1=s\n",
    "print(id(s))\n",
    "print(id(s1))\n"
   ]
  },
  {
   "cell_type": "code",
   "execution_count": 29,
   "metadata": {},
   "outputs": [
    {
     "name": "stdout",
     "output_type": "stream",
     "text": [
      "1763570093416\n",
      "1763570091624\n"
     ]
    }
   ],
   "source": [
    "s={10,20,30}\n",
    "s1=s.copy()\n",
    "print(id(s))\n",
    "print(id(s1))"
   ]
  },
  {
   "cell_type": "code",
   "execution_count": null,
   "metadata": {},
   "outputs": [],
   "source": [
    "Mathematical Operation On Set:"
   ]
  },
  {
   "cell_type": "code",
   "execution_count": null,
   "metadata": {},
   "outputs": [],
   "source": [
    "+ Operator is not allowed in set\n",
    "* Operator is also not allowed in set"
   ]
  },
  {
   "cell_type": "code",
   "execution_count": 4,
   "metadata": {},
   "outputs": [
    {
     "ename": "TypeError",
     "evalue": "unsupported operand type(s) for *: 'set' and 'int'",
     "output_type": "error",
     "traceback": [
      "\u001b[1;31m---------------------------------------------------------------------------\u001b[0m",
      "\u001b[1;31mTypeError\u001b[0m                                 Traceback (most recent call last)",
      "\u001b[1;32m<ipython-input-4-083a9da0a602>\u001b[0m in \u001b[0;36m<module>\u001b[1;34m\u001b[0m\n\u001b[0;32m      1\u001b[0m \u001b[0ms1\u001b[0m\u001b[1;33m=\u001b[0m\u001b[1;33m{\u001b[0m\u001b[1;36m10\u001b[0m\u001b[1;33m,\u001b[0m\u001b[1;36m20\u001b[0m\u001b[1;33m,\u001b[0m\u001b[1;36m30\u001b[0m\u001b[1;33m}\u001b[0m\u001b[1;33m\u001b[0m\u001b[1;33m\u001b[0m\u001b[0m\n\u001b[0;32m      2\u001b[0m \u001b[0ms2\u001b[0m\u001b[1;33m=\u001b[0m\u001b[1;33m{\u001b[0m\u001b[1;36m40\u001b[0m\u001b[1;33m,\u001b[0m\u001b[1;36m50\u001b[0m\u001b[1;33m,\u001b[0m\u001b[1;36m60\u001b[0m\u001b[1;33m}\u001b[0m\u001b[1;33m\u001b[0m\u001b[1;33m\u001b[0m\u001b[0m\n\u001b[1;32m----> 3\u001b[1;33m \u001b[0ms3\u001b[0m\u001b[1;33m=\u001b[0m\u001b[0ms1\u001b[0m\u001b[1;33m*\u001b[0m\u001b[1;36m3\u001b[0m\u001b[1;33m\u001b[0m\u001b[1;33m\u001b[0m\u001b[0m\n\u001b[0m\u001b[0;32m      4\u001b[0m \u001b[0mprint\u001b[0m\u001b[1;33m(\u001b[0m\u001b[0ms3\u001b[0m\u001b[1;33m)\u001b[0m\u001b[1;33m\u001b[0m\u001b[1;33m\u001b[0m\u001b[0m\n",
      "\u001b[1;31mTypeError\u001b[0m: unsupported operand type(s) for *: 'set' and 'int'"
     ]
    }
   ],
   "source": [
    "s1={10,20,30}\n",
    "s2={40,50,60}\n",
    "s3=s1*3\n",
    "print(s3)\n"
   ]
  },
  {
   "cell_type": "code",
   "execution_count": 5,
   "metadata": {},
   "outputs": [
    {
     "ename": "TypeError",
     "evalue": "unsupported operand type(s) for +: 'set' and 'set'",
     "output_type": "error",
     "traceback": [
      "\u001b[1;31m---------------------------------------------------------------------------\u001b[0m",
      "\u001b[1;31mTypeError\u001b[0m                                 Traceback (most recent call last)",
      "\u001b[1;32m<ipython-input-5-8c66e88c3add>\u001b[0m in \u001b[0;36m<module>\u001b[1;34m\u001b[0m\n\u001b[0;32m      1\u001b[0m \u001b[0ms1\u001b[0m\u001b[1;33m=\u001b[0m\u001b[1;33m{\u001b[0m\u001b[1;36m10\u001b[0m\u001b[1;33m,\u001b[0m\u001b[1;36m20\u001b[0m\u001b[1;33m,\u001b[0m\u001b[1;36m30\u001b[0m\u001b[1;33m}\u001b[0m\u001b[1;33m\u001b[0m\u001b[1;33m\u001b[0m\u001b[0m\n\u001b[0;32m      2\u001b[0m \u001b[0ms2\u001b[0m\u001b[1;33m=\u001b[0m\u001b[1;33m{\u001b[0m\u001b[1;36m40\u001b[0m\u001b[1;33m,\u001b[0m\u001b[1;36m50\u001b[0m\u001b[1;33m,\u001b[0m\u001b[1;36m60\u001b[0m\u001b[1;33m}\u001b[0m\u001b[1;33m\u001b[0m\u001b[1;33m\u001b[0m\u001b[0m\n\u001b[1;32m----> 3\u001b[1;33m \u001b[0ms3\u001b[0m\u001b[1;33m=\u001b[0m\u001b[0ms1\u001b[0m\u001b[1;33m+\u001b[0m\u001b[0ms2\u001b[0m\u001b[1;33m\u001b[0m\u001b[1;33m\u001b[0m\u001b[0m\n\u001b[0m\u001b[0;32m      4\u001b[0m \u001b[0mprint\u001b[0m\u001b[1;33m(\u001b[0m\u001b[0ms3\u001b[0m\u001b[1;33m)\u001b[0m\u001b[1;33m\u001b[0m\u001b[1;33m\u001b[0m\u001b[0m\n",
      "\u001b[1;31mTypeError\u001b[0m: unsupported operand type(s) for +: 'set' and 'set'"
     ]
    }
   ],
   "source": [
    "s1={10,20,30}\n",
    "s2={40,50,60}\n",
    "s3=s1+s2\n",
    "print(s3)"
   ]
  },
  {
   "cell_type": "code",
   "execution_count": null,
   "metadata": {},
   "outputs": [],
   "source": [
    "1.Union(x,y):Returns all elements present in x & y\n",
    "2.Intersection():The Common elements in between x & y\n",
    "3.Difference():The element present in x but not in y\n",
    "4.Symmetric Difference():The elements present either in x or y but not in both"
   ]
  },
  {
   "cell_type": "code",
   "execution_count": 8,
   "metadata": {},
   "outputs": [
    {
     "name": "stdout",
     "output_type": "stream",
     "text": [
      "{40, 10, 50, 20, 60, 30}\n",
      "{40, 10, 50, 20, 60, 30}\n"
     ]
    }
   ],
   "source": [
    "#1.Union(x,y):Returns all elements present in x & y\n",
    "x={10,20,30,40}\n",
    "y={30,40,50,60}\n",
    "print(x.union(y))\n",
    "print(x|y)"
   ]
  },
  {
   "cell_type": "code",
   "execution_count": null,
   "metadata": {},
   "outputs": [],
   "source": [
    "2.Intersection():The Common elements in between x & y"
   ]
  },
  {
   "cell_type": "code",
   "execution_count": 9,
   "metadata": {},
   "outputs": [
    {
     "name": "stdout",
     "output_type": "stream",
     "text": [
      "{40, 30}\n",
      "{40, 30}\n"
     ]
    }
   ],
   "source": [
    "x={10,20,30,40}\n",
    "y={30,40,50,60}\n",
    "print(x.intersection(y))\n",
    "print(x&y)"
   ]
  },
  {
   "cell_type": "code",
   "execution_count": null,
   "metadata": {},
   "outputs": [],
   "source": [
    "3.Difference():The element present in x but not in y"
   ]
  },
  {
   "cell_type": "code",
   "execution_count": 10,
   "metadata": {},
   "outputs": [
    {
     "name": "stdout",
     "output_type": "stream",
     "text": [
      "{10, 20}\n",
      "{10, 20}\n"
     ]
    }
   ],
   "source": [
    "x={10,20,30,40}\n",
    "y={30,40,50,60}\n",
    "print(x.difference(y))\n",
    "print(x-y)"
   ]
  },
  {
   "cell_type": "code",
   "execution_count": null,
   "metadata": {},
   "outputs": [],
   "source": [
    "4.Symmetric Difference():The elements present either in x or y but not in both"
   ]
  },
  {
   "cell_type": "code",
   "execution_count": 12,
   "metadata": {},
   "outputs": [
    {
     "name": "stdout",
     "output_type": "stream",
     "text": [
      "{10, 50, 20, 60}\n",
      "{10, 50, 20, 60}\n"
     ]
    }
   ],
   "source": [
    "x={10,20,30,40}\n",
    "y={30,40,50,60}\n",
    "print(x.symmetric_difference(y))\n",
    "print(x^y)"
   ]
  },
  {
   "cell_type": "code",
   "execution_count": null,
   "metadata": {},
   "outputs": [],
   "source": [
    "Membership Operators In Set:"
   ]
  },
  {
   "cell_type": "code",
   "execution_count": 15,
   "metadata": {},
   "outputs": [
    {
     "name": "stdout",
     "output_type": "stream",
     "text": [
      "True\n",
      "False\n",
      "True\n"
     ]
    }
   ],
   "source": [
    "x={10,20,30,40}\n",
    "print(10 in x)\n",
    "print(50 in x)\n",
    "print(50 not in x)"
   ]
  },
  {
   "cell_type": "code",
   "execution_count": 22,
   "metadata": {},
   "outputs": [
    {
     "name": "stdout",
     "output_type": "stream",
     "text": [
      "False\n",
      "True\n"
     ]
    }
   ],
   "source": [
    "s1={ 10,20,30}\n",
    "s2={ 10,20,30}\n",
    "print(s1 is s2)\n",
    "print(s1 == s2)"
   ]
  },
  {
   "cell_type": "code",
   "execution_count": 18,
   "metadata": {},
   "outputs": [
    {
     "name": "stdout",
     "output_type": "stream",
     "text": [
      "2681248385920\n",
      "2681248431424\n",
      "False\n"
     ]
    }
   ],
   "source": [
    "s1=(10,20,30)   #Tuple\n",
    "s2=(10,20,30)   #Tuple\n",
    "print(id(s1))\n",
    "print(id(s2))\n",
    "print(s1 is s2)"
   ]
  },
  {
   "cell_type": "code",
   "execution_count": null,
   "metadata": {},
   "outputs": [],
   "source": [
    "Comprehension In Set:\n",
    "List[]----Applicable\n",
    "Tuple()---Not Applicable\n",
    "set{}-----Applicable"
   ]
  },
  {
   "cell_type": "code",
   "execution_count": 23,
   "metadata": {},
   "outputs": [
    {
     "name": "stdout",
     "output_type": "stream",
     "text": [
      "<class 'set'>\n",
      "{1, 4, 9, 16, 25}\n"
     ]
    }
   ],
   "source": [
    "s= {x*x for x in range(1,6)}\n",
    "print(type(s))\n",
    "print(s)"
   ]
  },
  {
   "cell_type": "code",
   "execution_count": 24,
   "metadata": {},
   "outputs": [
    {
     "name": "stdout",
     "output_type": "stream",
     "text": [
      "<class 'set'>\n",
      "{32, 2, 4, 8, 16}\n"
     ]
    }
   ],
   "source": [
    "s= {2**x for x in range(1,6)}\n",
    "print(type(s))\n",
    "print(s)"
   ]
  },
  {
   "cell_type": "code",
   "execution_count": null,
   "metadata": {},
   "outputs": [],
   "source": [
    "Indexing & Slicing:\n",
    "As the order in set is important so indexing & slicing isn't applicable\n"
   ]
  },
  {
   "cell_type": "code",
   "execution_count": null,
   "metadata": {},
   "outputs": [],
   "source": [
    "#Q:WAP to delete duplicates present in a set."
   ]
  },
  {
   "cell_type": "code",
   "execution_count": 32,
   "metadata": {},
   "outputs": [
    {
     "name": "stdout",
     "output_type": "stream",
     "text": [
      "Enter  list of Values:40,30,40,10,30,20,10\n",
      "{40, 10, 20, 30}\n"
     ]
    }
   ],
   "source": [
    "l=eval(input('Enter  list of Values:'))\n",
    "s=set(l)\n",
    "print(s)"
   ]
  },
  {
   "cell_type": "code",
   "execution_count": 31,
   "metadata": {},
   "outputs": [
    {
     "name": "stdout",
     "output_type": "stream",
     "text": [
      "Enter  list of Values:40,30,40,10,30,20,10\n",
      "[40, 30, 10, 20]\n"
     ]
    }
   ],
   "source": [
    "l=eval(input('Enter  list of Values:'))\n",
    "l1=[]\n",
    "for x in l:\n",
    "    if x not in l1:\n",
    "        l1.append(x)\n",
    "print(l1)\n",
    "        "
   ]
  },
  {
   "cell_type": "code",
   "execution_count": null,
   "metadata": {},
   "outputs": [],
   "source": [
    "#Q:WAP to delete different vowels in a word."
   ]
  },
  {
   "cell_type": "code",
   "execution_count": 36,
   "metadata": {},
   "outputs": [
    {
     "name": "stdout",
     "output_type": "stream",
     "text": [
      "Enter any word to search for vowels:i love my india\n",
      "['a', 'e', 'i', 'o']\n"
     ]
    }
   ],
   "source": [
    "w=input('Enter any word to search for vowels:')\n",
    "s=set(w)\n",
    "v={'a','e','i','o','u'}\n",
    "results=sorted(s.intersection(v))\n",
    "print(results)\n"
   ]
  },
  {
   "cell_type": "code",
   "execution_count": null,
   "metadata": {},
   "outputs": [],
   "source": []
  },
  {
   "cell_type": "code",
   "execution_count": null,
   "metadata": {},
   "outputs": [],
   "source": [
    "Concept OF Dictionary:\n",
    "    \n",
    "A Group of objects key-value pair is called as dictionary.\n",
    "\n",
    "Properties:\n",
    "1.Duplicate Keys aren't allowed but duplicate values can be.\n",
    "2.Order isn't applicable,all the element will be inserted on the basis of their hashing values.\n",
    "3.Slicing & Indexing aren't applicable to a dictionary{}.\n",
    "4.Heterogeneous objects are allowed.\n",
    "5.Dictionary{} is mutable in nature.\n",
    "6.Dictionary is growable in nature.\n",
    "7.If we add duplicate keys ,then old keys will be REPLACED with the new one."
   ]
  },
  {
   "cell_type": "code",
   "execution_count": 4,
   "metadata": {},
   "outputs": [
    {
     "name": "stdout",
     "output_type": "stream",
     "text": [
      "<class 'dict'>\n",
      "<class 'dict'>\n"
     ]
    }
   ],
   "source": [
    "#How to create an empty dictionary:\n",
    "\n",
    "d1={}\n",
    "d2=dict()         #If The values are known to us\n",
    "print(type(d1))\n",
    "print(type(d2))"
   ]
  },
  {
   "cell_type": "code",
   "execution_count": null,
   "metadata": {},
   "outputs": [],
   "source": [
    "Q:How to add key values?\n",
    "A:d[key]=value ---The provided item(key-value) will be added to the dictionary{}."
   ]
  },
  {
   "cell_type": "code",
   "execution_count": 2,
   "metadata": {},
   "outputs": [
    {
     "name": "stdout",
     "output_type": "stream",
     "text": [
      "{100: 'Durga', 200: 'Shiva', 300: 'Hari'}\n"
     ]
    }
   ],
   "source": [
    "d={}\n",
    "d[100]='Durga'\n",
    "d[200]='Shiva'\n",
    "d[300]='Hari'\n",
    "print(d)"
   ]
  },
  {
   "cell_type": "code",
   "execution_count": 5,
   "metadata": {},
   "outputs": [
    {
     "name": "stdout",
     "output_type": "stream",
     "text": [
      "{100: 'Pavan', 200: 'Shiva', 300: 'Hari'}\n"
     ]
    }
   ],
   "source": [
    "d={}\n",
    "d[100]='Durga'\n",
    "d[200]='Shiva'\n",
    "d[300]='Hari'\n",
    "d[100]='Pavan'   #Durga is replaced with Pavan\n",
    "print(d)"
   ]
  },
  {
   "cell_type": "code",
   "execution_count": 6,
   "metadata": {},
   "outputs": [
    {
     "name": "stdout",
     "output_type": "stream",
     "text": [
      "{100: 'Durga', 200: 'Shiva', 300: 'Pavan'}\n"
     ]
    }
   ],
   "source": [
    "d={100:'Durga',200:'Shiva',300:'Pavan'}  # If Values are known to us.\n",
    "print(d)"
   ]
  },
  {
   "cell_type": "code",
   "execution_count": null,
   "metadata": {},
   "outputs": [],
   "source": [
    "#Q How to Access the data from a dictionary?\n",
    "A:By using key we can access the corresponding values"
   ]
  },
  {
   "cell_type": "code",
   "execution_count": 7,
   "metadata": {},
   "outputs": [
    {
     "name": "stdout",
     "output_type": "stream",
     "text": [
      "Durga\n",
      "Shiva\n",
      "Pavan\n"
     ]
    }
   ],
   "source": [
    "d={100:'Durga',200:'Shiva',300:'Pavan'}\n",
    "print(d[100])\n",
    "print(d[200])\n",
    "print(d[300])"
   ]
  },
  {
   "cell_type": "code",
   "execution_count": 13,
   "metadata": {},
   "outputs": [
    {
     "name": "stdout",
     "output_type": "stream",
     "text": [
      "Enter key to Find The Corresponding Values:500\n",
      "The Specified Key Is Not Available\n"
     ]
    }
   ],
   "source": [
    "d={100:'Durga',200:'Shiva',300:'Pavan',400:'Ravi'}\n",
    "key=int(input('Enter key to Find The Corresponding Values:'))\n",
    "if key in d:\n",
    "    print(d[key])\n",
    "else:\n",
    "    print('The Specified Key Is Not Available')"
   ]
  },
  {
   "cell_type": "code",
   "execution_count": null,
   "metadata": {},
   "outputs": [],
   "source": [
    "#Q WAP to enter the name and marks in a dictionary and display information."
   ]
  },
  {
   "cell_type": "code",
   "execution_count": 1,
   "metadata": {},
   "outputs": [
    {
     "name": "stdout",
     "output_type": "stream",
     "text": [
      "Enter The Name Of The Student:satya\n",
      "Enter The Marks Of The Student90\n",
      "The Student Record Inserted Successfully\n",
      "Do You Wanna Insert 1 more sudent record[YES|NO]:yes\n",
      "Enter The Name Of The Student:mona\n",
      "Enter The Marks Of The Student80\n",
      "The Student Record Inserted Successfully\n",
      "Do You Wanna Insert 1 more sudent record[YES|NO]:no\n",
      "{'satya': 90, 'mona': 80}\n"
     ]
    }
   ],
   "source": [
    "d={}\n",
    "while True:\n",
    "    name=input('Enter The Name Of The Student:')\n",
    "    marks=int(input('Enter The Marks Of The Student'))\n",
    "    d[name]=marks\n",
    "    print('The Student Record Inserted Successfully')\n",
    "    option=input('Do You Wanna Insert 1 more sudent record[YES|NO]:')\n",
    "    while True:\n",
    "        if option.lower() =='no':\n",
    "            option = 'no'\n",
    "            break\n",
    "        elif option.lower() =='yes':\n",
    "            option = 'yes'\n",
    "            break\n",
    "        else:\n",
    "            option=input('Your Entered Option Is Invalid , Please Enter a valid Option [YES|NO]:')\n",
    "    if option == 'no':\n",
    "        break\n",
    "print(d)\n",
    "    \n",
    "        \n",
    "        "
   ]
  },
  {
   "cell_type": "code",
   "execution_count": 2,
   "metadata": {},
   "outputs": [
    {
     "name": "stdout",
     "output_type": "stream",
     "text": [
      "Enter The Name Of The Student:Satya\n",
      "Enter The Marks Of The Student120\n",
      "The Student Record Inserted Successfully\n",
      "Do You Wanna Insert 1 more sudent record[YES|NO]:yes\n",
      "Enter The Name Of The Student:mona\n",
      "Enter The Marks Of The Student130\n",
      "The Student Record Inserted Successfully\n",
      "Do You Wanna Insert 1 more sudent record[YES|NO]:asas\n",
      "Your Entered Option Is Invalid , Please Enter a valid Option [YES|NO]:durga\n",
      "Your Entered Option Is Invalid , Please Enter a valid Option [YES|NO]:yes\n",
      "Enter The Name Of The Student:durga\n",
      "Enter The Marks Of The Student150\n",
      "The Student Record Inserted Successfully\n",
      "Do You Wanna Insert 1 more sudent record[YES|NO]:no\n",
      "{'Satya': 120, 'mona': 130, 'durga': 150}\n"
     ]
    }
   ],
   "source": [
    "#Simplified Apporach:NO:1\n",
    "\n",
    "d={}\n",
    "while True:\n",
    "    name=input('Enter The Name Of The Student:')\n",
    "    marks=int(input('Enter The Marks Of The Student'))\n",
    "    d[name]=marks\n",
    "    print('The Student Record Inserted Successfully')\n",
    "    option=input('Do You Wanna Insert 1 more sudent record[YES|NO]:')\n",
    "    while True:\n",
    "        if option.lower() in ['yes','no']:\n",
    "            break\n",
    "        else:\n",
    "            option=input('Your Entered Option Is Invalid , Please Enter a valid Option [YES|NO]:')\n",
    "    if option.lower() == 'no':\n",
    "        break\n",
    "print(d)"
   ]
  },
  {
   "cell_type": "code",
   "execution_count": 1,
   "metadata": {},
   "outputs": [
    {
     "name": "stdout",
     "output_type": "stream",
     "text": [
      "Enter The Name Of The Student:satya\n",
      "Enter The Marks Of The Student90\n",
      "The Student Record Inserted Successfully\n",
      "Do You Wanna Insert 1 more sudent record[YES|NO]:yes\n",
      "Enter The Name Of The Student:durga\n",
      "Enter The Marks Of The Student30\n",
      "The Student Record Inserted Successfully\n",
      "Do You Wanna Insert 1 more sudent record[YES|NO]:yes\n",
      "Enter The Name Of The Student:ravi\n",
      "Enter The Marks Of The Student60\n",
      "The Student Record Inserted Successfully\n",
      "Do You Wanna Insert 1 more sudent record[YES|NO]:no\n",
      "{'satya': 90, 'durga': 30, 'ravi': 60}\n"
     ]
    }
   ],
   "source": [
    "# More Simplified Apporach:NO:2\n",
    "\n",
    "d={}\n",
    "while True:\n",
    "    name=input('Enter The Name Of The Student:')\n",
    "    marks=int(input('Enter The Marks Of The Student'))\n",
    "    d[name]=marks\n",
    "    print('The Student Record Inserted Successfully')\n",
    "    option=input('Do You Wanna Insert 1 more sudent record[YES|NO]:')\n",
    "    while option.lower() not in ['yes','no']:\n",
    "        option=input('Your Entered Option Is Invalid , Please Enter a valid Option [YES|NO]:')\n",
    "    if option.lower() == 'no':\n",
    "        break\n",
    "print(d)\n"
   ]
  },
  {
   "cell_type": "code",
   "execution_count": 3,
   "metadata": {},
   "outputs": [
    {
     "name": "stdout",
     "output_type": "stream",
     "text": [
      "Enter The Name Of The Student:satya\n",
      "Enter The Marks Of The Student95\n",
      "The Student Record Inserted Successfully\n",
      "Do You Wanna Insert 1 more sudent record[YES|NO]:yes\n",
      "Enter The Name Of The Student:ravi\n",
      "Enter The Marks Of The Student99\n",
      "The Student Record Inserted Successfully\n",
      "Do You Wanna Insert 1 more sudent record[YES|NO]:durga\n",
      "Your Entered Option Is Invalid , Please Enter a valid Option [YES|NO]:yes\n",
      "Enter The Name Of The Student:durge\n",
      "Enter The Marks Of The Student80\n",
      "The Student Record Inserted Successfully\n",
      "Do You Wanna Insert 1 more sudent record[YES|NO]:yes\n",
      "Enter The Name Of The Student:pavan\n",
      "Enter The Marks Of The Student63\n",
      "The Student Record Inserted Successfully\n",
      "Do You Wanna Insert 1 more sudent record[YES|NO]:no\n",
      "Name\t\\Marks\n",
      "####################\n",
      "satya\t\t95\n",
      "ravi\t\t99\n",
      "durge\t\t80\n",
      "pavan\t\t63\n",
      "####################\n"
     ]
    }
   ],
   "source": [
    "# More Simplified print Apporach:NO:3\n",
    "\n",
    "d={}\n",
    "while True:\n",
    "    name=input('Enter The Name Of The Student:')\n",
    "    marks=int(input('Enter The Marks Of The Student'))\n",
    "    d[name]=marks\n",
    "    print('The Student Record Inserted Successfully')\n",
    "    option=input('Do You Wanna Insert 1 more sudent record[YES|NO]:')\n",
    "    while option.lower() not in ['yes','no']:\n",
    "        option=input('Your Entered Option Is Invalid , Please Enter a valid Option [YES|NO]:')\n",
    "    if option.lower() == 'no':\n",
    "        break\n",
    "print('Name\\t\\Marks')\n",
    "print('#'*20)\n",
    "for x in d:\n",
    "    print ('{}\\t\\t{}'.format(x,d[x]))\n",
    "print('#'*20)"
   ]
  },
  {
   "cell_type": "code",
   "execution_count": 4,
   "metadata": {},
   "outputs": [
    {
     "name": "stdout",
     "output_type": "stream",
     "text": [
      "Enter The Name Of The Student:satya\n",
      "Enter The Marks Of The Student98\n",
      "The Student Record Inserted Successfully\n",
      "Enter The Name Of The Student:durga\n",
      "Enter The Marks Of The Student65\n",
      "The Student Record Inserted Successfully\n",
      "Enter The Name Of The Student:ravi\n",
      "Enter The Marks Of The Student45\n",
      "The Student Record Inserted Successfully\n",
      "Enter The Name Of The Student:pavan\n",
      "Enter The Marks Of The Student78\n",
      "The Student Record Inserted Successfully\n",
      "Enter The Name Of The Student:mona\n",
      "Enter The Marks Of The Student67\n",
      "The Student Record Inserted Successfully\n",
      "Name\t\\Marks\n",
      "####################\n",
      "satya\t\t98\n",
      "durga\t\t65\n",
      "ravi\t\t45\n",
      "pavan\t\t78\n",
      "mona\t\t67\n",
      "####################\n"
     ]
    }
   ],
   "source": [
    "# Incase to enter only 5 students?\n",
    "\n",
    "d={}\n",
    "i=1\n",
    "while i<=5:\n",
    "    name=input('Enter The Name Of The Student:')\n",
    "    marks=int(input('Enter The Marks Of The Student'))\n",
    "    d[name]=marks\n",
    "    print('The Student Record Inserted Successfully')\n",
    "    i=i+1\n",
    "\n",
    "print('Name\\t\\Marks')\n",
    "print('#'*20)\n",
    "for x in d:\n",
    "    print ('{}\\t\\t{}'.format(x,d[x]))\n",
    "print('#'*20)\n",
    "    \n"
   ]
  },
  {
   "cell_type": "code",
   "execution_count": null,
   "metadata": {},
   "outputs": [],
   "source": [
    "1.Updating a dictionary{}\n",
    "\n",
    "d[key]=value\n",
    "if the specified item (key-value)  is available ,then that item (key-value) will be added .\n",
    "if the specified item (key-value)  is not  available ,then that item (key-value) will be added replaced by a new value.\n"
   ]
  },
  {
   "cell_type": "code",
   "execution_count": null,
   "metadata": {},
   "outputs": [],
   "source": []
  },
  {
   "cell_type": "code",
   "execution_count": 5,
   "metadata": {},
   "outputs": [
    {
     "name": "stdout",
     "output_type": "stream",
     "text": [
      "{100: 'Durga', 200: 'Ravi', 300: 'Shiva', 400: 'Pavan'}\n",
      "{100: 'Satya', 200: 'Ravi', 300: 'Shiva', 400: 'Pavan'}\n"
     ]
    }
   ],
   "source": [
    "d={100:'Durga',200:'Ravi',300:'Shiva'}\n",
    "d[400]='Pavan'    #Here Pavan has been added to the dictionary\n",
    "print(d)\n",
    "d[100]='Satya'    #Here Satya has replaced 100:Durga \n",
    "print(d)"
   ]
  },
  {
   "cell_type": "code",
   "execution_count": null,
   "metadata": {},
   "outputs": [],
   "source": [
    "2.Deleting Elements \n",
    "\n",
    "del d[key]\n",
    "\n",
    "If the specified key is available then ,the total item(key-value) will be deleted.\n",
    "Otherwise \"Key-Error\""
   ]
  },
  {
   "cell_type": "code",
   "execution_count": 7,
   "metadata": {},
   "outputs": [
    {
     "name": "stdout",
     "output_type": "stream",
     "text": [
      "{200: 'Ravi'}\n"
     ]
    }
   ],
   "source": [
    "d={100:'Durga',200:'Ravi',300:'Shiva'}\n",
    "del d[100]\n",
    "del d[300]\n",
    "print(d)"
   ]
  },
  {
   "cell_type": "code",
   "execution_count": 8,
   "metadata": {},
   "outputs": [
    {
     "ename": "KeyError",
     "evalue": "400",
     "output_type": "error",
     "traceback": [
      "\u001b[1;31m---------------------------------------------------------------------------\u001b[0m",
      "\u001b[1;31mKeyError\u001b[0m                                  Traceback (most recent call last)",
      "\u001b[1;32m<ipython-input-8-74e7485b57f0>\u001b[0m in \u001b[0;36m<module>\u001b[1;34m\u001b[0m\n\u001b[0;32m      1\u001b[0m \u001b[0md\u001b[0m\u001b[1;33m=\u001b[0m\u001b[1;33m{\u001b[0m\u001b[1;36m100\u001b[0m\u001b[1;33m:\u001b[0m\u001b[1;34m'Durga'\u001b[0m\u001b[1;33m,\u001b[0m\u001b[1;36m200\u001b[0m\u001b[1;33m:\u001b[0m\u001b[1;34m'Ravi'\u001b[0m\u001b[1;33m,\u001b[0m\u001b[1;36m300\u001b[0m\u001b[1;33m:\u001b[0m\u001b[1;34m'Shiva'\u001b[0m\u001b[1;33m}\u001b[0m\u001b[1;33m\u001b[0m\u001b[1;33m\u001b[0m\u001b[0m\n\u001b[1;32m----> 2\u001b[1;33m \u001b[1;32mdel\u001b[0m \u001b[0md\u001b[0m\u001b[1;33m[\u001b[0m\u001b[1;36m400\u001b[0m\u001b[1;33m]\u001b[0m\u001b[1;33m\u001b[0m\u001b[1;33m\u001b[0m\u001b[0m\n\u001b[0m\u001b[0;32m      3\u001b[0m \u001b[0mprint\u001b[0m\u001b[1;33m(\u001b[0m\u001b[0md\u001b[0m\u001b[1;33m)\u001b[0m\u001b[1;33m\u001b[0m\u001b[1;33m\u001b[0m\u001b[0m\n",
      "\u001b[1;31mKeyError\u001b[0m: 400"
     ]
    }
   ],
   "source": [
    "d={100:'Durga',200:'Ravi',300:'Shiva'}\n",
    "del d[400]  # The key 400 is not available\n",
    "print(d)"
   ]
  },
  {
   "cell_type": "code",
   "execution_count": 10,
   "metadata": {},
   "outputs": [
    {
     "name": "stdout",
     "output_type": "stream",
     "text": [
      "{100: 'Durga', 200: 'Ravi', 300: 'Shiva'}\n"
     ]
    }
   ],
   "source": [
    "# Membership Operator is used to avoid the \"KeyError: 400\"\n",
    "\n",
    "d={100:'Durga',200:'Ravi',300:'Shiva'}\n",
    "if 400 in d:\n",
    "    del d[400]\n",
    "print(d)         "
   ]
  },
  {
   "cell_type": "code",
   "execution_count": null,
   "metadata": {},
   "outputs": [],
   "source": [
    "3.Clear()\n",
    "This will Clear all the Items and returns an empty dictionary."
   ]
  },
  {
   "cell_type": "code",
   "execution_count": 14,
   "metadata": {},
   "outputs": [
    {
     "name": "stdout",
     "output_type": "stream",
     "text": [
      "{}\n"
     ]
    }
   ],
   "source": [
    "d={100:'Durga',200:'Ravi',300:'Shiva'}\n",
    "d.clear()\n",
    "print(d) "
   ]
  },
  {
   "cell_type": "code",
   "execution_count": null,
   "metadata": {},
   "outputs": [],
   "source": [
    "Important Functions & Methods in Dictionary:\n",
    "\n",
    "1.Tuple of Tuple objects are ---->Valid\n",
    "2.list of list objects are ------->Valid\n",
    "3.set of list objects are -------->Invalid ,because list objects are unhashabel\n",
    "4.set of tuple objects are -------->Valid"
   ]
  },
  {
   "cell_type": "code",
   "execution_count": 17,
   "metadata": {},
   "outputs": [
    {
     "name": "stdout",
     "output_type": "stream",
     "text": [
      "{100: 'durga', 200: 'shiva', 300: 'Ravi'}\n"
     ]
    }
   ],
   "source": [
    "d=dict([(100,'durga'),(200,'shiva'),(300,'Ravi')])\n",
    "print(d)"
   ]
  },
  {
   "cell_type": "code",
   "execution_count": 21,
   "metadata": {},
   "outputs": [
    {
     "name": "stdout",
     "output_type": "stream",
     "text": [
      "{100: 'durga', 200: 'shiva', 300: 'Ravi'}\n"
     ]
    }
   ],
   "source": [
    "d=dict(((100,'durga'),(200,'shiva'),(300,'Ravi')))\n",
    "print(d)"
   ]
  },
  {
   "cell_type": "code",
   "execution_count": 22,
   "metadata": {},
   "outputs": [
    {
     "name": "stdout",
     "output_type": "stream",
     "text": [
      "{100: 'durga', 200: 'shiva', 300: 'Ravi'}\n"
     ]
    }
   ],
   "source": [
    "d=dict([[100,'durga'],[200,'shiva'],[300,'Ravi']])\n",
    "print(d)"
   ]
  },
  {
   "cell_type": "code",
   "execution_count": 23,
   "metadata": {},
   "outputs": [
    {
     "ename": "TypeError",
     "evalue": "unhashable type: 'list'",
     "output_type": "error",
     "traceback": [
      "\u001b[1;31m---------------------------------------------------------------------------\u001b[0m",
      "\u001b[1;31mTypeError\u001b[0m                                 Traceback (most recent call last)",
      "\u001b[1;32m<ipython-input-23-0fb6c6bcb658>\u001b[0m in \u001b[0;36m<module>\u001b[1;34m\u001b[0m\n\u001b[1;32m----> 1\u001b[1;33m \u001b[0md\u001b[0m\u001b[1;33m=\u001b[0m\u001b[0mdict\u001b[0m\u001b[1;33m(\u001b[0m\u001b[1;33m{\u001b[0m\u001b[1;33m[\u001b[0m\u001b[1;36m100\u001b[0m\u001b[1;33m,\u001b[0m\u001b[1;34m'durga'\u001b[0m\u001b[1;33m]\u001b[0m\u001b[1;33m,\u001b[0m\u001b[1;33m[\u001b[0m\u001b[1;36m200\u001b[0m\u001b[1;33m,\u001b[0m\u001b[1;34m'shiva'\u001b[0m\u001b[1;33m]\u001b[0m\u001b[1;33m,\u001b[0m\u001b[1;33m[\u001b[0m\u001b[1;36m300\u001b[0m\u001b[1;33m,\u001b[0m\u001b[1;34m'Ravi'\u001b[0m\u001b[1;33m]\u001b[0m\u001b[1;33m}\u001b[0m\u001b[1;33m)\u001b[0m\u001b[1;33m\u001b[0m\u001b[1;33m\u001b[0m\u001b[0m\n\u001b[0m\u001b[0;32m      2\u001b[0m \u001b[0mprint\u001b[0m\u001b[1;33m(\u001b[0m\u001b[0md\u001b[0m\u001b[1;33m)\u001b[0m\u001b[1;33m\u001b[0m\u001b[1;33m\u001b[0m\u001b[0m\n",
      "\u001b[1;31mTypeError\u001b[0m: unhashable type: 'list'"
     ]
    }
   ],
   "source": [
    "d=dict({[100,'durga'],[200,'shiva'],[300,'Ravi']})  # This is set of list objects,which is not hasable\n",
    "print(d)"
   ]
  },
  {
   "cell_type": "code",
   "execution_count": null,
   "metadata": {},
   "outputs": [],
   "source": [
    "4.len()\n",
    "This returns the number of items(Key-Value) in the dictionary."
   ]
  },
  {
   "cell_type": "code",
   "execution_count": 76,
   "metadata": {},
   "outputs": [
    {
     "name": "stdout",
     "output_type": "stream",
     "text": [
      "3\n"
     ]
    }
   ],
   "source": [
    "d={100:'Durga',200:'Ravi',300:'Shiva'}\n",
    "\n",
    "print(len(d))"
   ]
  },
  {
   "cell_type": "code",
   "execution_count": null,
   "metadata": {},
   "outputs": [],
   "source": [
    "5.get(key):\n",
    "    \n",
    "This returns the corresponding value ;if the value isn't availble returns 'none'\n",
    "\n",
    "d.[key]--->'Key Error if the key is not present'\n",
    "d.get(key)--->'none' if the key is not present\n",
    "d.get(key,default value)--->Returns default value if the key is not present in the dictionary"
   ]
  },
  {
   "cell_type": "code",
   "execution_count": 29,
   "metadata": {},
   "outputs": [
    {
     "name": "stdout",
     "output_type": "stream",
     "text": [
      "None\n",
      "Ravi\n"
     ]
    }
   ],
   "source": [
    "d={100:'Durga',200:'Ravi',300:'Shiva'}\n",
    "\n",
    "print(d.get(400))\n",
    "print(d.get(200))"
   ]
  },
  {
   "cell_type": "code",
   "execution_count": 30,
   "metadata": {},
   "outputs": [
    {
     "name": "stdout",
     "output_type": "stream",
     "text": [
      "Ravi\n",
      "Guest\n"
     ]
    }
   ],
   "source": [
    "d={100:'Durga',200:'Ravi',300:'Shiva'}\n",
    "\n",
    "print(d.get(200,'Guest'))\n",
    "print(d.get(400,'Guest'))"
   ]
  },
  {
   "cell_type": "code",
   "execution_count": null,
   "metadata": {},
   "outputs": [],
   "source": [
    "6.pop()\n",
    "\n",
    "This removes items(key-value) from associated with specified key-value and returns corresponding values.\n",
    "In case the specified key isn't available ,it returns key error.\n",
    "pop()---Always expects some arguments."
   ]
  },
  {
   "cell_type": "code",
   "execution_count": 32,
   "metadata": {},
   "outputs": [
    {
     "name": "stdout",
     "output_type": "stream",
     "text": [
      "Ravi\n"
     ]
    },
    {
     "ename": "KeyError",
     "evalue": "400",
     "output_type": "error",
     "traceback": [
      "\u001b[1;31m---------------------------------------------------------------------------\u001b[0m",
      "\u001b[1;31mKeyError\u001b[0m                                  Traceback (most recent call last)",
      "\u001b[1;32m<ipython-input-32-4dbce1d26425>\u001b[0m in \u001b[0;36m<module>\u001b[1;34m\u001b[0m\n\u001b[0;32m      1\u001b[0m \u001b[0md\u001b[0m\u001b[1;33m=\u001b[0m\u001b[1;33m{\u001b[0m\u001b[1;36m100\u001b[0m\u001b[1;33m:\u001b[0m\u001b[1;34m'Durga'\u001b[0m\u001b[1;33m,\u001b[0m\u001b[1;36m200\u001b[0m\u001b[1;33m:\u001b[0m\u001b[1;34m'Ravi'\u001b[0m\u001b[1;33m,\u001b[0m\u001b[1;36m300\u001b[0m\u001b[1;33m:\u001b[0m\u001b[1;34m'Shiva'\u001b[0m\u001b[1;33m}\u001b[0m\u001b[1;33m\u001b[0m\u001b[1;33m\u001b[0m\u001b[0m\n\u001b[0;32m      2\u001b[0m \u001b[0mprint\u001b[0m\u001b[1;33m(\u001b[0m\u001b[0md\u001b[0m\u001b[1;33m.\u001b[0m\u001b[0mpop\u001b[0m\u001b[1;33m(\u001b[0m\u001b[1;36m200\u001b[0m\u001b[1;33m)\u001b[0m\u001b[1;33m)\u001b[0m\u001b[1;33m\u001b[0m\u001b[1;33m\u001b[0m\u001b[0m\n\u001b[1;32m----> 3\u001b[1;33m \u001b[0mprint\u001b[0m\u001b[1;33m(\u001b[0m\u001b[0md\u001b[0m\u001b[1;33m.\u001b[0m\u001b[0mpop\u001b[0m\u001b[1;33m(\u001b[0m\u001b[1;36m400\u001b[0m\u001b[1;33m)\u001b[0m\u001b[1;33m)\u001b[0m\u001b[1;33m\u001b[0m\u001b[1;33m\u001b[0m\u001b[0m\n\u001b[0m\u001b[0;32m      4\u001b[0m \u001b[0mprint\u001b[0m\u001b[1;33m(\u001b[0m\u001b[0md\u001b[0m\u001b[1;33m)\u001b[0m\u001b[1;33m\u001b[0m\u001b[1;33m\u001b[0m\u001b[0m\n",
      "\u001b[1;31mKeyError\u001b[0m: 400"
     ]
    }
   ],
   "source": [
    "d={100:'Durga',200:'Ravi',300:'Shiva'}\n",
    "print(d.pop(200))\n",
    "print(d.pop(400))  #KeyError: 400\n",
    "print(d)\n"
   ]
  },
  {
   "cell_type": "code",
   "execution_count": null,
   "metadata": {},
   "outputs": [],
   "source": [
    "6.popitem()\n",
    "\n",
    "d.popitem()--This removes an arbitery item from the dict{} and returns it in the form a tuple.\n",
    "\n",
    "in case all the items are removed it returns \"KeyError: 'popitem(): dictionary is empty'\""
   ]
  },
  {
   "cell_type": "code",
   "execution_count": 34,
   "metadata": {},
   "outputs": [
    {
     "name": "stdout",
     "output_type": "stream",
     "text": [
      "(300, 'Shiva')\n",
      "(200, 'Ravi')\n",
      "(100, 'Durga')\n"
     ]
    },
    {
     "ename": "KeyError",
     "evalue": "'popitem(): dictionary is empty'",
     "output_type": "error",
     "traceback": [
      "\u001b[1;31m---------------------------------------------------------------------------\u001b[0m",
      "\u001b[1;31mKeyError\u001b[0m                                  Traceback (most recent call last)",
      "\u001b[1;32m<ipython-input-34-c06412210f3b>\u001b[0m in \u001b[0;36m<module>\u001b[1;34m\u001b[0m\n\u001b[0;32m      3\u001b[0m \u001b[0mprint\u001b[0m\u001b[1;33m(\u001b[0m\u001b[0md\u001b[0m\u001b[1;33m.\u001b[0m\u001b[0mpopitem\u001b[0m\u001b[1;33m(\u001b[0m\u001b[1;33m)\u001b[0m\u001b[1;33m)\u001b[0m\u001b[1;33m\u001b[0m\u001b[1;33m\u001b[0m\u001b[0m\n\u001b[0;32m      4\u001b[0m \u001b[0mprint\u001b[0m\u001b[1;33m(\u001b[0m\u001b[0md\u001b[0m\u001b[1;33m.\u001b[0m\u001b[0mpopitem\u001b[0m\u001b[1;33m(\u001b[0m\u001b[1;33m)\u001b[0m\u001b[1;33m)\u001b[0m\u001b[1;33m\u001b[0m\u001b[1;33m\u001b[0m\u001b[0m\n\u001b[1;32m----> 5\u001b[1;33m \u001b[0mprint\u001b[0m\u001b[1;33m(\u001b[0m\u001b[0md\u001b[0m\u001b[1;33m.\u001b[0m\u001b[0mpopitem\u001b[0m\u001b[1;33m(\u001b[0m\u001b[1;33m)\u001b[0m\u001b[1;33m)\u001b[0m\u001b[1;33m\u001b[0m\u001b[1;33m\u001b[0m\u001b[0m\n\u001b[0m\u001b[0;32m      6\u001b[0m \u001b[0mprint\u001b[0m\u001b[1;33m(\u001b[0m\u001b[0md\u001b[0m\u001b[1;33m)\u001b[0m\u001b[1;33m\u001b[0m\u001b[1;33m\u001b[0m\u001b[0m\n",
      "\u001b[1;31mKeyError\u001b[0m: 'popitem(): dictionary is empty'"
     ]
    }
   ],
   "source": [
    "d={100:'Durga',200:'Ravi',300:'Shiva'}\n",
    "print(d.popitem())\n",
    "print(d.popitem())\n",
    "print(d.popitem())\n",
    "print(d.popitem())\n",
    "print(d)"
   ]
  },
  {
   "cell_type": "code",
   "execution_count": null,
   "metadata": {},
   "outputs": [],
   "source": [
    "Difference in Between pop() and popitem()\n",
    "\n",
    "pop()--->Key is required here \n",
    "popitem()--->It removes arbitary values "
   ]
  },
  {
   "cell_type": "code",
   "execution_count": null,
   "metadata": {},
   "outputs": [],
   "source": [
    "#Q WAP to print the "
   ]
  },
  {
   "cell_type": "code",
   "execution_count": 39,
   "metadata": {},
   "outputs": [
    {
     "name": "stdout",
     "output_type": "stream",
     "text": [
      "Processing item: ('Z', 350)\n",
      "Processing item: ('Y', 340)\n",
      "Processing item: ('X', 330)\n",
      "Processing item: ('W', 320)\n",
      "Processing item: ('V', 310)\n",
      "Processing item: ('U', 300)\n",
      "Processing item: ('T', 290)\n",
      "Processing item: ('S', 280)\n",
      "Processing item: ('R', 270)\n",
      "Processing item: ('Q', 260)\n",
      "Processing item: ('P', 250)\n",
      "Processing item: ('O', 240)\n",
      "Processing item: ('N', 230)\n",
      "Processing item: ('M', 220)\n",
      "Processing item: ('L', 210)\n",
      "Processing item: ('K', 200)\n",
      "Processing item: ('J', 190)\n",
      "Processing item: ('I', 180)\n",
      "Processing item: ('H', 170)\n",
      "Processing item: ('G', 160)\n",
      "Processing item: ('F', 150)\n",
      "Processing item: ('E', 140)\n",
      "Processing item: ('D', 130)\n",
      "Processing item: ('C', 120)\n",
      "Processing item: ('B', 110)\n",
      "Processing item: ('A', 100)\n",
      "{}\n"
     ]
    }
   ],
   "source": [
    "i=0\n",
    "d={}\n",
    "while i < 26:\n",
    "    d[chr(65+i)]=100+10*i\n",
    "    i=i+1\n",
    "while len(d) !=0:\n",
    "    print('Processing item:', d.popitem())\n",
    "print(d)"
   ]
  },
  {
   "cell_type": "code",
   "execution_count": null,
   "metadata": {},
   "outputs": [],
   "source": [
    "1.d.keys()"
   ]
  },
  {
   "cell_type": "code",
   "execution_count": 41,
   "metadata": {},
   "outputs": [
    {
     "name": "stdout",
     "output_type": "stream",
     "text": [
      "<class 'dict_keys'>\n",
      "dict_keys(['A', 'B', 'C', 'D', 'E', 'F', 'G', 'H', 'I', 'J', 'K', 'L', 'M', 'N', 'O', 'P', 'Q', 'R', 'S', 'T', 'U', 'V', 'W', 'X', 'Y', 'Z'])\n"
     ]
    }
   ],
   "source": [
    "i=0\n",
    "d={}\n",
    "while i < 26:\n",
    "    d[chr(65+i)]=100+10*i\n",
    "    i=i+1\n",
    "    \n",
    "k=d.keys()\n",
    "print(type(k))\n",
    "print(k)"
   ]
  },
  {
   "cell_type": "code",
   "execution_count": 45,
   "metadata": {},
   "outputs": [
    {
     "name": "stdout",
     "output_type": "stream",
     "text": [
      "A\n",
      "B\n",
      "C\n",
      "D\n",
      "E\n",
      "F\n",
      "G\n",
      "H\n",
      "I\n",
      "J\n",
      "K\n",
      "L\n",
      "M\n",
      "N\n",
      "O\n",
      "P\n",
      "Q\n",
      "R\n",
      "S\n",
      "T\n",
      "U\n",
      "V\n",
      "W\n",
      "X\n",
      "Y\n",
      "Z\n"
     ]
    }
   ],
   "source": [
    "i=0\n",
    "d={}\n",
    "while i < 26:\n",
    "    d[chr(65+i)]=100+10*i\n",
    "    i=i+1\n",
    "    \n",
    "for k1 in d.keys():\n",
    "    print(k1)\n",
    "\n"
   ]
  },
  {
   "cell_type": "code",
   "execution_count": null,
   "metadata": {},
   "outputs": [],
   "source": [
    "2.d.values()"
   ]
  },
  {
   "cell_type": "code",
   "execution_count": 46,
   "metadata": {},
   "outputs": [
    {
     "name": "stdout",
     "output_type": "stream",
     "text": [
      "dict_values([100, 110, 120, 130, 140, 150, 160, 170, 180, 190, 200, 210, 220, 230, 240, 250, 260, 270, 280, 290, 300, 310, 320, 330, 340, 350])\n"
     ]
    }
   ],
   "source": [
    "i=0\n",
    "d={}\n",
    "while i < 26:\n",
    "    d[chr(65+i)]=100+10*i\n",
    "    i=i+1\n",
    "    \n",
    "print(d.values())"
   ]
  },
  {
   "cell_type": "code",
   "execution_count": 47,
   "metadata": {},
   "outputs": [
    {
     "name": "stdout",
     "output_type": "stream",
     "text": [
      "100\n",
      "110\n",
      "120\n",
      "130\n",
      "140\n",
      "150\n",
      "160\n",
      "170\n",
      "180\n",
      "190\n",
      "200\n",
      "210\n",
      "220\n",
      "230\n",
      "240\n",
      "250\n",
      "260\n",
      "270\n",
      "280\n",
      "290\n",
      "300\n",
      "310\n",
      "320\n",
      "330\n",
      "340\n",
      "350\n"
     ]
    }
   ],
   "source": [
    "i=0\n",
    "d={}\n",
    "while i < 26:\n",
    "    d[chr(65+i)]=100+10*i\n",
    "    i=i+1\n",
    "    \n",
    "for val in d.values():\n",
    "    print(val)\n"
   ]
  },
  {
   "cell_type": "code",
   "execution_count": 49,
   "metadata": {},
   "outputs": [
    {
     "name": "stdout",
     "output_type": "stream",
     "text": [
      "Durga\n",
      "Durga\n",
      "Durga\n"
     ]
    }
   ],
   "source": [
    "d={100:'Durga',200:'Durga',300:'Durga'}\n",
    "for val in d.values():\n",
    "    print(val)\n"
   ]
  },
  {
   "cell_type": "code",
   "execution_count": null,
   "metadata": {},
   "outputs": [],
   "source": [
    "d.items()----Returs Key Value Pair"
   ]
  },
  {
   "cell_type": "code",
   "execution_count": 51,
   "metadata": {},
   "outputs": [
    {
     "name": "stdout",
     "output_type": "stream",
     "text": [
      "<class 'dict_items'>\n",
      "dict_items([(100, 'Durga'), (200, 'Ravi'), (300, 'Satya')])\n"
     ]
    }
   ],
   "source": [
    "d={100:'Durga',200:'Ravi',300:'Satya'}\n",
    "i=d.items()\n",
    "print(type(i))\n",
    "print(i)"
   ]
  },
  {
   "cell_type": "code",
   "execution_count": 52,
   "metadata": {},
   "outputs": [
    {
     "name": "stdout",
     "output_type": "stream",
     "text": [
      "(100, 'Durga')\n",
      "(200, 'Ravi')\n",
      "(300, 'Satya')\n"
     ]
    }
   ],
   "source": [
    "d={100:'Durga',200:'Ravi',300:'Satya'}\n",
    "for x in d.items():\n",
    "    print(x)"
   ]
  },
  {
   "cell_type": "code",
   "execution_count": 54,
   "metadata": {},
   "outputs": [
    {
     "name": "stdout",
     "output_type": "stream",
     "text": [
      "100:Durga\n",
      "200:Ravi\n",
      "300:Satya\n"
     ]
    }
   ],
   "source": [
    "d={100:'Durga',200:'Ravi',300:'Satya'}\n",
    "for k,v in d.items():\n",
    "    print('{}:{}'.format(k,v))"
   ]
  },
  {
   "cell_type": "code",
   "execution_count": 56,
   "metadata": {},
   "outputs": [
    {
     "name": "stdout",
     "output_type": "stream",
     "text": [
      "100:Durga\n",
      "200:Ravi\n",
      "300:Satya\n",
      "100\n",
      "200\n",
      "300\n",
      "Durga\n",
      "Ravi\n",
      "Satya\n"
     ]
    }
   ],
   "source": [
    "d={100:'Durga',200:'Ravi',300:'Satya'}\n",
    "# Both Key Values:\n",
    "for k,v in d.items():\n",
    "    print('{}:{}'.format(k,v))\n",
    "#Only Keys:\n",
    "for k in d.keys():\n",
    "    print(k)\n",
    "#Only Values:\n",
    "for v in d.values():\n",
    "    print(v)\n"
   ]
  },
  {
   "cell_type": "code",
   "execution_count": null,
   "metadata": {},
   "outputs": [],
   "source": [
    "4 d.setdefault(k,v):\n",
    "    \n",
    "If the specified key-value is available ,it will return corresponding key-values.\n",
    "\n",
    "If not availble the provided key -values will be added to the dictionary."
   ]
  },
  {
   "cell_type": "code",
   "execution_count": null,
   "metadata": {},
   "outputs": [],
   "source": []
  },
  {
   "cell_type": "code",
   "execution_count": null,
   "metadata": {},
   "outputs": [],
   "source": [
    "5.d.update()"
   ]
  },
  {
   "cell_type": "code",
   "execution_count": 58,
   "metadata": {},
   "outputs": [
    {
     "name": "stdout",
     "output_type": "stream",
     "text": [
      "{100: 'Sunny', 200: 'Ravi', 300: 'Shiva', 400: 'Sunny', 500: 'Bunny', 600: 'Chinny'}\n",
      "{400: 'Sunny', 500: 'Bunny', 600: 'Chinny'}\n"
     ]
    }
   ],
   "source": [
    "d1={100:'Sunny',200:'Ravi',300:'Shiva'}\n",
    "d2={400:'Sunny',500:'Bunny',600:'Chinny'}\n",
    "d1.update(d2)\n",
    "print(d1)\n",
    "print(d2)"
   ]
  },
  {
   "cell_type": "code",
   "execution_count": null,
   "metadata": {},
   "outputs": [],
   "source": [
    "6.d.copy()"
   ]
  },
  {
   "cell_type": "code",
   "execution_count": 60,
   "metadata": {},
   "outputs": [
    {
     "name": "stdout",
     "output_type": "stream",
     "text": [
      "1804393947968\n",
      "1804393947904\n",
      "False\n"
     ]
    }
   ],
   "source": [
    "d1={100:'Sunny',200:'Ravi',300:'Shiva'}\n",
    "d2={400:'Sunny',500:'Bunny',600:'Chinny'}\n",
    "d1.copy()\n",
    "print(id(d1))\n",
    "print(id(d2))\n",
    "print(d1 is d2)"
   ]
  },
  {
   "cell_type": "code",
   "execution_count": null,
   "metadata": {},
   "outputs": [],
   "source": [
    "# WAP to take an input of a dictioanry and print the sum of values:"
   ]
  },
  {
   "cell_type": "code",
   "execution_count": 66,
   "metadata": {},
   "outputs": [
    {
     "name": "stdout",
     "output_type": "stream",
     "text": [
      "Enter the Dictionary:'A':100,'B':200,'C':300\n"
     ]
    },
    {
     "ename": "SyntaxError",
     "evalue": "invalid syntax (<string>, line 1)",
     "output_type": "error",
     "traceback": [
      "Traceback \u001b[1;36m(most recent call last)\u001b[0m:\n",
      "  File \u001b[0;32m\"C:\\Users\\Satya\\anaconda3\\lib\\site-packages\\IPython\\core\\interactiveshell.py\"\u001b[0m, line \u001b[0;32m3343\u001b[0m, in \u001b[0;35mrun_code\u001b[0m\n    exec(code_obj, self.user_global_ns, self.user_ns)\n",
      "\u001b[1;36m  File \u001b[1;32m\"<ipython-input-66-1d04aaf4d5d6>\"\u001b[1;36m, line \u001b[1;32m1\u001b[1;36m, in \u001b[1;35m<module>\u001b[1;36m\u001b[0m\n\u001b[1;33m    d=eval(input('Enter the Dictionary:'))\u001b[0m\n",
      "\u001b[1;36m  File \u001b[1;32m\"<string>\"\u001b[1;36m, line \u001b[1;32m1\u001b[0m\n\u001b[1;33m    'A':100,'B':200,'C':300\u001b[0m\n\u001b[1;37m       ^\u001b[0m\n\u001b[1;31mSyntaxError\u001b[0m\u001b[1;31m:\u001b[0m invalid syntax\n"
     ]
    }
   ],
   "source": [
    "d=eval(input('Enter the Dictionary:'))   #\n",
    "print('The sum:',sum(d.values()))"
   ]
  },
  {
   "cell_type": "code",
   "execution_count": 68,
   "metadata": {},
   "outputs": [
    {
     "name": "stdout",
     "output_type": "stream",
     "text": [
      "Enter any String:i love my india\n",
      "a occures 1 times\n",
      "e occures 1 times\n",
      "i occures 3 times\n",
      "o occures 1 times\n"
     ]
    }
   ],
   "source": [
    "# WAP TO FIND THE NUMBER OF OCCURENCES OF EACH VOWEL IN A GIVEN STRING:\n",
    "\n",
    "\n",
    "s=input('Enter any String:')\n",
    "vowels={'a','e','i','o','u'}\n",
    "d={}\n",
    "for ch in s:\n",
    "    if ch in vowels:\n",
    "        d[ch]=d.get(ch,0)+1\n",
    "        \n",
    "for k,v in sorted(d.items()):\n",
    "    print('{} occures {} times'.format(k,v))"
   ]
  },
  {
   "cell_type": "code",
   "execution_count": 69,
   "metadata": {},
   "outputs": [
    {
     "name": "stdout",
     "output_type": "stream",
     "text": [
      "Enter Any Word:missisippi\n",
      "{'m': 1, 'i': 4, 's': 3, 'p': 2}\n"
     ]
    }
   ],
   "source": [
    "#Q:WAP TO print occurence of each letter present in a given string.\n",
    "\n",
    "s=input('Enter Any Word:')\n",
    "d={}\n",
    "for ch in s:\n",
    "    if ch in d:\n",
    "        d[ch]=d[ch]+1\n",
    "    else:\n",
    "        d[ch]=1\n",
    "print(d)\n",
    "\n",
    "        \n",
    "        "
   ]
  },
  {
   "cell_type": "code",
   "execution_count": 73,
   "metadata": {},
   "outputs": [
    {
     "name": "stdout",
     "output_type": "stream",
     "text": [
      "Enter Any Word:missisippi\n",
      "{'m': 1, 'i': 4, 's': 3, 'p': 2}\n"
     ]
    }
   ],
   "source": [
    "s=input('Enter Any Word:')\n",
    "d={}\n",
    "for ch in s:\n",
    "    d[ch]= d.get(ch,0)+1\n",
    "print(d)"
   ]
  },
  {
   "cell_type": "code",
   "execution_count": 74,
   "metadata": {},
   "outputs": [
    {
     "name": "stdout",
     "output_type": "stream",
     "text": [
      "Enter Any Word:missisippi\n",
      "m occures 1 times\n",
      "i occures 4 times\n",
      "s occures 3 times\n",
      "p occures 2 times\n"
     ]
    }
   ],
   "source": [
    "\n",
    "s=input('Enter Any Word:')\n",
    "d={}\n",
    "for ch in s:\n",
    "    d[ch]= d.get(ch,0)+1\n",
    "    \n",
    "for k,v in d.items():\n",
    "    print('{} occures {} times'.format(k,v))"
   ]
  },
  {
   "cell_type": "code",
   "execution_count": 75,
   "metadata": {},
   "outputs": [
    {
     "name": "stdout",
     "output_type": "stream",
     "text": [
      "Enter Any Word:missisippi\n",
      "i occures 4 times\n",
      "m occures 1 times\n",
      "p occures 2 times\n",
      "s occures 3 times\n"
     ]
    }
   ],
   "source": [
    "\n",
    "s=input('Enter Any Word:')\n",
    "d={}\n",
    "for ch in s:\n",
    "    d[ch]= d.get(ch,0)+1\n",
    "    \n",
    "for k,v in sorted(d.items()):\n",
    "    print('{} occures {} times'.format(k,v))"
   ]
  },
  {
   "cell_type": "code",
   "execution_count": null,
   "metadata": {},
   "outputs": [],
   "source": [
    "# WAP to accept student input and marks from the keyboard and with that data create a dictionary:\n",
    " Also display student marks by taking student name as input\n"
   ]
  },
  {
   "cell_type": "code",
   "execution_count": null,
   "metadata": {},
   "outputs": [
    {
     "name": "stdout",
     "output_type": "stream",
     "text": [
      "Enter Number Of Students:2\n",
      "Enter Student Name:sunny\n",
      "Enter Student Marks:100\n",
      "Enter Student Name:bunny\n",
      "Enter Student Marks:200\n",
      "All Students Data Inserted\n",
      "Enter Student Name To Get Marks:sunny\n",
      "The Marks Of sunny:100\n",
      "Do you want to find another student marks[YES|NO] :bunny\n",
      "Invalid Option Please Choose Valid Option [YES|NO]yes\n"
     ]
    }
   ],
   "source": [
    "n=int(input('Enter Number Of Students:'))\n",
    "d={}\n",
    "for i in range(n):\n",
    "    name=input('Enter Student Name:')\n",
    "    marks=int(input('Enter Student Marks:'))\n",
    "    d[name]=marks\n",
    "print('All Students Data Inserted')\n",
    "while True:\n",
    "    name=input('Enter Student Name To Get Marks:')\n",
    "    if name in d:\n",
    "        print('The Marks Of {}:{}'.format(name,d.get(name)))\n",
    "    else:\n",
    "        print('student not found')\n",
    "    option=input('Do you want to find another student marks[YES|NO] :')\n",
    "    while option.lower() not in ['YES','NO','y','n']:\n",
    "        option = input('Invalid Option Please Choose Valid Option [YES|NO]')\n",
    "    if option.lower() in {'no','n'} :\n",
    "        break\n",
    "print('Thanks For Using our App')\n",
    "            \n",
    "                    "
   ]
  },
  {
   "cell_type": "code",
   "execution_count": null,
   "metadata": {},
   "outputs": [],
   "source": [
    "Comprehension In Dictionary:Applicable"
   ]
  },
  {
   "cell_type": "code",
   "execution_count": 9,
   "metadata": {},
   "outputs": [
    {
     "name": "stdout",
     "output_type": "stream",
     "text": [
      "{1: 1, 2: 4, 3: 9, 4: 16, 5: 25}\n",
      "<class 'dict'>\n"
     ]
    }
   ],
   "source": [
    "# WAP to find the sauare of given numbers.\n",
    "# d={key:value for x in range(1,6)}\n",
    "\n",
    "\n",
    "d={x:x*x for x in range(1,6)}\n",
    "print(d)\n",
    "print(type(d))"
   ]
  },
  {
   "cell_type": "code",
   "execution_count": 10,
   "metadata": {},
   "outputs": [
    {
     "name": "stdout",
     "output_type": "stream",
     "text": [
      "{1: 2, 2: 4, 3: 6, 4: 8, 5: 10}\n",
      "<class 'dict'>\n"
     ]
    }
   ],
   "source": [
    "d={x:2*x for x in range(1,6)}\n",
    "print(d)\n",
    "print(type(d))"
   ]
  },
  {
   "cell_type": "code",
   "execution_count": 11,
   "metadata": {},
   "outputs": [
    {
     "name": "stdout",
     "output_type": "stream",
     "text": [
      "{1: 'A', 2: 'B', 3: 'C', 4: 'D', 5: 'E', 6: 'F', 7: 'G', 8: 'H', 9: 'I', 10: 'J', 11: 'K', 12: 'L', 13: 'M', 14: 'N', 15: 'O', 16: 'P', 17: 'Q', 18: 'R', 19: 'S', 20: 'T', 21: 'U', 22: 'V', 23: 'W', 24: 'X', 25: 'Y', 26: 'Z'}\n"
     ]
    }
   ],
   "source": [
    "# WAP to print alphabts according to their respective numbers.\n",
    "\n",
    "alphabets={x:chr(64+x) for x in range(1,27)}\n",
    "print(alphabets)"
   ]
  },
  {
   "cell_type": "code",
   "execution_count": null,
   "metadata": {},
   "outputs": [],
   "source": [
    "Merging Of Collections:\n",
    "    \n",
    "+ is applicable for list."
   ]
  },
  {
   "cell_type": "code",
   "execution_count": 13,
   "metadata": {},
   "outputs": [
    {
     "name": "stdout",
     "output_type": "stream",
     "text": [
      "[10, 20, 30, 40, 50, 60]\n"
     ]
    }
   ],
   "source": [
    "l1=[10,20,30]    # + is Applicable for list\n",
    "l2=[40,50,60]\n",
    "l3=l1+l2\n",
    "print(l3)"
   ]
  },
  {
   "cell_type": "code",
   "execution_count": 14,
   "metadata": {},
   "outputs": [
    {
     "name": "stdout",
     "output_type": "stream",
     "text": [
      "(10, 20, 30, 40, 50, 60)\n"
     ]
    }
   ],
   "source": [
    "l1=(10,20,30)      #+ operator is applicable for tuple as well.\n",
    "l2=(40,50,60)\n",
    "l3=l1+l2\n",
    "print(l3)\n"
   ]
  },
  {
   "cell_type": "code",
   "execution_count": 16,
   "metadata": {},
   "outputs": [
    {
     "name": "stdout",
     "output_type": "stream",
     "text": [
      "[10, 20, 30, 40, 50, 60]\n"
     ]
    }
   ],
   "source": [
    "l1=[10,20,30]\n",
    "l2=[40,50,60]\n",
    "l3=[*l1 ,*l2]\n",
    "print(l3)"
   ]
  },
  {
   "cell_type": "code",
   "execution_count": 20,
   "metadata": {},
   "outputs": [
    {
     "name": "stdout",
     "output_type": "stream",
     "text": [
      "(10, 20, 30, 40, 50, 60)\n"
     ]
    }
   ],
   "source": [
    "t1=(10,20,30)\n",
    "t2=(40,50,60)\n",
    "t3=(*t1,*t2)\n",
    "print(t3)"
   ]
  },
  {
   "cell_type": "code",
   "execution_count": 21,
   "metadata": {},
   "outputs": [
    {
     "ename": "TypeError",
     "evalue": "unsupported operand type(s) for +: 'set' and 'set'",
     "output_type": "error",
     "traceback": [
      "\u001b[1;31m---------------------------------------------------------------------------\u001b[0m",
      "\u001b[1;31mTypeError\u001b[0m                                 Traceback (most recent call last)",
      "\u001b[1;32m<ipython-input-21-95473e781f20>\u001b[0m in \u001b[0;36m<module>\u001b[1;34m\u001b[0m\n\u001b[0;32m      1\u001b[0m \u001b[0ms1\u001b[0m\u001b[1;33m=\u001b[0m\u001b[1;33m{\u001b[0m\u001b[1;36m10\u001b[0m\u001b[1;33m,\u001b[0m\u001b[1;36m20\u001b[0m\u001b[1;33m,\u001b[0m\u001b[1;36m30\u001b[0m\u001b[1;33m}\u001b[0m\u001b[1;33m\u001b[0m\u001b[1;33m\u001b[0m\u001b[0m\n\u001b[0;32m      2\u001b[0m \u001b[0ms2\u001b[0m\u001b[1;33m=\u001b[0m\u001b[1;33m{\u001b[0m\u001b[1;36m40\u001b[0m\u001b[1;33m,\u001b[0m\u001b[1;36m50\u001b[0m\u001b[1;33m,\u001b[0m\u001b[1;36m60\u001b[0m\u001b[1;33m}\u001b[0m\u001b[1;33m\u001b[0m\u001b[1;33m\u001b[0m\u001b[0m\n\u001b[1;32m----> 3\u001b[1;33m \u001b[0ms3\u001b[0m\u001b[1;33m=\u001b[0m\u001b[0ms1\u001b[0m\u001b[1;33m+\u001b[0m\u001b[0ms2\u001b[0m\u001b[1;33m\u001b[0m\u001b[1;33m\u001b[0m\u001b[0m\n\u001b[0m\u001b[0;32m      4\u001b[0m \u001b[0mprint\u001b[0m\u001b[1;33m(\u001b[0m\u001b[0ms3\u001b[0m\u001b[1;33m)\u001b[0m\u001b[1;33m\u001b[0m\u001b[1;33m\u001b[0m\u001b[0m\n",
      "\u001b[1;31mTypeError\u001b[0m: unsupported operand type(s) for +: 'set' and 'set'"
     ]
    }
   ],
   "source": [
    "s1={10,20,30}       \n",
    "s2={40,50,60}\n",
    "s3=s1+s2\n",
    "print(s3)"
   ]
  },
  {
   "cell_type": "code",
   "execution_count": 23,
   "metadata": {},
   "outputs": [
    {
     "name": "stdout",
     "output_type": "stream",
     "text": [
      "{50, 20, 40, 10, 60, 30}\n"
     ]
    }
   ],
   "source": [
    "s1={10,20,30}       \n",
    "s2={40,50,60}\n",
    "s3={*s1,*s2}\n",
    "print(s3)"
   ]
  },
  {
   "cell_type": "code",
   "execution_count": 25,
   "metadata": {},
   "outputs": [
    {
     "name": "stdout",
     "output_type": "stream",
     "text": [
      "{40, 10, 50, 20, 'Ball', 'Cat', 60, 30, 'Apple'}\n"
     ]
    }
   ],
   "source": [
    "s1={10,20,30}       \n",
    "s2={40,50,60}\n",
    "s3={'Apple','Ball','Cat'}\n",
    "s4={*s1,*s2,*s3}\n",
    "print(s4)"
   ]
  },
  {
   "cell_type": "code",
   "execution_count": 26,
   "metadata": {},
   "outputs": [
    {
     "name": "stdout",
     "output_type": "stream",
     "text": [
      "{40, 10, 50, 20, 60, 30}\n"
     ]
    }
   ],
   "source": [
    "s1={10,20,30}   #Set       \n",
    "l2=[40,50,60]   #List\n",
    "s3={*s1,*l2}\n",
    "print(s3)"
   ]
  },
  {
   "cell_type": "code",
   "execution_count": 27,
   "metadata": {},
   "outputs": [
    {
     "name": "stdout",
     "output_type": "stream",
     "text": [
      "{40, 10, 50, 20, 60, 30}\n"
     ]
    }
   ],
   "source": [
    "s1={10,20,30}   #set     \n",
    "t2=(40,50,60)   #tuple\n",
    "s3={*s1,*t2}\n",
    "print(s3)"
   ]
  },
  {
   "cell_type": "code",
   "execution_count": 29,
   "metadata": {},
   "outputs": [
    {
     "name": "stdout",
     "output_type": "stream",
     "text": [
      "(10, 20, 30, 40, 50, 60, 'Apple', 'Ball', 'Cat')\n"
     ]
    }
   ],
   "source": [
    "s1={10,20,30}               #Set\n",
    "s2=(40,50,60)               #Tuple\n",
    "s3=['Apple','Ball','Cat']   #list\n",
    "\n",
    "l=(*s1,*s2,*s3)\n",
    "print(l)"
   ]
  },
  {
   "cell_type": "code",
   "execution_count": 31,
   "metadata": {},
   "outputs": [
    {
     "name": "stdout",
     "output_type": "stream",
     "text": [
      "{400, 100, 500, 200, 600, 300}\n"
     ]
    }
   ],
   "source": [
    "d1={100:'A',200:'B'}\n",
    "d2={300:'C',400:'D'}\n",
    "d3={500:'E',600:'F'}\n",
    "result={*d1,*d2,*d3}    # * will print only key .\n",
    "print(result)"
   ]
  },
  {
   "cell_type": "code",
   "execution_count": 34,
   "metadata": {},
   "outputs": [
    {
     "name": "stdout",
     "output_type": "stream",
     "text": [
      "{100: 'A', 200: 'B', 300: 'C', 400: 'D', 500: 'E', 600: 'F'}\n"
     ]
    }
   ],
   "source": [
    "d1={100:'A',200:'B'}\n",
    "d2={300:'C',400:'D'}\n",
    "d3={500:'E',600:'F'}\n",
    "result={**d1,**d2,**d3}  #** Will print key-value pairs\n",
    "print(result)"
   ]
  },
  {
   "cell_type": "code",
   "execution_count": 35,
   "metadata": {},
   "outputs": [
    {
     "name": "stdout",
     "output_type": "stream",
     "text": [
      "{'E', 'A', 'D', 'F', 'C', 'B'}\n"
     ]
    }
   ],
   "source": [
    "d1={100:'A',200:'B'}\n",
    "d2={300:'C',400:'D'}\n",
    "d3={500:'E',600:'F'}\n",
    "result={*d1.values(),*d2.values(),*d3.values()}  #** Will print key-value pairs\n",
    "print(result)"
   ]
  },
  {
   "cell_type": "code",
   "execution_count": null,
   "metadata": {},
   "outputs": [],
   "source": [
    "What is the limitations of + operators?\n",
    "\n",
    "Ans:Applicable to list & Tuple only.\n",
    "    Both arguments must be same ."
   ]
  },
  {
   "cell_type": "code",
   "execution_count": 37,
   "metadata": {},
   "outputs": [
    {
     "name": "stdout",
     "output_type": "stream",
     "text": [
      "20\n",
      "60\n"
     ]
    }
   ],
   "source": [
    "# Nested Collections:\n",
    "\n",
    "l1=[(10,20,30),(40,50,60)]   # List Of Tuples\n",
    "print(l1[0][1])\n",
    "print(l1[1][2])"
   ]
  },
  {
   "cell_type": "code",
   "execution_count": 15,
   "metadata": {},
   "outputs": [
    {
     "name": "stdout",
     "output_type": "stream",
     "text": [
      "('Innova', 'Honda', 'BMW')\n",
      "Honda\n",
      "Honda\n",
      "('Samsung', 'Nokia', 'Apple')\n",
      "Samsung\n",
      "Nokia\n",
      "Apple\n"
     ]
    }
   ],
   "source": [
    "d = {\n",
    "    'Cars':('Innova','Honda','BMW'),\n",
    "    'Mobiles':('Samsung','Nokia','Apple')\n",
    "    }\n",
    "    \n",
    "# To Display The all Cars:\n",
    "\n",
    "print(d['Cars'])\n",
    "\n",
    "  \n",
    "# To Display The 2nd Car:\n",
    "    \n",
    "print(d['Cars'][1])\n",
    "print(d.get('Cars')[1])\n",
    "\n",
    "# To display All Mobiles:\n",
    "\n",
    "print(d['Mobiles'])\n",
    "\n",
    "for mobile in d['Mobiles']:\n",
    "    print(mobile)\n",
    "\n"
   ]
  },
  {
   "cell_type": "code",
   "execution_count": null,
   "metadata": {},
   "outputs": [],
   "source": [
    "2 Restrivtions:\n",
    "   1> Every Element inside a set should be Hashable.\n",
    "    Hence we can't take list object as element in set.\n",
    "    \n",
    "    2>For every key inside the dictionary should be hashable.\n",
    "      For the keys we CAN NOT take list object.\n",
    "    "
   ]
  },
  {
   "cell_type": "code",
   "execution_count": null,
   "metadata": {},
   "outputs": [],
   "source": []
  },
  {
   "cell_type": "code",
   "execution_count": null,
   "metadata": {},
   "outputs": [],
   "source": []
  }
 ],
 "metadata": {
  "kernelspec": {
   "display_name": "Python 3",
   "language": "python",
   "name": "python3"
  },
  "language_info": {
   "codemirror_mode": {
    "name": "ipython",
    "version": 3
   },
   "file_extension": ".py",
   "mimetype": "text/x-python",
   "name": "python",
   "nbconvert_exporter": "python",
   "pygments_lexer": "ipython3",
   "version": "3.8.3"
  }
 },
 "nbformat": 4,
 "nbformat_minor": 2
}
