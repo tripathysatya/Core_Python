{
 "cells": [
  {
   "cell_type": "code",
   "execution_count": null,
   "metadata": {},
   "outputs": [],
   "source": [
    "String Concepts:\n",
    "    Python Supports both +ve or -ve index.\n",
    "    +ve index is always from left to right.\n",
    "    -ve index is always from right to left.\n",
    "    To use string single or double quotes are used\n",
    "    "
   ]
  },
  {
   "cell_type": "code",
   "execution_count": 2,
   "metadata": {},
   "outputs": [
    {
     "name": "stdout",
     "output_type": "stream",
     "text": [
      "g\n",
      "a\n"
     ]
    }
   ],
   "source": [
    "s='Durga'\n",
    "print(s[3])\n",
    "print(s[-1])\n"
   ]
  },
  {
   "cell_type": "code",
   "execution_count": 4,
   "metadata": {},
   "outputs": [
    {
     "name": "stdout",
     "output_type": "stream",
     "text": [
      "Enter Any String:Satya\n",
      "The characters Present at positive index is 0 is :S\n",
      "The characters Present at positive index is 1 is :a\n",
      "The characters Present at positive index is 2 is :t\n",
      "The characters Present at positive index is 3 is :y\n",
      "The characters Present at positive index is 4 is :a\n"
     ]
    }
   ],
   "source": [
    "s=input('Enter Any String:')\n",
    "i=0\n",
    "for x in s:\n",
    "    print('The characters Present at positive index is {} is :{}'.format(i,x))\n",
    "    i=i+1"
   ]
  },
  {
   "cell_type": "code",
   "execution_count": 6,
   "metadata": {},
   "outputs": [
    {
     "name": "stdout",
     "output_type": "stream",
     "text": [
      "Enter Any String:satya\n",
      "The characters Present at +ve index 0 and at -ve index -5 is: s\n",
      "The characters Present at +ve index 1 and at -ve index -4 is: a\n",
      "The characters Present at +ve index 2 and at -ve index -3 is: t\n",
      "The characters Present at +ve index 3 and at -ve index -2 is: y\n",
      "The characters Present at +ve index 4 and at -ve index -1 is: a\n"
     ]
    }
   ],
   "source": [
    "s=input('Enter Any String:')\n",
    "i=0\n",
    "for x in s:\n",
    "    print('The characters Present at +ve index {} and at -ve index {} is: {}'.format(i,i-len(s),x))\n",
    "    i=i+1"
   ]
  },
  {
   "cell_type": "code",
   "execution_count": null,
   "metadata": {},
   "outputs": [],
   "source": [
    "Slicing Concepts:\n",
    "\n",
    "s[begin-index:end-index:step]\n",
    "s[begin:end:step]\n"
   ]
  },
  {
   "cell_type": "code",
   "execution_count": null,
   "metadata": {},
   "outputs": [],
   "source": [
    "    \n",
    "1.For Beging and end either +ve or -ve index.\n",
    "2.The default step is +ve value only.\n",
    "3.+ve step is in forwarded direction i.e from Left to Right;from begin to end-1\n",
    "4.-ve step is in reverse direction i.e from Right to Left ;from begin to end+1\n",
    "5.In forward direction if the end value is '0' then the result is always empty.\n",
    "6.In reverse direction if the end value is '-1' then the result is always empty.\n"
   ]
  },
  {
   "cell_type": "code",
   "execution_count": 7,
   "metadata": {},
   "outputs": [
    {
     "name": "stdout",
     "output_type": "stream",
     "text": [
      "earn\n"
     ]
    }
   ],
   "source": [
    "s='Learning python is very easy'\n",
    "print(s[1:5])\n"
   ]
  },
  {
   "cell_type": "code",
   "execution_count": 8,
   "metadata": {},
   "outputs": [
    {
     "name": "stdout",
     "output_type": "stream",
     "text": [
      "Learning python is very easy\n"
     ]
    }
   ],
   "source": [
    "s='Learning python is very easy'\n",
    "print(s[:])                       #Here begin & end isn't defined so entire string is considered.\n"
   ]
  },
  {
   "cell_type": "code",
   "execution_count": 19,
   "metadata": {},
   "outputs": [
    {
     "name": "stdout",
     "output_type": "stream",
     "text": [
      "earning p\n"
     ]
    }
   ],
   "source": [
    "s='Learning python is very easy'\n",
    "print(s[1:10:1])    #Here began from 1st index i.e 'e' and went till end with step size 1\n"
   ]
  },
  {
   "cell_type": "code",
   "execution_count": 14,
   "metadata": {},
   "outputs": [
    {
     "name": "stdout",
     "output_type": "stream",
     "text": [
      "BCDEFGHIJKLMNO\n",
      "BDFHJLN\n",
      "BDFHJLNPRTVXZ\n",
      "ZYXWVUTSRQPONMLKJIHGFEDCBA\n"
     ]
    }
   ],
   "source": [
    "s='ABCDEFGHIJKLMNOPQRSTUVWXYZ'\n",
    "print(s[1:15:1])\n",
    "print(s[1:15:2])\n",
    "print(s[1:1000:2]) # it wont throw any error\n",
    "print(s[::-1])"
   ]
  },
  {
   "cell_type": "code",
   "execution_count": 16,
   "metadata": {},
   "outputs": [
    {
     "ename": "ValueError",
     "evalue": "slice step cannot be zero",
     "output_type": "error",
     "traceback": [
      "\u001b[1;31m---------------------------------------------------------------------------\u001b[0m",
      "\u001b[1;31mValueError\u001b[0m                                Traceback (most recent call last)",
      "\u001b[1;32m<ipython-input-16-dc325191389c>\u001b[0m in \u001b[0;36m<module>\u001b[1;34m\u001b[0m\n\u001b[0;32m      1\u001b[0m \u001b[0ms\u001b[0m\u001b[1;33m=\u001b[0m\u001b[1;34m'ABCDEFGHIJKLMNOPQRSTUVWXYZ'\u001b[0m\u001b[1;33m\u001b[0m\u001b[1;33m\u001b[0m\u001b[0m\n\u001b[1;32m----> 2\u001b[1;33m \u001b[0mprint\u001b[0m\u001b[1;33m(\u001b[0m\u001b[0ms\u001b[0m\u001b[1;33m[\u001b[0m\u001b[1;33m:\u001b[0m\u001b[1;33m:\u001b[0m\u001b[1;36m0\u001b[0m\u001b[1;33m]\u001b[0m\u001b[1;33m)\u001b[0m\u001b[1;33m\u001b[0m\u001b[1;33m\u001b[0m\u001b[0m\n\u001b[0m",
      "\u001b[1;31mValueError\u001b[0m: slice step cannot be zero"
     ]
    }
   ],
   "source": [
    "s='ABCDEFGHIJKLMNOPQRSTUVWXYZ'\n",
    "print(s[::0])                   #Slicing Step from '0' is not pernitted.\n"
   ]
  },
  {
   "cell_type": "code",
   "execution_count": 17,
   "metadata": {},
   "outputs": [
    {
     "name": "stdout",
     "output_type": "stream",
     "text": [
      "ZYXWVUTSRQPONMLKJIHGFEDCBA\n",
      "ZYXWVUTSRQPONMLKJIHGFEDCBA\n"
     ]
    }
   ],
   "source": [
    "s='ABCDEFGHIJKLMNOPQRSTUVWXYZ'\n",
    "print(s[::-1])\n",
    "print(s[-1:-27:-1])"
   ]
  },
  {
   "cell_type": "code",
   "execution_count": null,
   "metadata": {},
   "outputs": [],
   "source": [
    "Slice Operator :"
   ]
  },
  {
   "cell_type": "code",
   "execution_count": 2,
   "metadata": {},
   "outputs": [
    {
     "data": {
      "text/plain": [
       "'BDF'"
      ]
     },
     "execution_count": 2,
     "metadata": {},
     "output_type": "execute_result"
    }
   ],
   "source": [
    "s='ABCDEFGHIJ'\n",
    "s[1:6:2]"
   ]
  },
  {
   "cell_type": "code",
   "execution_count": 3,
   "metadata": {},
   "outputs": [
    {
     "data": {
      "text/plain": [
       "'JIHGFEDCBA'"
      ]
     },
     "execution_count": 3,
     "metadata": {},
     "output_type": "execute_result"
    }
   ],
   "source": [
    "s='ABCDEFGHIJ'\n",
    "s[::-1]"
   ]
  },
  {
   "cell_type": "code",
   "execution_count": 4,
   "metadata": {},
   "outputs": [
    {
     "data": {
      "text/plain": [
       "'ABCDEFGHIJ'"
      ]
     },
     "execution_count": 4,
     "metadata": {},
     "output_type": "execute_result"
    }
   ],
   "source": [
    "s='ABCDEFGHIJ'\n",
    "s[::1]"
   ]
  },
  {
   "cell_type": "code",
   "execution_count": 5,
   "metadata": {},
   "outputs": [
    {
     "data": {
      "text/plain": [
       "''"
      ]
     },
     "execution_count": 5,
     "metadata": {},
     "output_type": "execute_result"
    }
   ],
   "source": [
    "s='ABCDEFGHIJ'\n",
    "s[3:7:-1]"
   ]
  },
  {
   "cell_type": "code",
   "execution_count": 6,
   "metadata": {},
   "outputs": [
    {
     "data": {
      "text/plain": [
       "'HGF'"
      ]
     },
     "execution_count": 6,
     "metadata": {},
     "output_type": "execute_result"
    }
   ],
   "source": [
    "s='ABCDEFGHIJ'\n",
    "s[7:4:-1]"
   ]
  },
  {
   "cell_type": "code",
   "execution_count": 7,
   "metadata": {},
   "outputs": [
    {
     "data": {
      "text/plain": [
       "'ABCDEFGHIJ'"
      ]
     },
     "execution_count": 7,
     "metadata": {},
     "output_type": "execute_result"
    }
   ],
   "source": [
    "s='ABCDEFGHIJ'\n",
    "s[0:10000:1]"
   ]
  },
  {
   "cell_type": "code",
   "execution_count": 8,
   "metadata": {},
   "outputs": [
    {
     "data": {
      "text/plain": [
       "''"
      ]
     },
     "execution_count": 8,
     "metadata": {},
     "output_type": "execute_result"
    }
   ],
   "source": [
    "s='ABCDEFGHIJ'\n",
    "s[0:10000:-1]"
   ]
  },
  {
   "cell_type": "code",
   "execution_count": 9,
   "metadata": {},
   "outputs": [
    {
     "data": {
      "text/plain": [
       "'GFEDC'"
      ]
     },
     "execution_count": 9,
     "metadata": {},
     "output_type": "execute_result"
    }
   ],
   "source": [
    "s='ABCDEFGHIJ'\n",
    "s[-4:1:-1]"
   ]
  },
  {
   "cell_type": "code",
   "execution_count": 10,
   "metadata": {},
   "outputs": [
    {
     "data": {
      "text/plain": [
       "'GEC'"
      ]
     },
     "execution_count": 10,
     "metadata": {},
     "output_type": "execute_result"
    }
   ],
   "source": [
    "s='ABCDEFGHIJ'\n",
    "s[-4:1:-2]"
   ]
  },
  {
   "cell_type": "code",
   "execution_count": 11,
   "metadata": {},
   "outputs": [
    {
     "ename": "ValueError",
     "evalue": "slice step cannot be zero",
     "output_type": "error",
     "traceback": [
      "\u001b[1;31m---------------------------------------------------------------------------\u001b[0m",
      "\u001b[1;31mValueError\u001b[0m                                Traceback (most recent call last)",
      "\u001b[1;32m<ipython-input-11-4894767af567>\u001b[0m in \u001b[0;36m<module>\u001b[1;34m\u001b[0m\n\u001b[0;32m      1\u001b[0m \u001b[0ms\u001b[0m\u001b[1;33m=\u001b[0m\u001b[1;34m'ABCDEFGHIJ'\u001b[0m\u001b[1;33m\u001b[0m\u001b[1;33m\u001b[0m\u001b[0m\n\u001b[1;32m----> 2\u001b[1;33m \u001b[0ms\u001b[0m\u001b[1;33m[\u001b[0m\u001b[1;36m9\u001b[0m\u001b[1;33m:\u001b[0m\u001b[1;36m0\u001b[0m\u001b[1;33m:\u001b[0m\u001b[1;36m0\u001b[0m\u001b[1;33m]\u001b[0m\u001b[1;33m\u001b[0m\u001b[1;33m\u001b[0m\u001b[0m\n\u001b[0m",
      "\u001b[1;31mValueError\u001b[0m: slice step cannot be zero"
     ]
    }
   ],
   "source": [
    "s='ABCDEFGHIJ'\n",
    "s[9:0:0]"
   ]
  },
  {
   "cell_type": "code",
   "execution_count": 12,
   "metadata": {},
   "outputs": [
    {
     "data": {
      "text/plain": [
       "''"
      ]
     },
     "execution_count": 12,
     "metadata": {},
     "output_type": "execute_result"
    }
   ],
   "source": [
    "s='ABCDEFGHIJ'\n",
    "s[0:10:-1]"
   ]
  },
  {
   "cell_type": "code",
   "execution_count": 13,
   "metadata": {},
   "outputs": [
    {
     "data": {
      "text/plain": [
       "'FEDC'"
      ]
     },
     "execution_count": 13,
     "metadata": {},
     "output_type": "execute_result"
    }
   ],
   "source": [
    "s='ABCDEFGHIJ'\n",
    "s[5:1:-1]"
   ]
  },
  {
   "cell_type": "code",
   "execution_count": 14,
   "metadata": {},
   "outputs": [
    {
     "data": {
      "text/plain": [
       "'IHG'"
      ]
     },
     "execution_count": 14,
     "metadata": {},
     "output_type": "execute_result"
    }
   ],
   "source": [
    "s='ABCDEFGHIJ'\n",
    "s[-2:-5:-1]"
   ]
  },
  {
   "cell_type": "code",
   "execution_count": 15,
   "metadata": {},
   "outputs": [
    {
     "data": {
      "text/plain": [
       "''"
      ]
     },
     "execution_count": 15,
     "metadata": {},
     "output_type": "execute_result"
    }
   ],
   "source": [
    "s='ABCDEFGHIJ'\n",
    "s[0:-10:1]"
   ]
  },
  {
   "cell_type": "code",
   "execution_count": null,
   "metadata": {},
   "outputs": [],
   "source": [
    "# WAP to print the each characters in a given string in both forward & reverse order."
   ]
  },
  {
   "cell_type": "code",
   "execution_count": 19,
   "metadata": {},
   "outputs": [
    {
     "name": "stdout",
     "output_type": "stream",
     "text": [
      "Enter any string:satya\n",
      "In Forward Direction\n",
      "s\n",
      "a\n",
      "t\n",
      "y\n",
      "a\n",
      "In Reverse Direction\n",
      "a\n",
      "y\n",
      "t\n",
      "a\n",
      "s\n"
     ]
    }
   ],
   "source": [
    "s=input('Enter any string:')\n",
    "print('In Forward Direction')\n",
    "for y in s:\n",
    "    print(y)\n",
    "print('In Reverse Direction')\n",
    "for y in s[::-1]:\n",
    "    print(y)\n",
    "    \n",
    "    "
   ]
  },
  {
   "cell_type": "code",
   "execution_count": null,
   "metadata": {},
   "outputs": [],
   "source": [
    "Another way:\n",
    "    "
   ]
  },
  {
   "cell_type": "code",
   "execution_count": 25,
   "metadata": {},
   "outputs": [
    {
     "name": "stdout",
     "output_type": "stream",
     "text": [
      "Enter any string:mona\n",
      "In Forward Direction\n",
      "m\n",
      "o\n",
      "n\n",
      "a\n",
      "in reverse direction\n",
      "a\n",
      "n\n",
      "o\n",
      "m\n"
     ]
    }
   ],
   "source": [
    "s=input('Enter any string:')\n",
    "print('In Forward Direction')\n",
    "i=0\n",
    "while i<len(s):\n",
    "    print(s[i])\n",
    "    i=i+1\n",
    "print('in reverse direction')\n",
    "i=-1\n",
    "while i>=-len(s):\n",
    "    print(s[i])\n",
    "    i=i-1\n"
   ]
  },
  {
   "cell_type": "code",
   "execution_count": 24,
   "metadata": {},
   "outputs": [
    {
     "name": "stdout",
     "output_type": "stream",
     "text": [
      "Enter any string:SATYA\n",
      "In Forward Direction\n",
      "S\n",
      "A\n",
      "T\n",
      "Y\n",
      "A\n",
      "in reverse direction\n",
      "A\n",
      "Y\n",
      "T\n",
      "A\n",
      "S\n"
     ]
    }
   ],
   "source": [
    "s=input('Enter any string:')\n",
    "print('In Forward Direction')\n",
    "i=0\n",
    "n=len(s)\n",
    "while i<n:\n",
    "    print(s[i])\n",
    "    i=i+1\n",
    "print('in reverse direction')\n",
    "i=-1\n",
    "while i>=-n:\n",
    "    print(s[i])\n",
    "    i=i-1"
   ]
  },
  {
   "cell_type": "code",
   "execution_count": null,
   "metadata": {},
   "outputs": [],
   "source": []
  },
  {
   "cell_type": "code",
   "execution_count": null,
   "metadata": {},
   "outputs": [],
   "source": []
  },
  {
   "cell_type": "code",
   "execution_count": null,
   "metadata": {},
   "outputs": [],
   "source": []
  },
  {
   "cell_type": "code",
   "execution_count": null,
   "metadata": {},
   "outputs": [],
   "source": []
  }
 ],
 "metadata": {
  "kernelspec": {
   "display_name": "Python 3",
   "language": "python",
   "name": "python3"
  },
  "language_info": {
   "codemirror_mode": {
    "name": "ipython",
    "version": 3
   },
   "file_extension": ".py",
   "mimetype": "text/x-python",
   "name": "python",
   "nbconvert_exporter": "python",
   "pygments_lexer": "ipython3",
   "version": "3.7.4"
  }
 },
 "nbformat": 4,
 "nbformat_minor": 2
}
