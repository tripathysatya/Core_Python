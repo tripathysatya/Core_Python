{
 "cells": [
  {
   "cell_type": "code",
   "execution_count": null,
   "metadata": {},
   "outputs": [],
   "source": [
    "Comparision Of Strings.\n"
   ]
  },
  {
   "cell_type": "code",
   "execution_count": null,
   "metadata": {},
   "outputs": [],
   "source": [
    "How to remove 'spaces' from strings?\n",
    "How to ignore lower-case,upper-case from a string.\n",
    "\n",
    "Ans:strip()----->Removes spaces from both the end.\n",
    "    rstrip()---->Removes spaces @ right side.\n",
    "    lstrip()---->Removes spaces @ left side."
   ]
  },
  {
   "cell_type": "code",
   "execution_count": 4,
   "metadata": {},
   "outputs": [
    {
     "name": "stdout",
     "output_type": "stream",
     "text": [
      "Enter the 1st string:Satya\n",
      "Enter the 2nd string:satya\n",
      "1st string is lesser than 2nd string\n"
     ]
    }
   ],
   "source": [
    "s1=input('Enter the 1st string:')\n",
    "s2=input('Enter the 2nd string:')\n",
    "if s1==s2:\n",
    "    print('Both the strings are equal')\n",
    "elif s1<s2:\n",
    "    print('1st string is lesser than 2nd string')\n",
    "else:\n",
    "    print('1st string is greater than 2nd string')"
   ]
  },
  {
   "cell_type": "code",
   "execution_count": null,
   "metadata": {},
   "outputs": [],
   "source": []
  },
  {
   "cell_type": "code",
   "execution_count": 37,
   "metadata": {},
   "outputs": [
    {
     "name": "stdout",
     "output_type": "stream",
     "text": [
      "Enter the name of your cityChennai\n",
      "Hello Tamilian...Vanakam\n"
     ]
    }
   ],
   "source": [
    "city=input('Enter the name of your city')\n",
    "if city == 'Hyderabad':\n",
    "    print('Hello Hyderbadi....Aadab')\n",
    "elif city == 'Chennai':\n",
    "    print('Hello Tamilian...Vanakam')\n",
    "elif city == 'Bengaluru':\n",
    "    print('Hello Kannadiga....Namaskaram')\n",
    "else:\n",
    "    print('Your entered city' ,city ,' is invalid')\n"
   ]
  },
  {
   "cell_type": "code",
   "execution_count": null,
   "metadata": {},
   "outputs": [],
   "source": [
    "How to igonre the (SPACE) in between."
   ]
  },
  {
   "cell_type": "code",
   "execution_count": 38,
   "metadata": {},
   "outputs": [
    {
     "name": "stdout",
     "output_type": "stream",
     "text": [
      "Enter the name of your city   Chennai\n",
      "Hello Tamilian...Vanakam\n"
     ]
    }
   ],
   "source": [
    "city=input('Enter the name of your city')\n",
    "scity=city.strip()          # This method is used to reomove the spaces from both left & right side of the string. \n",
    "if scity == 'Hyderabad':\n",
    "    print('Hello Hyderbadi....Aadab')\n",
    "elif scity == 'Chennai':\n",
    "    print('Hello Tamilian...Vanakam')\n",
    "elif scity == 'Bengaluru':\n",
    "    print('Hello Kannadiga....Namaskaram')\n",
    "else:\n",
    "    print('Your entered city' ,city ,' is invalid')"
   ]
  },
  {
   "cell_type": "code",
   "execution_count": null,
   "metadata": {},
   "outputs": [],
   "source": [
    "How To Ignore The Uppper/Lower Case Letter:"
   ]
  },
  {
   "cell_type": "code",
   "execution_count": 39,
   "metadata": {},
   "outputs": [
    {
     "name": "stdout",
     "output_type": "stream",
     "text": [
      "Enter the name of your city    chennai\n",
      "Your entered city chennai  is invalid\n"
     ]
    }
   ],
   "source": [
    "city=input('Enter the name of your city').lower().strip()  # TO Check this\n",
    "if city == 'Hyderabad':\n",
    "    print('Hello Hyderbadi....Aadab')\n",
    "elif city == 'Chennai':\n",
    "    print('Hello Tamilian...Vanakam')\n",
    "elif city == 'Bengaluru':\n",
    "    print('Hello Kannadiga....Namaskaram')\n",
    "else:\n",
    "    print('Your entered city' ,city ,' is invalid')\n",
    "    "
   ]
  },
  {
   "cell_type": "code",
   "execution_count": null,
   "metadata": {},
   "outputs": [],
   "source": [
    "Finding Substrings:\n",
    "\n",
    "There are 2 methods:\n",
    "    find()----->From Left to right,Forward Direction\n",
    "    index()\n",
    "    rfind()----->Searchs the keyword from the reverse order.\n",
    "string.find(substring)---->Returns index of First Occurence of Given String.\n",
    "                      ---->Returns -1 Incase its not available."
   ]
  },
  {
   "cell_type": "code",
   "execution_count": null,
   "metadata": {},
   "outputs": [],
   "source": []
  },
  {
   "cell_type": "code",
   "execution_count": null,
   "metadata": {},
   "outputs": [],
   "source": []
  },
  {
   "cell_type": "code",
   "execution_count": 27,
   "metadata": {},
   "outputs": [
    {
     "name": "stdout",
     "output_type": "stream",
     "text": [
      "9\n"
     ]
    }
   ],
   "source": [
    "s='Learning python is very easy'\n",
    "print(s.find('python'))        #Python is @ 9th Index of the above string."
   ]
  },
  {
   "cell_type": "code",
   "execution_count": 24,
   "metadata": {},
   "outputs": [
    {
     "name": "stdout",
     "output_type": "stream",
     "text": [
      "9\n",
      "-1\n"
     ]
    }
   ],
   "source": [
    "s='Learning python is very python easy'\n",
    "print(s.find('python'))   #Python is @ 9th Index of the above string.\n",
    "print(s.find('Java'))     # Java is not availabe so returns -1"
   ]
  },
  {
   "cell_type": "code",
   "execution_count": 26,
   "metadata": {},
   "outputs": [
    {
     "name": "stdout",
     "output_type": "stream",
     "text": [
      "3\n"
     ]
    }
   ],
   "source": [
    "s='Learning python is very python easy'\n",
    "print(s.find('r'))  # r is found at the 3rd index of the above string.   "
   ]
  },
  {
   "cell_type": "code",
   "execution_count": 40,
   "metadata": {},
   "outputs": [
    {
     "name": "stdout",
     "output_type": "stream",
     "text": [
      "9\n",
      "27\n"
     ]
    }
   ],
   "source": [
    "s='Learning python is very easy'\n",
    "print(s.find('p'))\n",
    "print(s.rfind('y'))"
   ]
  },
  {
   "cell_type": "code",
   "execution_count": 30,
   "metadata": {},
   "outputs": [
    {
     "name": "stdout",
     "output_type": "stream",
     "text": [
      "16\n"
     ]
    }
   ],
   "source": [
    "s='Learning python is very easy'\n",
    "print(s.find('i',15,35)) # This will search i from index 15 to 25 and retuns the value\n"
   ]
  },
  {
   "cell_type": "code",
   "execution_count": null,
   "metadata": {},
   "outputs": [],
   "source": [
    "s.find(substring)\n",
    "s.find(substring,begin,end)\n"
   ]
  },
  {
   "cell_type": "code",
   "execution_count": 31,
   "metadata": {},
   "outputs": [
    {
     "name": "stdout",
     "output_type": "stream",
     "text": [
      "25\n"
     ]
    }
   ],
   "source": [
    "s='Learning python is very easy'\n",
    "print(s.find('a',15,35)) # This will search i from index 15 to 25 and retuns the value"
   ]
  },
  {
   "cell_type": "code",
   "execution_count": null,
   "metadata": {},
   "outputs": [],
   "source": [
    "Index():Method\n",
    "\n",
    "Index() is same as the \"Find\"\n",
    "But except that,if the substring isn't available we will get \"Value Error\""
   ]
  },
  {
   "cell_type": "code",
   "execution_count": 1,
   "metadata": {},
   "outputs": [
    {
     "name": "stdout",
     "output_type": "stream",
     "text": [
      "9\n",
      "10\n"
     ]
    }
   ],
   "source": [
    "s='Learning python is very easy'\n",
    "print(s.index('p'))\n",
    "print(s.index('y'))"
   ]
  },
  {
   "cell_type": "code",
   "execution_count": 4,
   "metadata": {},
   "outputs": [
    {
     "ename": "ValueError",
     "evalue": "substring not found",
     "output_type": "error",
     "traceback": [
      "\u001b[1;31m---------------------------------------------------------------------------\u001b[0m",
      "\u001b[1;31mValueError\u001b[0m                                Traceback (most recent call last)",
      "\u001b[1;32m<ipython-input-4-22649408692e>\u001b[0m in \u001b[0;36m<module>\u001b[1;34m\u001b[0m\n\u001b[0;32m      1\u001b[0m \u001b[0ms\u001b[0m\u001b[1;33m=\u001b[0m\u001b[1;34m'Learning python is very easy'\u001b[0m\u001b[1;33m\u001b[0m\u001b[1;33m\u001b[0m\u001b[0m\n\u001b[1;32m----> 2\u001b[1;33m \u001b[0mprint\u001b[0m\u001b[1;33m(\u001b[0m\u001b[0ms\u001b[0m\u001b[1;33m.\u001b[0m\u001b[0mindex\u001b[0m\u001b[1;33m(\u001b[0m\u001b[1;34m'z'\u001b[0m\u001b[1;33m)\u001b[0m\u001b[1;33m)\u001b[0m\u001b[1;31m# Value Error as the substring 'z' isn't availabe\u001b[0m\u001b[1;33m\u001b[0m\u001b[1;33m\u001b[0m\u001b[0m\n\u001b[0m",
      "\u001b[1;31mValueError\u001b[0m: substring not found"
     ]
    }
   ],
   "source": [
    "s='Learning python is very easy'\n",
    "print(s.index('z'))# Value Error as the substring 'z' isn't availabe\n"
   ]
  },
  {
   "cell_type": "code",
   "execution_count": null,
   "metadata": {},
   "outputs": [],
   "source": [
    "#WAP to display all positions in a sunstring from a main string"
   ]
  },
  {
   "cell_type": "code",
   "execution_count": 5,
   "metadata": {},
   "outputs": [
    {
     "name": "stdout",
     "output_type": "stream",
     "text": [
      "Enter the Main Stringaaaaaaaaabbbbbbbaaaaaaa\n",
      "Enter the sub stringab\n",
      "Found at index: 8\n",
      "The Total No Of occurence: 0\n"
     ]
    }
   ],
   "source": [
    "s=input('Enter the Main String')\n",
    "sub=input('Enter the sub string')\n",
    "n=len(s)\n",
    "pos=0\n",
    "count=0\n",
    "while True:\n",
    "    i=s.find(sub,pos,n)\n",
    "    if i ==-1:\n",
    "        break\n",
    "    else:\n",
    "        print('Found at index:',i)\n",
    "        pos=i+len(sub)\n",
    "print('The Total No Of occurence:',count)"
   ]
  },
  {
   "cell_type": "code",
   "execution_count": null,
   "metadata": {},
   "outputs": [],
   "source": [
    "By Using Count Method:"
   ]
  },
  {
   "cell_type": "code",
   "execution_count": 3,
   "metadata": {},
   "outputs": [
    {
     "name": "stdout",
     "output_type": "stream",
     "text": [
      "Enter the Main Stringaaaaaaaaabbbbbbaaaaaa\n",
      "Enter the sub stringab\n",
      "The Total Number Of Occurences: 1\n",
      "The Total Number Of Occurences: 1\n"
     ]
    }
   ],
   "source": [
    "s=input('Enter the Main String')\n",
    "sub=input('Enter the sub string')\n",
    "print('The Total Number Of Occurences:',s.count(sub))\n",
    "print('The Total Number Of Occurences:',s.count(sub,4,11))"
   ]
  },
  {
   "cell_type": "code",
   "execution_count": null,
   "metadata": {},
   "outputs": [],
   "source": [
    "Replace() Method:\n"
   ]
  },
  {
   "cell_type": "code",
   "execution_count": null,
   "metadata": {},
   "outputs": [],
   "source": [
    "# WAP to replace a atring with another Value."
   ]
  },
  {
   "cell_type": "code",
   "execution_count": 7,
   "metadata": {},
   "outputs": [
    {
     "name": "stdout",
     "output_type": "stream",
     "text": [
      "Learning python is easy\n",
      "Learning java is difficult\n"
     ]
    }
   ],
   "source": [
    "s='Learning python is difficult'\n",
    "s1=s.replace('difficult','easy')\n",
    "s2=s.replace('python','java')\n",
    "print(s1)\n",
    "print(s2)"
   ]
  },
  {
   "cell_type": "code",
   "execution_count": null,
   "metadata": {},
   "outputs": [],
   "source": []
  },
  {
   "cell_type": "code",
   "execution_count": null,
   "metadata": {},
   "outputs": [],
   "source": [
    "# WAP to replace the spaces in between the given string and count the number of spaces."
   ]
  },
  {
   "cell_type": "code",
   "execution_count": 12,
   "metadata": {},
   "outputs": [
    {
     "name": "stdout",
     "output_type": "stream",
     "text": [
      "abcdefghijklmnopqrstuvwxyz\n",
      "5\n"
     ]
    }
   ],
   "source": [
    "s='  abcdefg hijklmnop qrstuv wxyz'\n",
    "s1=s.replace(' ','')\n",
    "print(s1)    # The spaces are replaced with nothing.\n",
    "print(len(s)-len(s1))   # The count if blank spaces in between the given string"
   ]
  },
  {
   "cell_type": "code",
   "execution_count": null,
   "metadata": {},
   "outputs": [],
   "source": [
    "Q:If string is immutable then how the replace() function works?\n",
    "A:The changes aren't performed on the existing object ,rather a new object is created."
   ]
  },
  {
   "cell_type": "code",
   "execution_count": null,
   "metadata": {},
   "outputs": [],
   "source": [
    "split() method:\n",
    "    \n",
    "s.split(,)\n",
    "s.split(;)\n",
    "s.split(-)"
   ]
  },
  {
   "cell_type": "code",
   "execution_count": 14,
   "metadata": {},
   "outputs": [
    {
     "name": "stdout",
     "output_type": "stream",
     "text": [
      "Learning\n",
      "Python\n",
      "is\n",
      "Very\n",
      "Easy\n"
     ]
    }
   ],
   "source": [
    "s= 'Learning Python is Very Easy'\n",
    "l=s.split()\n",
    "for x in l:\n",
    "    print(x)"
   ]
  },
  {
   "cell_type": "code",
   "execution_count": 18,
   "metadata": {},
   "outputs": [
    {
     "name": "stdout",
     "output_type": "stream",
     "text": [
      "Learning Python is Very Easy\n"
     ]
    }
   ],
   "source": [
    "s='Learning Python is Very Easy'\n",
    "l= s.split(';')\n",
    "for x in l:\n",
    "    print(x)"
   ]
  },
  {
   "cell_type": "code",
   "execution_count": 19,
   "metadata": {},
   "outputs": [
    {
     "name": "stdout",
     "output_type": "stream",
     "text": [
      "01-Aug-2020\n"
     ]
    }
   ],
   "source": [
    "s='01-Aug-2020'\n",
    "l= s.split('_')\n",
    "for x in l:\n",
    "    print(x)"
   ]
  },
  {
   "cell_type": "code",
   "execution_count": null,
   "metadata": {},
   "outputs": [],
   "source": []
  }
 ],
 "metadata": {
  "kernelspec": {
   "display_name": "Python 3",
   "language": "python",
   "name": "python3"
  },
  "language_info": {
   "codemirror_mode": {
    "name": "ipython",
    "version": 3
   },
   "file_extension": ".py",
   "mimetype": "text/x-python",
   "name": "python",
   "nbconvert_exporter": "python",
   "pygments_lexer": "ipython3",
   "version": "3.7.4"
  }
 },
 "nbformat": 4,
 "nbformat_minor": 2
}
