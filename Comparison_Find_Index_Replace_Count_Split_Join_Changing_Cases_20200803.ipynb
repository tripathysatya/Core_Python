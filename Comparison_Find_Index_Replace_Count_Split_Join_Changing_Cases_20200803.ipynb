{
 "cells": [
  {
   "cell_type": "code",
   "execution_count": null,
   "metadata": {},
   "outputs": [],
   "source": [
    "Comparision Of Strings.\n"
   ]
  },
  {
   "cell_type": "code",
   "execution_count": null,
   "metadata": {},
   "outputs": [],
   "source": [
    "How to remove 'spaces' from strings?\n",
    "How to ignore lower-case,upper-case from a string.\n",
    "\n",
    "Ans:strip()----->Removes spaces from both the end.\n",
    "    rstrip()---->Removes spaces @ right side.\n",
    "    lstrip()---->Removes spaces @ left side."
   ]
  },
  {
   "cell_type": "code",
   "execution_count": 4,
   "metadata": {},
   "outputs": [
    {
     "name": "stdout",
     "output_type": "stream",
     "text": [
      "Enter the 1st string:Satya\n",
      "Enter the 2nd string:satya\n",
      "1st string is lesser than 2nd string\n"
     ]
    }
   ],
   "source": [
    "s1=input('Enter the 1st string:')\n",
    "s2=input('Enter the 2nd string:')\n",
    "if s1==s2:\n",
    "    print('Both the strings are equal')\n",
    "elif s1<s2:\n",
    "    print('1st string is lesser than 2nd string')\n",
    "else:\n",
    "    print('1st string is greater than 2nd string')"
   ]
  },
  {
   "cell_type": "code",
   "execution_count": null,
   "metadata": {},
   "outputs": [],
   "source": []
  },
  {
   "cell_type": "code",
   "execution_count": 37,
   "metadata": {},
   "outputs": [
    {
     "name": "stdout",
     "output_type": "stream",
     "text": [
      "Enter the name of your cityChennai\n",
      "Hello Tamilian...Vanakam\n"
     ]
    }
   ],
   "source": [
    "city=input('Enter the name of your city')\n",
    "if city == 'Hyderabad':\n",
    "    print('Hello Hyderbadi....Aadab')\n",
    "elif city == 'Chennai':\n",
    "    print('Hello Tamilian...Vanakam')\n",
    "elif city == 'Bengaluru':\n",
    "    print('Hello Kannadiga....Namaskaram')\n",
    "else:\n",
    "    print('Your entered city' ,city ,' is invalid')\n"
   ]
  },
  {
   "cell_type": "code",
   "execution_count": null,
   "metadata": {},
   "outputs": [],
   "source": [
    "How to igonre the (SPACE) in between."
   ]
  },
  {
   "cell_type": "code",
   "execution_count": 38,
   "metadata": {},
   "outputs": [
    {
     "name": "stdout",
     "output_type": "stream",
     "text": [
      "Enter the name of your city   Chennai\n",
      "Hello Tamilian...Vanakam\n"
     ]
    }
   ],
   "source": [
    "city=input('Enter the name of your city')\n",
    "scity=city.strip()          # This method is used to reomove the spaces from both left & right side of the string. \n",
    "if scity == 'Hyderabad':\n",
    "    print('Hello Hyderbadi....Aadab')\n",
    "elif scity == 'Chennai':\n",
    "    print('Hello Tamilian...Vanakam')\n",
    "elif scity == 'Bengaluru':\n",
    "    print('Hello Kannadiga....Namaskaram')\n",
    "else:\n",
    "    print('Your entered city' ,city ,' is invalid')"
   ]
  },
  {
   "cell_type": "code",
   "execution_count": null,
   "metadata": {},
   "outputs": [],
   "source": [
    "How To Ignore The Uppper/Lower Case Letter:"
   ]
  },
  {
   "cell_type": "code",
   "execution_count": 39,
   "metadata": {},
   "outputs": [
    {
     "name": "stdout",
     "output_type": "stream",
     "text": [
      "Enter the name of your city    chennai\n",
      "Your entered city chennai  is invalid\n"
     ]
    }
   ],
   "source": [
    "city=input('Enter the name of your city').lower().strip()  # TO Check this\n",
    "if city == 'Hyderabad':\n",
    "    print('Hello Hyderbadi....Aadab')\n",
    "elif city == 'Chennai':\n",
    "    print('Hello Tamilian...Vanakam')\n",
    "elif city == 'Bengaluru':\n",
    "    print('Hello Kannadiga....Namaskaram')\n",
    "else:\n",
    "    print('Your entered city' ,city ,' is invalid')\n",
    "    "
   ]
  },
  {
   "cell_type": "code",
   "execution_count": null,
   "metadata": {},
   "outputs": [],
   "source": [
    "Finding Substrings:\n",
    "\n",
    "There are 2 methods:\n",
    "    find()----->From Left to right,Forward Direction\n",
    "    index()\n",
    "    rfind()----->Searchs the keyword from the reverse order.\n",
    "string.find(substring)---->Returns index of First Occurence of Given String.\n",
    "                      ---->Returns -1 Incase its not available."
   ]
  },
  {
   "cell_type": "code",
   "execution_count": null,
   "metadata": {},
   "outputs": [],
   "source": []
  },
  {
   "cell_type": "code",
   "execution_count": null,
   "metadata": {},
   "outputs": [],
   "source": []
  },
  {
   "cell_type": "code",
   "execution_count": 27,
   "metadata": {},
   "outputs": [
    {
     "name": "stdout",
     "output_type": "stream",
     "text": [
      "9\n"
     ]
    }
   ],
   "source": [
    "s='Learning python is very easy'\n",
    "print(s.find('python'))        #Python is @ 9th Index of the above string."
   ]
  },
  {
   "cell_type": "code",
   "execution_count": 24,
   "metadata": {},
   "outputs": [
    {
     "name": "stdout",
     "output_type": "stream",
     "text": [
      "9\n",
      "-1\n"
     ]
    }
   ],
   "source": [
    "s='Learning python is very python easy'\n",
    "print(s.find('python'))   #Python is @ 9th Index of the above string.\n",
    "print(s.find('Java'))     # Java is not availabe so returns -1"
   ]
  },
  {
   "cell_type": "code",
   "execution_count": 26,
   "metadata": {},
   "outputs": [
    {
     "name": "stdout",
     "output_type": "stream",
     "text": [
      "3\n"
     ]
    }
   ],
   "source": [
    "s='Learning python is very python easy'\n",
    "print(s.find('r'))  # r is found at the 3rd index of the above string.   "
   ]
  },
  {
   "cell_type": "code",
   "execution_count": 40,
   "metadata": {},
   "outputs": [
    {
     "name": "stdout",
     "output_type": "stream",
     "text": [
      "9\n",
      "27\n"
     ]
    }
   ],
   "source": [
    "s='Learning python is very easy'\n",
    "print(s.find('p'))\n",
    "print(s.rfind('y'))"
   ]
  },
  {
   "cell_type": "code",
   "execution_count": 30,
   "metadata": {},
   "outputs": [
    {
     "name": "stdout",
     "output_type": "stream",
     "text": [
      "16\n"
     ]
    }
   ],
   "source": [
    "s='Learning python is very easy'\n",
    "print(s.find('i',15,35)) # This will search i from index 15 to 25 and retuns the value\n"
   ]
  },
  {
   "cell_type": "code",
   "execution_count": null,
   "metadata": {},
   "outputs": [],
   "source": [
    "s.find(substring)\n",
    "s.find(substring,begin,end)\n"
   ]
  },
  {
   "cell_type": "code",
   "execution_count": 31,
   "metadata": {},
   "outputs": [
    {
     "name": "stdout",
     "output_type": "stream",
     "text": [
      "25\n"
     ]
    }
   ],
   "source": [
    "s='Learning python is very easy'\n",
    "print(s.find('a',15,35)) # This will search i from index 15 to 25 and retuns the value"
   ]
  },
  {
   "cell_type": "code",
   "execution_count": null,
   "metadata": {},
   "outputs": [],
   "source": [
    "Index():Method\n",
    "\n",
    "Index() is same as the \"Find\"\n",
    "But except that,if the substring isn't available we will get \"Value Error\""
   ]
  },
  {
   "cell_type": "code",
   "execution_count": 1,
   "metadata": {},
   "outputs": [
    {
     "name": "stdout",
     "output_type": "stream",
     "text": [
      "9\n",
      "10\n"
     ]
    }
   ],
   "source": [
    "s='Learning python is very easy'\n",
    "print(s.index('p'))\n",
    "print(s.index('y'))"
   ]
  },
  {
   "cell_type": "code",
   "execution_count": 4,
   "metadata": {},
   "outputs": [
    {
     "ename": "ValueError",
     "evalue": "substring not found",
     "output_type": "error",
     "traceback": [
      "\u001b[1;31m---------------------------------------------------------------------------\u001b[0m",
      "\u001b[1;31mValueError\u001b[0m                                Traceback (most recent call last)",
      "\u001b[1;32m<ipython-input-4-22649408692e>\u001b[0m in \u001b[0;36m<module>\u001b[1;34m\u001b[0m\n\u001b[0;32m      1\u001b[0m \u001b[0ms\u001b[0m\u001b[1;33m=\u001b[0m\u001b[1;34m'Learning python is very easy'\u001b[0m\u001b[1;33m\u001b[0m\u001b[1;33m\u001b[0m\u001b[0m\n\u001b[1;32m----> 2\u001b[1;33m \u001b[0mprint\u001b[0m\u001b[1;33m(\u001b[0m\u001b[0ms\u001b[0m\u001b[1;33m.\u001b[0m\u001b[0mindex\u001b[0m\u001b[1;33m(\u001b[0m\u001b[1;34m'z'\u001b[0m\u001b[1;33m)\u001b[0m\u001b[1;33m)\u001b[0m\u001b[1;31m# Value Error as the substring 'z' isn't availabe\u001b[0m\u001b[1;33m\u001b[0m\u001b[1;33m\u001b[0m\u001b[0m\n\u001b[0m",
      "\u001b[1;31mValueError\u001b[0m: substring not found"
     ]
    }
   ],
   "source": [
    "s='Learning python is very easy'\n",
    "print(s.index('z'))# Value Error as the substring 'z' isn't availabe\n"
   ]
  },
  {
   "cell_type": "code",
   "execution_count": null,
   "metadata": {},
   "outputs": [],
   "source": [
    "#WAP to display all positions in a sunstring from a main string"
   ]
  },
  {
   "cell_type": "code",
   "execution_count": 5,
   "metadata": {},
   "outputs": [
    {
     "name": "stdout",
     "output_type": "stream",
     "text": [
      "Enter the Main Stringaaaaaaaaabbbbbbbaaaaaaa\n",
      "Enter the sub stringab\n",
      "Found at index: 8\n",
      "The Total No Of occurence: 0\n"
     ]
    }
   ],
   "source": [
    "s=input('Enter the Main String')\n",
    "sub=input('Enter the sub string')\n",
    "n=len(s)\n",
    "pos=0\n",
    "count=0\n",
    "while True:\n",
    "    i=s.find(sub,pos,n)\n",
    "    if i ==-1:\n",
    "        break\n",
    "    else:\n",
    "        print('Found at index:',i)\n",
    "        pos=i+len(sub)\n",
    "print('The Total No Of occurence:',count)"
   ]
  },
  {
   "cell_type": "code",
   "execution_count": null,
   "metadata": {},
   "outputs": [],
   "source": [
    "By Using Count Method:"
   ]
  },
  {
   "cell_type": "code",
   "execution_count": 3,
   "metadata": {},
   "outputs": [
    {
     "name": "stdout",
     "output_type": "stream",
     "text": [
      "Enter the Main Stringaaaaaaaaabbbbbbaaaaaa\n",
      "Enter the sub stringab\n",
      "The Total Number Of Occurences: 1\n",
      "The Total Number Of Occurences: 1\n"
     ]
    }
   ],
   "source": [
    "s=input('Enter the Main String')\n",
    "sub=input('Enter the sub string')\n",
    "print('The Total Number Of Occurences:',s.count(sub))\n",
    "print('The Total Number Of Occurences:',s.count(sub,4,11))"
   ]
  },
  {
   "cell_type": "code",
   "execution_count": null,
   "metadata": {},
   "outputs": [],
   "source": [
    "Replace() Method:\n"
   ]
  },
  {
   "cell_type": "code",
   "execution_count": null,
   "metadata": {},
   "outputs": [],
   "source": [
    "# WAP to replace a atring with another Value."
   ]
  },
  {
   "cell_type": "code",
   "execution_count": 7,
   "metadata": {},
   "outputs": [
    {
     "name": "stdout",
     "output_type": "stream",
     "text": [
      "Learning python is easy\n",
      "Learning java is difficult\n"
     ]
    }
   ],
   "source": [
    "s='Learning python is difficult'\n",
    "s1=s.replace('difficult','easy')\n",
    "s2=s.replace('python','java')\n",
    "print(s1)\n",
    "print(s2)"
   ]
  },
  {
   "cell_type": "code",
   "execution_count": null,
   "metadata": {},
   "outputs": [],
   "source": []
  },
  {
   "cell_type": "code",
   "execution_count": null,
   "metadata": {},
   "outputs": [],
   "source": [
    "# WAP to replace the spaces in between the given string and count the number of spaces."
   ]
  },
  {
   "cell_type": "code",
   "execution_count": 12,
   "metadata": {},
   "outputs": [
    {
     "name": "stdout",
     "output_type": "stream",
     "text": [
      "abcdefghijklmnopqrstuvwxyz\n",
      "5\n"
     ]
    }
   ],
   "source": [
    "s='  abcdefg hijklmnop qrstuv wxyz'\n",
    "s1=s.replace(' ','')\n",
    "print(s1)    # The spaces are replaced with nothing.\n",
    "print(len(s)-len(s1))   # The count if blank spaces in between the given string"
   ]
  },
  {
   "cell_type": "code",
   "execution_count": null,
   "metadata": {},
   "outputs": [],
   "source": [
    "Q:If string is immutable then how the replace() function works?\n",
    "A:The changes aren't performed on the existing object ,rather a new object is created."
   ]
  },
  {
   "cell_type": "code",
   "execution_count": null,
   "metadata": {},
   "outputs": [],
   "source": [
    "split() method:\n",
    "    \n",
    "s.split(,)\n",
    "s.split(;)\n",
    "s.split(-)"
   ]
  },
  {
   "cell_type": "code",
   "execution_count": 14,
   "metadata": {},
   "outputs": [
    {
     "name": "stdout",
     "output_type": "stream",
     "text": [
      "Learning\n",
      "Python\n",
      "is\n",
      "Very\n",
      "Easy\n"
     ]
    }
   ],
   "source": [
    "s= 'Learning Python is Very Easy'\n",
    "l=s.split()\n",
    "for x in l:\n",
    "    print(x)"
   ]
  },
  {
   "cell_type": "code",
   "execution_count": 18,
   "metadata": {},
   "outputs": [
    {
     "name": "stdout",
     "output_type": "stream",
     "text": [
      "Learning Python is Very Easy\n"
     ]
    }
   ],
   "source": [
    "s='Learning Python is Very Easy'\n",
    "l= s.split(';')\n",
    "for x in l:\n",
    "    print(x)"
   ]
  },
  {
   "cell_type": "code",
   "execution_count": 19,
   "metadata": {},
   "outputs": [
    {
     "name": "stdout",
     "output_type": "stream",
     "text": [
      "01-Aug-2020\n"
     ]
    }
   ],
   "source": [
    "s='01-Aug-2020'\n",
    "l= s.split('_')\n",
    "for x in l:\n",
    "    print(x)"
   ]
  },
  {
   "cell_type": "code",
   "execution_count": null,
   "metadata": {},
   "outputs": [],
   "source": [
    "join() Method:\n"
   ]
  },
  {
   "cell_type": "code",
   "execution_count": 5,
   "metadata": {},
   "outputs": [
    {
     "name": "stdout",
     "output_type": "stream",
     "text": [
      "sunny_bunny_chinny\n"
     ]
    }
   ],
   "source": [
    "l=['sunny','bunny','chinny']\n",
    "s='_'.join(l)\n",
    "print(s)"
   ]
  },
  {
   "cell_type": "code",
   "execution_count": 7,
   "metadata": {},
   "outputs": [
    {
     "name": "stdout",
     "output_type": "stream",
     "text": [
      "10203040\n"
     ]
    }
   ],
   "source": [
    "t=('10','20','30','40')\n",
    "s=''.join(t)\n",
    "print(s)"
   ]
  },
  {
   "cell_type": "code",
   "execution_count": null,
   "metadata": {},
   "outputs": [],
   "source": [
    "Changing Case of a string:\n",
    "upper()==>From Lower to Upper\n",
    "lower()==>From Upper to Lower\n",
    "swapcase()==>Lower to Upper & Upper To Lower\n",
    "title()==>Each word in a upper case\n",
    "capitalize()==>Only the 1st letter is in upper case."
   ]
  },
  {
   "cell_type": "code",
   "execution_count": 13,
   "metadata": {},
   "outputs": [
    {
     "name": "stdout",
     "output_type": "stream",
     "text": [
      "LEARING PYTHON IS VERY EASY\n",
      "learing python is very easy\n",
      "LEARING python IS VERY EASY\n",
      "Learing Python Is Very Easy\n",
      "Learing python is very easy\n"
     ]
    }
   ],
   "source": [
    "s='learing PYTHON is very easy'\n",
    "print(s.upper())\n",
    "print(s.lower())\n",
    "print(s.swapcase())\n",
    "print(s.title())\n",
    "print(s.capitalize())"
   ]
  },
  {
   "cell_type": "code",
   "execution_count": null,
   "metadata": {},
   "outputs": [],
   "source": [
    "To Check type of characters in a given String:\n",
    "    \n",
    "isalnum ==>atoz,AtoZ,0to9\n",
    "isalpha ==>atoz & AtoZ\n",
    "isdigit ==>0to9\n",
    "islower ==>If every alphabet is lower-case\n",
    "isupper ==> If Ebery alphabet is upper-case.\n",
    "istitle ==> If the string is in title-case\n",
    "isspace ==> If the string contains only spaces."
   ]
  },
  {
   "cell_type": "code",
   "execution_count": 26,
   "metadata": {},
   "outputs": [
    {
     "name": "stdout",
     "output_type": "stream",
     "text": [
      "True\n",
      "False\n",
      "True\n",
      "True\n",
      "False\n",
      "True\n",
      "True\n",
      "True\n",
      "False\n",
      "False\n",
      "True\n",
      "False\n"
     ]
    }
   ],
   "source": [
    "print ('durga786'.isalnum())\n",
    "print ('durga786'.isalpha())\n",
    "print ('DurgaA'.isalpha())\n",
    "print ('65783869'.isdigit())\n",
    "print ('India'.islower())\n",
    "print ('india'.islower())\n",
    "print ('india123'.islower())\n",
    "print ('ABC123'.isupper())\n",
    "print ('Leaaring Python is very easy'.istitle())\n",
    "print (''.isspace())\n",
    "print ('     '.isspace())\n",
    "print ('a b c d'.isspace())\n"
   ]
  },
  {
   "cell_type": "code",
   "execution_count": 46,
   "metadata": {},
   "outputs": [
    {
     "name": "stdout",
     "output_type": "stream",
     "text": [
      "False\n"
     ]
    }
   ],
   "source": [
    "print ('learing python is easy'.isalpha())"
   ]
  },
  {
   "cell_type": "code",
   "execution_count": 47,
   "metadata": {},
   "outputs": [
    {
     "name": "stdout",
     "output_type": "stream",
     "text": [
      "Enter any character:Learnigpythoniseasy\n",
      "Alpha Numeric Character\n",
      "Alphabet character\n",
      "Upper case alphabet character\n"
     ]
    }
   ],
   "source": [
    "s=input('Enter any character:')\n",
    "if s.isalnum():\n",
    "    print('Alpha Numeric Character')\n",
    "    if s.isalpha():\n",
    "        print('Alphabet character')\n",
    "        if s.islower():\n",
    "            print('Lower case Alphabet Character')\n",
    "        else:\n",
    "            print('Upper case alphabet character')\n",
    "    else:\n",
    "        print('It is a digit')\n",
    "elif s.isspace():\n",
    "    print('it is space character')\n",
    "else:\n",
    "    print('non space, special charcter')"
   ]
  },
  {
   "cell_type": "code",
   "execution_count": null,
   "metadata": {},
   "outputs": [],
   "source": [
    "Chacking Starting & Ending part of a string:"
   ]
  },
  {
   "cell_type": "code",
   "execution_count": 36,
   "metadata": {},
   "outputs": [
    {
     "name": "stdout",
     "output_type": "stream",
     "text": [
      "False\n",
      "False\n",
      "False\n",
      "True\n"
     ]
    }
   ],
   "source": [
    "s='Learning pyton is very easy'\n",
    "print(s.startswith('l'))\n",
    "print(s.startswith('learning python'))\n",
    "print(s.endswith('python'))\n",
    "print(s.endswith('easy'))"
   ]
  },
  {
   "cell_type": "code",
   "execution_count": null,
   "metadata": {},
   "outputs": [],
   "source": [
    "reverse()"
   ]
  },
  {
   "cell_type": "code",
   "execution_count": 2,
   "metadata": {},
   "outputs": [
    {
     "name": "stdout",
     "output_type": "stream",
     "text": [
      "Enter Any StringSatya\n",
      "aytaS\n"
     ]
    }
   ],
   "source": [
    "s=input('Enter Any String')\n",
    "r=reversed(s)\n",
    "output=''.join(r)\n",
    "print(output)"
   ]
  },
  {
   "cell_type": "code",
   "execution_count": 9,
   "metadata": {},
   "outputs": [
    {
     "name": "stdout",
     "output_type": "stream",
     "text": [
      "Enter Any StringSatya\n",
      "<class 'str'>\n",
      "aytaS\n"
     ]
    }
   ],
   "source": [
    "s=input('Enter Any String')\n",
    "r=reversed(s)\n",
    "op=''.join(r)\n",
    "print(type(op))     # The output is a string type.\n",
    "print(op)"
   ]
  },
  {
   "cell_type": "code",
   "execution_count": null,
   "metadata": {},
   "outputs": [],
   "source": [
    "# WAP to reverse a string without using reverse()"
   ]
  },
  {
   "cell_type": "code",
   "execution_count": 5,
   "metadata": {},
   "outputs": [
    {
     "name": "stdout",
     "output_type": "stream",
     "text": [
      "Enter any stringIndia\n",
      "aidnI\n"
     ]
    }
   ],
   "source": [
    "s=input('Enter any string')\n",
    "i=len(s)-1\n",
    "target=''\n",
    "while i>=0:\n",
    "    target=target+s[i]\n",
    "    i=i-1\n",
    "print(target)\n"
   ]
  },
  {
   "cell_type": "code",
   "execution_count": 7,
   "metadata": {},
   "outputs": [
    {
     "name": "stdout",
     "output_type": "stream",
     "text": [
      "['Learning', 'Python', 'is', 'Very', 'Easy']\n",
      "['Easy', 'Very', 'is', 'Python', 'Learning']\n"
     ]
    }
   ],
   "source": [
    "s='Learning Python is Very Easy'\n",
    "l=s.split()\n",
    "print(l)\n",
    "l1=[]\n",
    "i=len(l)-1\n",
    "while i>=0:\n",
    "    l1.append(l[i])\n",
    "    i=i-1\n",
    "print(l1)"
   ]
  },
  {
   "cell_type": "code",
   "execution_count": 10,
   "metadata": {},
   "outputs": [
    {
     "name": "stdout",
     "output_type": "stream",
     "text": [
      "['Learning', 'Python', 'is', 'Very', 'Easy']\n",
      "['Easy', 'Very', 'is', 'Python', 'Learning']\n",
      "aytaS\n"
     ]
    }
   ],
   "source": [
    "s='Learning Python is Very Easy'\n",
    "l=s.split()\n",
    "print(l)\n",
    "l1=[]\n",
    "i=len(l)-1\n",
    "while i>=0:\n",
    "    l1.append(l[i])\n",
    "    i=i-1\n",
    "print(l1)\n",
    "ouptput=''.join(l1)\n",
    "print(output)"
   ]
  },
  {
   "cell_type": "code",
   "execution_count": 11,
   "metadata": {},
   "outputs": [
    {
     "name": "stdout",
     "output_type": "stream",
     "text": [
      "Enter any stringLearning python is easy\n",
      "['Learning', 'python', 'is', 'easy']\n",
      "['easy', 'is', 'python', 'Learning']\n",
      "aytaS\n"
     ]
    }
   ],
   "source": [
    "s=input('Enter any string:')\n",
    "l=s.split()\n",
    "print(l)\n",
    "l1=[]\n",
    "i=len(l)-1\n",
    "while i>=0:\n",
    "    l1.append(l[i])\n",
    "    i=i-1\n",
    "print(l1)\n",
    "ouptput=''.join(l1)\n",
    "print(output)"
   ]
  },
  {
   "cell_type": "code",
   "execution_count": 12,
   "metadata": {},
   "outputs": [
    {
     "name": "stdout",
     "output_type": "stream",
     "text": [
      "Enter any string:Learning python is easy\n",
      "['easy', 'is', 'python', 'Learning']\n",
      "aytaS\n"
     ]
    }
   ],
   "source": [
    "s=input('Enter any string:')\n",
    "l=s.split()\n",
    "l1=[]\n",
    "i=len(l)-1\n",
    "while i>=0:\n",
    "    l1.append(l[i])\n",
    "    i=i-1\n",
    "print(l1)\n",
    "ouptput=''.join(l1)\n",
    "print(output)"
   ]
  },
  {
   "cell_type": "code",
   "execution_count": null,
   "metadata": {},
   "outputs": [],
   "source": [
    "Q2:WAP to reverse the internal content of each word."
   ]
  },
  {
   "cell_type": "code",
   "execution_count": 1,
   "metadata": {},
   "outputs": [
    {
     "name": "stdout",
     "output_type": "stream",
     "text": [
      "['one', 'two', 'three']\n",
      "['eno', 'owt', 'eerht']\n"
     ]
    }
   ],
   "source": [
    "s='one two three'\n",
    "l=s.split()\n",
    "print(l)   #['one','two','three']\n",
    "l1=[]\n",
    "for x in l:\n",
    "    l1.append(x[::-1])\n",
    "print(l1)"
   ]
  },
  {
   "cell_type": "code",
   "execution_count": null,
   "metadata": {},
   "outputs": [],
   "source": [
    "# Q2:WAP to reverse the internal content of each word and concatenate them together."
   ]
  },
  {
   "cell_type": "code",
   "execution_count": 4,
   "metadata": {},
   "outputs": [
    {
     "name": "stdout",
     "output_type": "stream",
     "text": [
      "['one', 'two', 'three']\n",
      "['eno', 'owt', 'eerht']\n",
      "one two three\n",
      "enoowteerht\n"
     ]
    }
   ],
   "source": [
    "s='one two three'\n",
    "l=s.split()\n",
    "print(l)             #['one','two','three']\n",
    "l1=[]\n",
    "for x in l:\n",
    "    l1.append(x[::-1])  #['eno','owt','eerht']\n",
    "print(l1)            \n",
    "output=''.join(l1)\n",
    "print(s)\n",
    "print(output)\n",
    "                     \n"
   ]
  },
  {
   "cell_type": "code",
   "execution_count": 5,
   "metadata": {},
   "outputs": [
    {
     "name": "stdout",
     "output_type": "stream",
     "text": [
      "Enter Any StringLearning python is easy\n",
      "['Learning', 'python', 'is', 'easy']\n",
      "['gninraeL', 'nohtyp', 'si', 'ysae']\n",
      "Learning python is easy\n",
      "gninraeLnohtypsiysae\n"
     ]
    }
   ],
   "source": [
    "s=input('Enter Any String')\n",
    "l=s.split()\n",
    "print(l)             #['one','two','three']\n",
    "l1=[]\n",
    "for x in l:\n",
    "    l1.append(x[::-1])\n",
    "print(l1)            #['eno','owt','eerht']\n",
    "output=''.join(l1)\n",
    "print(s)\n",
    "print(output)\n",
    "                "
   ]
  },
  {
   "cell_type": "code",
   "execution_count": null,
   "metadata": {},
   "outputs": [],
   "source": [
    "#Q WAP to print characters @ odd position & Even Position for a given string."
   ]
  },
  {
   "cell_type": "code",
   "execution_count": 7,
   "metadata": {},
   "outputs": [
    {
     "name": "stdout",
     "output_type": "stream",
     "text": [
      "Enter Any String:Learning python is easy\n",
      "characters at Even Position: Lann yhni ay\n",
      "characters at Even Position: erigpto ses\n"
     ]
    }
   ],
   "source": [
    "s=input('Enter Any String:')\n",
    "print('characters at Even Position:',s[0::2])\n",
    "print('characters at odd Position:',s[1::2])"
   ]
  },
  {
   "cell_type": "code",
   "execution_count": null,
   "metadata": {},
   "outputs": [],
   "source": [
    "Alternative Method:"
   ]
  },
  {
   "cell_type": "code",
   "execution_count": 8,
   "metadata": {},
   "outputs": [
    {
     "name": "stdout",
     "output_type": "stream",
     "text": [
      "Enter Any String:Satya prakash Tripathy\n",
      "characters at Even Position:\n",
      "StapaahTiah\n",
      "characters at odd Position:\n",
      "a,y, ,r,k,s, ,r,p,t,y,"
     ]
    }
   ],
   "source": [
    "s=input('Enter Any String:')\n",
    "print('characters at Even Position:')\n",
    "i=0\n",
    "while i<len(s):\n",
    "    print(s[i],end='')\n",
    "    i=i+2\n",
    "print()\n",
    "print('characters at odd Position:')\n",
    "i=1\n",
    "while i<len(s):\n",
    "    print(s[i],end=',')\n",
    "    i=i+2"
   ]
  },
  {
   "cell_type": "code",
   "execution_count": null,
   "metadata": {},
   "outputs": [],
   "source": [
    "#Q WAP to merge character in string into a single string by taking the characters alternatively."
   ]
  },
  {
   "cell_type": "code",
   "execution_count": 9,
   "metadata": {},
   "outputs": [
    {
     "name": "stdout",
     "output_type": "stream",
     "text": [
      "rtaevjia\n"
     ]
    }
   ],
   "source": [
    "s1='ravi'\n",
    "s2='teja'\n",
    "output=''\n",
    "i,j=0,0\n",
    "while i < len(s1) or j < len(s2):\n",
    "    output=output+s1[i]+s2[j]\n",
    "    i=i+1\n",
    "    j=j+1\n",
    "print(output)"
   ]
  },
  {
   "cell_type": "code",
   "execution_count": 16,
   "metadata": {},
   "outputs": [
    {
     "name": "stdout",
     "output_type": "stream",
     "text": [
      "rtaevjiakiran\n"
     ]
    }
   ],
   "source": [
    "s1='ravikiran'\n",
    "s2='teja'\n",
    "i,j=0,0\n",
    "output=''\n",
    "output=''\n",
    "while i < len(s1) or j < len(s2):\n",
    "    if i<len(s1):\n",
    "        output=output+s1[i]\n",
    "        i=i+1\n",
    "    if j < len(s2):\n",
    "        output=output+s2[j]\n",
    "        j=j+1\n",
    "print(output)"
   ]
  },
  {
   "cell_type": "code",
   "execution_count": 1,
   "metadata": {},
   "outputs": [
    {
     "name": "stdout",
     "output_type": "stream",
     "text": [
      "Enter the First String:ABCDE\n",
      "Enter the second string:12345\n",
      "A1B2C3D4E5\n"
     ]
    }
   ],
   "source": [
    "s1=input('Enter the First String:')\n",
    "s2=input('Enter the second string:')\n",
    "i,j=0,0\n",
    "output=''\n",
    "output=''\n",
    "while i < len(s1) or j < len(s2):   #At least one string contains character\n",
    "    if i<len(s1):\n",
    "        output=output+s1[i]\n",
    "        i=i+1\n",
    "    if j < len(s2):                 #If s2 Contains Characters\n",
    "        output=output+s2[j]   \n",
    "        j=j+1\n",
    "print(output)"
   ]
  },
  {
   "cell_type": "code",
   "execution_count": null,
   "metadata": {},
   "outputs": [],
   "source": [
    "# WAP to sort characters present in a given string .\n",
    "First Alphabet ,then numbers"
   ]
  },
  {
   "cell_type": "code",
   "execution_count": 3,
   "metadata": {},
   "outputs": [
    {
     "name": "stdout",
     "output_type": "stream",
     "text": [
      "ABD134\n"
     ]
    }
   ],
   "source": [
    "s='B4A1D3'\n",
    "s1=s2=''\n",
    "for x in s:\n",
    "    if x.isalpha():\n",
    "        s1=s1+x\n",
    "    else:\n",
    "        s2=s2+x\n",
    "output=''\n",
    "for x in sorted(s1):\n",
    "    output=output+x\n",
    "for x in sorted(s2):\n",
    "    output=output+x\n",
    "print(output)\n",
    "\n"
   ]
  },
  {
   "cell_type": "code",
   "execution_count": 1,
   "metadata": {},
   "outputs": [
    {
     "name": "stdout",
     "output_type": "stream",
     "text": [
      "Enter any alphanumeric string:A2B4C9D5\n",
      "ABCD2459\n"
     ]
    }
   ],
   "source": [
    "s=input('Enter any alphanumeric string:')\n",
    "s1=s2=''\n",
    "for x in s:\n",
    "    if x.isalpha():\n",
    "        s1=s1+x\n",
    "    else:\n",
    "        s2=s2+x\n",
    "output=''.join(sorted(s1)+sorted(s2))   #Sorted Function is used here\n",
    "print(output)\n"
   ]
  },
  {
   "cell_type": "code",
   "execution_count": null,
   "metadata": {},
   "outputs": [],
   "source": [
    "#Q WAP to print:input a2b3c4d5 as aabbbccccddddd\n"
   ]
  },
  {
   "cell_type": "code",
   "execution_count": 3,
   "metadata": {},
   "outputs": [
    {
     "name": "stdout",
     "output_type": "stream",
     "text": [
      "aaaabbbcc\n"
     ]
    }
   ],
   "source": [
    "s='a4b3c2'\n",
    "output=''\n",
    "for x in s:\n",
    "    if x.isalpha():\n",
    "        char=x\n",
    "    else:\n",
    "        #output=output+char*x # can't multiply sequence by non-int of type 'str'\n",
    "        output=output+char*int(x)\n",
    "print(output)"
   ]
  },
  {
   "cell_type": "code",
   "execution_count": 4,
   "metadata": {},
   "outputs": [
    {
     "name": "stdout",
     "output_type": "stream",
     "text": [
      "Enter any String:a9b4c7f5\n",
      "aaaaaaaaabbbbcccccccfffff\n"
     ]
    }
   ],
   "source": [
    "s=input('Enter any String:')\n",
    "output=''\n",
    "for x in s:\n",
    "    if x.isalpha():\n",
    "        char=x\n",
    "    else:\n",
    "        #output=output+char*x # can't multiply sequence by non-int of type 'str'\n",
    "        output=output+char*int(x)\n",
    "print(output)"
   ]
  },
  {
   "cell_type": "code",
   "execution_count": 5,
   "metadata": {},
   "outputs": [
    {
     "name": "stdout",
     "output_type": "stream",
     "text": [
      "Enter any String:A10B30C11\n",
      "AAAAAAAAAABBBBBBBBBBBBBBBBBBBBBBBBBBBBBBCCCCCCCCCCC\n"
     ]
    }
   ],
   "source": [
    "s=input('Enter any String:')\n",
    "output=''\n",
    "num=''\n",
    "i=0\n",
    "while i < len(s):\n",
    "    if s[i].isalpha():\n",
    "        ch=s[i]\n",
    "    else:\n",
    "        num=num+s[i]\n",
    "        if i==len(s)-1:\n",
    "            output=output+ch*int(num)\n",
    "        if i+1<len(s) and s[i+1].isalpha():\n",
    "            output=output+ch*int(num)\n",
    "            num=''\n",
    "    i=i+1\n",
    "print(output)"
   ]
  },
  {
   "cell_type": "code",
   "execution_count": 7,
   "metadata": {},
   "outputs": [
    {
     "name": "stdout",
     "output_type": "stream",
     "text": [
      "Enter any String:A10B12C21D34\n",
      "AAAAAAAAAA_BBBBBBBBBBBB_CCCCCCCCCCCCCCCCCCCCC_DDDDDDDDDDDDDDDDDDDDDDDDDDDDDDDDDD\n"
     ]
    }
   ],
   "source": [
    "s=input('Enter any String:')\n",
    "output=''\n",
    "num=''\n",
    "i=0\n",
    "while i < len(s):\n",
    "    if s[i].isalpha():\n",
    "        ch=s[i]\n",
    "    else:\n",
    "        num=num+s[i]\n",
    "        if i==len(s)-1:\n",
    "            output=output+ch*int(num)\n",
    "        if i+1<len(s) and s[i+1].isalpha():\n",
    "            output=output+ch*int(num)+'_'   #Separeted by underscore(_)\n",
    "            num=''\n",
    "    i=i+1\n",
    "print(output)"
   ]
  },
  {
   "cell_type": "code",
   "execution_count": null,
   "metadata": {},
   "outputs": [],
   "source": []
  },
  {
   "cell_type": "code",
   "execution_count": null,
   "metadata": {},
   "outputs": [],
   "source": []
  },
  {
   "cell_type": "code",
   "execution_count": null,
   "metadata": {},
   "outputs": [],
   "source": []
  },
  {
   "cell_type": "code",
   "execution_count": null,
   "metadata": {},
   "outputs": [],
   "source": []
  },
  {
   "cell_type": "code",
   "execution_count": null,
   "metadata": {},
   "outputs": [],
   "source": []
  },
  {
   "cell_type": "code",
   "execution_count": null,
   "metadata": {},
   "outputs": [],
   "source": []
  },
  {
   "cell_type": "code",
   "execution_count": null,
   "metadata": {},
   "outputs": [],
   "source": []
  },
  {
   "cell_type": "code",
   "execution_count": null,
   "metadata": {},
   "outputs": [],
   "source": []
  }
 ],
 "metadata": {
  "kernelspec": {
   "display_name": "Python 3",
   "language": "python",
   "name": "python3"
  },
  "language_info": {
   "codemirror_mode": {
    "name": "ipython",
    "version": 3
   },
   "file_extension": ".py",
   "mimetype": "text/x-python",
   "name": "python",
   "nbconvert_exporter": "python",
   "pygments_lexer": "ipython3",
   "version": "3.7.4"
  }
 },
 "nbformat": 4,
 "nbformat_minor": 2
}
